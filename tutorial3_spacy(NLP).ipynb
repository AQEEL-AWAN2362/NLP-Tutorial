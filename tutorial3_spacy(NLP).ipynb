{
 "cells": [
  {
   "cell_type": "code",
   "execution_count": 1,
   "metadata": {
    "executionInfo": {
     "elapsed": 1620,
     "status": "ok",
     "timestamp": 1754134951542,
     "user": {
      "displayName": "Muhammad Shakir",
      "userId": "05932839632612654057"
     },
     "user_tz": -300
    },
    "id": "E0FyzIABP_P2"
   },
   "outputs": [],
   "source": [
    "\n",
    "# python -m spacy download en_core_web_sm   for downloadind\n",
    "\n",
    "import spacy\n",
    "nlp=spacy.load(\"en_core_web_sm\")"
   ]
  },
  {
   "cell_type": "code",
   "execution_count": 2,
   "metadata": {
    "colab": {
     "base_uri": "https://localhost:8080/"
    },
    "executionInfo": {
     "elapsed": 34,
     "status": "ok",
     "timestamp": 1754134951546,
     "user": {
      "displayName": "Muhammad Shakir",
      "userId": "05932839632612654057"
     },
     "user_tz": -300
    },
    "id": "QB3PUYIEReFk",
    "outputId": "d7968171-428e-4cea-d3e6-f0ea16ad4dc2"
   },
   "outputs": [
    {
     "name": "stdout",
     "output_type": "stream",
     "text": [
      "Nikola Tesla | ORG | Companies, agencies, institutions, etc.\n",
      "AC | ORG | Companies, agencies, institutions, etc.\n",
      "Tesla | ORG | Companies, agencies, institutions, etc.\n",
      "Tesla | ORG | Companies, agencies, institutions, etc.\n"
     ]
    }
   ],
   "source": [
    "doc=nlp(\"\"\"\"Tesla For electric motors invented by Nikola Tesla, see Induction motor and AC motor.\n",
    "For the electrotechnical company, see Tesla a.s. For other uses, see Tesla (disambiguation).Twitter owner name is mask.\"\"\")\n",
    "\n",
    "for ent in doc.ents:\n",
    "  print(ent.text,\"|\",ent.label_,\"|\",spacy.explain(ent.label_))"
   ]
  },
  {
   "cell_type": "code",
   "execution_count": 3,
   "metadata": {
    "executionInfo": {
     "elapsed": 21,
     "status": "ok",
     "timestamp": 1754134951570,
     "user": {
      "displayName": "Muhammad Shakir",
      "userId": "05932839632612654057"
     },
     "user_tz": -300
    },
    "id": "Y0tg9WbzSJdx"
   },
   "outputs": [],
   "source": [
    "# customize the ner\n",
    "from spacy.tokens import Span\n",
    "s1=Span(doc,6,7, label=\"Person\")\n",
    "s2=Span(doc,13,14, label=\"ORG\")\n",
    "doc.set_ents([s1,s2],default=\"unmodified\")"
   ]
  },
  {
   "cell_type": "code",
   "execution_count": 4,
   "metadata": {
    "colab": {
     "base_uri": "https://localhost:8080/"
    },
    "executionInfo": {
     "elapsed": 28,
     "status": "ok",
     "timestamp": 1754134951605,
     "user": {
      "displayName": "Muhammad Shakir",
      "userId": "05932839632612654057"
     },
     "user_tz": -300
    },
    "id": "2aZxUG4cTFbL",
    "outputId": "a4039447-9bdf-4035-d7a4-46c204e26b95"
   },
   "outputs": [
    {
     "name": "stdout",
     "output_type": "stream",
     "text": [
      "by | Person | None\n",
      "Nikola Tesla | ORG | Companies, agencies, institutions, etc.\n",
      "and | ORG | Companies, agencies, institutions, etc.\n",
      "AC | ORG | Companies, agencies, institutions, etc.\n",
      "Tesla | ORG | Companies, agencies, institutions, etc.\n",
      "Tesla | ORG | Companies, agencies, institutions, etc.\n"
     ]
    },
    {
     "name": "stderr",
     "output_type": "stream",
     "text": [
      "c:\\Users\\mshak\\miniconda3\\envs\\Glove_env\\Lib\\site-packages\\spacy\\glossary.py:20: UserWarning: [W118] Term 'Person' not found in glossary. It may however be explained in documentation for the corpora used to train the language. Please check `nlp.meta[\"sources\"]` for any relevant links.\n",
      "  warnings.warn(Warnings.W118.format(term=term))\n"
     ]
    }
   ],
   "source": [
    "for ent in doc.ents:\n",
    "  print(ent.text,\"|\",ent.label_,\"|\",spacy.explain(ent.label_))"
   ]
  },
  {
   "cell_type": "markdown",
   "metadata": {
    "id": "V7RWBb4DWnrl"
   },
   "source": [
    "# Adding Patterns: Patterns are defined as dictionaries specifying token attributes"
   ]
  },
  {
   "cell_type": "code",
   "execution_count": 5,
   "metadata": {
    "colab": {
     "base_uri": "https://localhost:8080/"
    },
    "executionInfo": {
     "elapsed": 30,
     "status": "ok",
     "timestamp": 1754134951639,
     "user": {
      "displayName": "Muhammad Shakir",
      "userId": "05932839632612654057"
     },
     "user_tz": -300
    },
    "id": "OtwsSxVjZsEM",
    "outputId": "d33d5842-84e9-4e64-f07a-7856861c571f"
   },
   "outputs": [
    {
     "data": {
      "text/plain": [
       "['tok2vec', 'tagger', 'parser', 'attribute_ruler', 'lemmatizer', 'ner']"
      ]
     },
     "execution_count": 5,
     "metadata": {},
     "output_type": "execute_result"
    }
   ],
   "source": [
    "nlp.pipe_names"
   ]
  },
  {
   "cell_type": "code",
   "execution_count": 6,
   "metadata": {
    "executionInfo": {
     "elapsed": 1282,
     "status": "ok",
     "timestamp": 1754134952923,
     "user": {
      "displayName": "Muhammad Shakir",
      "userId": "05932839632612654057"
     },
     "user_tz": -300
    },
    "id": "kmH3A53JWa-E"
   },
   "outputs": [],
   "source": [
    "# create the ruler\n",
    "from spacy.pipeline import EntityRuler\n",
    "source_nlp= spacy.load(\"en_core_web_sm\")\n",
    "nlp=spacy.blank(\"en\")\n",
    "ruler=nlp.add_pipe(\"entity_ruler\")\n",
    "patterns = [{\"label\": \"ORG\", \"pattern\": [{\"LOWER\" : \"twitter\"}]}]\n",
    "ruler.add_patterns(patterns)\n",
    "doc=nlp(\"\"\"\"Tesla For electric motors invented by Nikola Tesla, see Induction motor and AC motor.\n",
    "For the electrotechnical company, see Tesla a.s. For other uses, see Tesla (disambiguation).Twitter owner name is mask.\"\"\")\n",
    "for ent in doc.ents:\n",
    "  print(ent.text,\"|\",ent.label_,\"|\",spacy.explain(ent.label_))"
   ]
  },
  {
   "cell_type": "code",
   "execution_count": 7,
   "metadata": {
    "colab": {
     "base_uri": "https://localhost:8080/"
    },
    "executionInfo": {
     "elapsed": 617,
     "status": "ok",
     "timestamp": 1754134953544,
     "user": {
      "displayName": "Muhammad Shakir",
      "userId": "05932839632612654057"
     },
     "user_tz": -300
    },
    "id": "LxbiWiaOf9eo",
    "outputId": "da5a1b55-b5a9-476e-df81-388cef99976d"
   },
   "outputs": [
    {
     "name": "stdout",
     "output_type": "stream",
     "text": [
      "Nikola Tesla | PERSON | People, including fictional\n",
      "AC | ORG | Companies, agencies, institutions, etc.\n",
      "Tesla | ORG | Companies, agencies, institutions, etc.\n",
      "Tesla | ORG | Companies, agencies, institutions, etc.\n",
      "Twitter | ORG | Companies, agencies, institutions, etc.\n"
     ]
    }
   ],
   "source": [
    "import spacy\n",
    "from spacy.pipeline import EntityRuler\n",
    "\n",
    "# Step 1: Load spaCy model\n",
    "nlp = spacy.load(\"en_core_web_sm\")  # You can also use \"en_core_web_md\" for better accuracy\n",
    "\n",
    "# Step 2: Add EntityRuler before the NER component\n",
    "ruler = nlp.add_pipe(\"entity_ruler\", before=\"ner\")\n",
    "\n",
    "# Step 3: Define custom patterns\n",
    "patterns = [\n",
    "    {\"label\": \"ORG\", \"pattern\": \"Twitter\"},\n",
    "    {\"label\": \"PERSON\", \"pattern\": \"Nikola Tesla\"},\n",
    "    {\"label\": \"ORG\", \"pattern\": [\n",
    "        {\"LOWER\": \"tesla\"},\n",
    "        {\"TEXT\": \"a\"},\n",
    "        {\"TEXT\": \".\"},\n",
    "        {\"TEXT\": \"s\"},\n",
    "        {\"TEXT\": \".\"}\n",
    "    ]}\n",
    "]\n",
    "\n",
    "# Step 4: Add patterns to the ruler\n",
    "ruler.add_patterns(patterns)\n",
    "\n",
    "# Step 5: Input text\n",
    "text = \"\"\"Tesla For electric motors invented by Nikola Tesla, see Induction motor and AC motor.\n",
    "For the electrotechnical company, see Tesla a.s. For other uses, see Tesla (disambiguation). Twitter owner name is mask.\"\"\"\n",
    "\n",
    "# Step 6: Process the text\n",
    "doc = nlp(text)\n",
    "\n",
    "# Step 7: Print extracted entities\n",
    "for ent in doc.ents:\n",
    "    print(ent.text, \"|\", ent.label_, \"|\", spacy.explain(ent.label_))\n",
    "\n"
   ]
  }
 ],
 "metadata": {
  "colab": {
   "authorship_tag": "ABX9TyM60hob55buekLKt0v+Oas7",
   "provenance": []
  },
  "kernelspec": {
   "display_name": "Glove_env",
   "language": "python",
   "name": "python3"
  },
  "language_info": {
   "codemirror_mode": {
    "name": "ipython",
    "version": 3
   },
   "file_extension": ".py",
   "mimetype": "text/x-python",
   "name": "python",
   "nbconvert_exporter": "python",
   "pygments_lexer": "ipython3",
   "version": "3.11.13"
  }
 },
 "nbformat": 4,
 "nbformat_minor": 0
}
