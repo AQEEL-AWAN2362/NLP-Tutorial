{
 "cells": [
  {
   "cell_type": "code",
   "execution_count": null,
   "metadata": {
    "id": "QAAd65rNuViz"
   },
   "outputs": [],
   "source": [
    "import torch"
   ]
  },
  {
   "cell_type": "code",
   "execution_count": null,
   "metadata": {
    "colab": {
     "base_uri": "https://localhost:8080/"
    },
    "executionInfo": {
     "elapsed": 42,
     "status": "ok",
     "timestamp": 1757836145615,
     "user": {
      "displayName": "M Aqeel Awan",
      "userId": "00217619579415678503"
     },
     "user_tz": -300
    },
    "id": "jDkX-LZGuxmH",
    "outputId": "904bd197-d934-4980-dcf3-4e498bbf938e"
   },
   "outputs": [
    {
     "data": {
      "text/plain": [
       "(torch.Size([2, 4]), torch.int64)"
      ]
     },
     "execution_count": 2,
     "metadata": {},
     "output_type": "execute_result"
    }
   ],
   "source": [
    "my_list = [[1,2,3,4],[5,6,7,8]]\n",
    "tensors = torch.tensor(my_list)\n",
    "tensors.shape, tensors.dtype,"
   ]
  },
  {
   "cell_type": "code",
   "execution_count": null,
   "metadata": {
    "colab": {
     "base_uri": "https://localhost:8080/"
    },
    "executionInfo": {
     "elapsed": 89,
     "status": "ok",
     "timestamp": 1757837914577,
     "user": {
      "displayName": "M Aqeel Awan",
      "userId": "00217619579415678503"
     },
     "user_tz": -300
    },
    "id": "-GTOYn7uwxhs",
    "outputId": "4c260aea-7ca6-406c-9b02-081a3eaa8db6"
   },
   "outputs": [
    {
     "name": "stdout",
     "output_type": "stream",
     "text": [
      "tensor([[0.4090, 0.1432]], grad_fn=<AddmmBackward0>) the more weighted features: Parameter containing:\n",
      "tensor([[ 0.1539,  0.3358,  0.1683],\n",
      "        [-0.5334, -0.1299,  0.1365]], requires_grad=True) the more bias layer: Parameter containing:\n",
      "tensor([0.4008, 0.1632], requires_grad=True)\n"
     ]
    }
   ],
   "source": [
    "# designing first neurel network\n",
    "import torch.nn as nn\n",
    "\n",
    "# input 3 features (input neurons = input features, output neurons = classes)\n",
    "input_tensors = torch.tensor([[0.01,0.05,-0.06]])\n",
    "\n",
    "linear_layer = nn.Linear(\n",
    "    in_features=3,\n",
    "    out_features=2,\n",
    "    bias=True\n",
    ")\n",
    "\n",
    "output = linear_layer(input_tensors)\n",
    "print(output,\"the more weighted features:\", linear_layer.weight, \"the more bias layer:\", linear_layer.bias)\n"
   ]
  },
  {
   "cell_type": "code",
   "execution_count": null,
   "metadata": {
    "colab": {
     "base_uri": "https://localhost:8080/"
    },
    "executionInfo": {
     "elapsed": 16,
     "status": "ok",
     "timestamp": 1757836815826,
     "user": {
      "displayName": "M Aqeel Awan",
      "userId": "00217619579415678503"
     },
     "user_tz": -300
    },
    "id": "aRTRsbetNNsB",
    "outputId": "7d897d3a-523f-4c0a-c8c0-3817906d4fb4"
   },
   "outputs": [
    {
     "name": "stdout",
     "output_type": "stream",
     "text": [
      "tensor([[ 4, 10, 18]]) the f value is here: tensor([[ 32,  50],\n",
      "        [ 77, 122]])\n"
     ]
    }
   ],
   "source": [
    "# element wise multiplication\n",
    "a= torch.tensor([[1,2,3]])\n",
    "b= torch.tensor([[4,5,6]])\n",
    "c = a*b\n",
    "\n",
    "# matrix multiplication                           #  For matrix multiplication to work, the number of columns in the first tensor must equal the\n",
    "                                                    # number of rows in the second tensor. In this case, both tensors have a shape of 2x3.\n",
    "d= torch.tensor([[1,2,3],[4,5,6]])\n",
    "e= torch.tensor([[4,5,6],[7,8,9]])\n",
    "f = d @ e.T # Transpose tensor e\n",
    "\n",
    "print(c, \"the f value is here:\",f)"
   ]
  },
  {
   "cell_type": "code",
   "execution_count": null,
   "metadata": {
    "id": "o9cPmzEcRWtG"
   },
   "outputs": [],
   "source": [
    "# with more linear layer in sequence\n",
    "import torch.nn as nn\n",
    "\n",
    "n_features = 4\n",
    "n_classes = 1\n",
    "\n",
    "model = nn.Sequential(\n",
    "    nn.Linear(in_features=n_features, out_features=10),    # more hidden layers more parameters and more capacity of the model\n",
    "    nn.Linear(in_features=10, out_features=5,bias = True),\n",
    "    nn.Linear(in_features=5, out_features=n_classes) ,\n",
    "    nn.Sigmoid()\n",
    ")\n"
   ]
  },
  {
   "cell_type": "code",
   "execution_count": null,
   "metadata": {
    "colab": {
     "base_uri": "https://localhost:8080/"
    },
    "executionInfo": {
     "elapsed": 28,
     "status": "ok",
     "timestamp": 1757838542496,
     "user": {
      "displayName": "M Aqeel Awan",
      "userId": "00217619579415678503"
     },
     "user_tz": -300
    },
    "id": "emUK_tZqTH-l",
    "outputId": "650e2a7e-0e78-49bf-be49-81a47b3f141a"
   },
   "outputs": [
    {
     "name": "stdout",
     "output_type": "stream",
     "text": [
      "Number of parameters in the model: 111\n",
      "number of elements or parameters:  111\n"
     ]
    }
   ],
   "source": [
    "# Correctly access parameters and their numel() method\n",
    "parameters_count = sum(p.numel() for p in model.parameters() if p.requires_grad)\n",
    "print(f\"Number of parameters in the model: {parameters_count}\")\n",
    "\n",
    "## or\n",
    "total = 0\n",
    "for parameters in model.parameters():\n",
    "    total += parameters.numel()\n",
    "print(\"number of elements or parameters: \",total)"
   ]
  },
  {
   "cell_type": "markdown",
   "metadata": {
    "id": "Pp0jeau9WGnF"
   },
   "source": [
    "# Activation function\n",
    "   add the non linearity to model.(1. sigmoid: for binary classification.,,\n",
    "   2. softmax: for multiclassclassification)"
   ]
  },
  {
   "cell_type": "code",
   "execution_count": null,
   "metadata": {
    "colab": {
     "base_uri": "https://localhost:8080/"
    },
    "executionInfo": {
     "elapsed": 24,
     "status": "ok",
     "timestamp": 1757839229999,
     "user": {
      "displayName": "M Aqeel Awan",
      "userId": "00217619579415678503"
     },
     "user_tz": -300
    },
    "id": "d7lUfpQDWUJn",
    "outputId": "641f51b7-4970-4d7c-9216-b9608d40bc6c"
   },
   "outputs": [
    {
     "name": "stdout",
     "output_type": "stream",
     "text": [
      "tensor([[0.3363, 0.3501, 0.3136]])\n"
     ]
    }
   ],
   "source": [
    "import torch\n",
    "import torch.nn as nn\n",
    "\n",
    "# create input tensors\n",
    "input_tensors = torch.tensor([[0.01,0.05,-0.06]])\n",
    "\n",
    "# apply the softmax to the last dimension of input tensors\n",
    "output = nn.Softmax(dim = -1)\n",
    "output = output(input_tensors)\n",
    "\n",
    "print(output)\n"
   ]
  },
  {
   "cell_type": "markdown",
   "metadata": {
    "id": "yv0aAHwuZZzH"
   },
   "source": [
    "# Loss functions\n",
    "to update the weights and biases\n"
   ]
  },
  {
   "cell_type": "code",
   "execution_count": null,
   "metadata": {
    "colab": {
     "base_uri": "https://localhost:8080/"
    },
    "executionInfo": {
     "elapsed": 16,
     "status": "ok",
     "timestamp": 1757840797954,
     "user": {
      "displayName": "M Aqeel Awan",
      "userId": "00217619579415678503"
     },
     "user_tz": -300
    },
    "id": "tp9Q5YIeZiYt",
    "outputId": "13fee924-f607-4842-a03c-70bb216c9fca"
   },
   "outputs": [
    {
     "name": "stdout",
     "output_type": "stream",
     "text": [
      "tensor([1, 0, 0, 0])\n",
      "tensor([0, 1, 0, 0])\n",
      "tensor([0, 0, 1, 0])\n"
     ]
    },
    {
     "data": {
      "text/plain": [
       "tensor(9.8222, dtype=torch.float64)"
      ]
     },
     "execution_count": 31,
     "metadata": {},
     "output_type": "execute_result"
    }
   ],
   "source": [
    "# actual value + model prediction(inputs) --> loss function => float which is output(y^ prediction  - y ground truth)\n",
    "# loss = F(y,y^)\n",
    "# one hot encoding concept (convert integer y to a tensors of zeros and one)\n",
    "import torch.nn.functional as F\n",
    "loss = F.one_hot(torch.tensor(0),num_classes=4)\n",
    "print(loss)\n",
    "# if y =1\n",
    "loss = F.one_hot(torch.tensor(1),num_classes=4)\n",
    "print(loss)\n",
    "# if y=2\n",
    "loss = F.one_hot(torch.tensor(2),num_classes=4)\n",
    "print(loss)\n",
    "\n",
    "# crossentropy loss function\n",
    "from torch.nn import CrossEntropyLoss\n",
    "criterion = CrossEntropyLoss()\n",
    "scores = torch.tensor([-5.2,4.6,0.8])\n",
    "one_hot_target = torch.tensor([1,0,0])\n",
    "output = criterion(scores.double(), one_hot_target.double())\n",
    "output\n",
    "\n"
   ]
  },
  {
   "cell_type": "code",
   "execution_count": null,
   "metadata": {
    "id": "wMjdGEYIzsa_"
   },
   "outputs": [],
   "source": [
    "from torch import optim\n",
    "import torch.nn as nn\n",
    "from torch.utils.data import dataloader\n",
    "sgd  = optim.SGD(model.parameters(), lr = 0.0001, momentum = 0.95, weight_decay = 0.0001 )\n",
    "adam  = optim.AdamW(model.parameters(), lr = 0.0001, weight_decay = 0.0001) # weight_decay = 0.0001 to prevent from overfitting\n",
    "relu= nn.ReLU()\n",
    "leaky_relu = nn.LeakyReLU(negative_slope= 0.05)\n",
    "# training the loop\n",
    "num_epochs = 5\n",
    "for epoch in range(num_epochs):\n",
    "  for data in dataloader:\n",
    "    inputs_features, labels = data\n",
    "    # set the gradient to zero\n",
    "    sgd.zero_grad()\n",
    "    # run a forward pass\n",
    "    outputs = model(inputs_features)\n",
    "    criterion = nn.CrossEntropyLoss()\n",
    "    loss = criterion(outputs, labels)\n",
    "    # backward propagation\n",
    "    loss.backward()\n",
    "    # update the weights and biases\n",
    "    sgd.step()"
   ]
  },
  {
   "cell_type": "code",
   "execution_count": null,
   "metadata": {
    "id": "i30GZJK85W7_"
   },
   "outputs": [],
   "source": [
    "training_loss = 0\n",
    "for inputs, labels in trainloader:\n",
    "  # run the forward pass\n",
    "  output = model(inputs)\n",
    "  # compute the loss\n",
    "  loss = criterion(outputs,labels)\n",
    "  # backpropagation\n",
    "  loss.backward()\n",
    "  sgd.zero_grad() # initilizing zero gradient first\n",
    "  # update the weights and biases\n",
    "  sgd.step()\n",
    "  # calculate and sum the total loss\n",
    "  training_loss += loss.item()\n",
    "  epoch_loss = training_loss/len(trainloader)\n",
    "  print(\"epoch loss:\",epoch_loss)\n"
   ]
  },
  {
   "cell_type": "code",
   "execution_count": null,
   "metadata": {
    "id": "ZDRUwucz7Mvi"
   },
   "outputs": [],
   "source": [
    "# validation loss\n",
    "validation_loss = 0.0\n",
    "model.eval()\n",
    "with torch.no_grad():\n",
    "  for inputs, labels in validationloader:\n",
    "    # run the forward pass\n",
    "    output = model(inputs)\n",
    "    # compute the loss\n",
    "    loss = criterion(outputs,labels)\n",
    "    # calculate and sum the total loss\n",
    "    validation_loss += loss.item()\n",
    "    epoch_loss = validation_loss/len(validationloader)"
   ]
  },
  {
   "cell_type": "code",
   "execution_count": null,
   "metadata": {
    "id": "C_9hhrG68GAk"
   },
   "outputs": [],
   "source": [
    "# calculating accuracy\n",
    "import torchmetrics\n",
    "\n",
    "# create the accuracy metrics\n",
    "metric = torchmetrics.Accuracy(task = \"multiclass\", num_classes = 3)\n",
    "for features, labels in dataloader:\n",
    "  # forward pass\n",
    "  output = model(features)\n",
    "  # compute batch accuracy\n",
    "  metric.update(output, labels.argmax(dim= -1))\n",
    "# compute accuracy of the whole epoch\n",
    "epoch_accuracy = metric.compute()\n",
    "# reset the metric for next epoch\n",
    "metric.reset()"
   ]
  },
  {
   "cell_type": "code",
   "execution_count": null,
   "metadata": {
    "id": "zT0C37LTAJWe"
   },
   "outputs": [],
   "source": [
    "# random search learning rate to update the hyperparameters tunning\n",
    "factor = np.random.uniform(2,6)\n",
    "lr = 10 ** (-factor)"
   ]
  },
  {
   "cell_type": "markdown",
   "metadata": {
    "id": "5iJzn60TuXjY"
   },
   "source": [
    "# Pytorch datasets"
   ]
  },
  {
   "cell_type": "code",
   "execution_count": 16,
   "metadata": {
    "executionInfo": {
     "elapsed": 57,
     "status": "ok",
     "timestamp": 1757929402374,
     "user": {
      "displayName": "M Aqeel Awan",
      "userId": "00217619579415678503"
     },
     "user_tz": -300
    },
    "id": "3jEfUiOxucUH"
   },
   "outputs": [],
   "source": [
    "import pandas as pd\n",
    "from torch.utils.data import Dataset, DataLoader, TensorDataset\n",
    "from sklearn.model_selection import train_test_split\n",
    "import torch\n",
    "\n",
    "class WaterDataset(Dataset):\n",
    "  def __init__(self, features, labels):\n",
    "    super().__init__()\n",
    "    self.features = torch.tensor(features, dtype=torch.float32)\n",
    "    self.labels = torch.tensor(labels, dtype=torch.float32)\n",
    "\n",
    "  def __len__(self):\n",
    "    return len(self.features)\n",
    "\n",
    "  def __getitem__(self, idx):\n",
    "    return self.features[idx], self.labels[idx]\n",
    "\n",
    "# Load the data from the CSV file\n",
    "df_full = pd.read_csv(r\"/content/water_potability.csv\").dropna() # Added dropna() to handle missing values\n",
    "\n",
    "# Split the data into features and labels\n",
    "features_full = df_full.drop('Potability', axis=1).values\n",
    "labels_full = df_full['Potability'].values\n",
    "\n",
    "# Split the data into training and testing sets\n",
    "x_train, x_test, y_train, y_test = train_test_split(features_full, labels_full, test_size=0.2, random_state=42)\n",
    "\n",
    "# Create TensorDatasets from the split data\n",
    "train_dataset = TensorDataset(torch.tensor(x_train, dtype=torch.float32), torch.tensor(y_train, dtype=torch.float32))\n",
    "test_dataset = TensorDataset(torch.tensor(x_test, dtype=torch.float32), torch.tensor(y_test, dtype=torch.float32))\n",
    "\n",
    "\n",
    "# dataloader\n",
    "data_loader_train = DataLoader(train_dataset, batch_size = 32, shuffle = True) # Increased batch size for better training\n",
    "data_loader_test = DataLoader(test_dataset, batch_size = 32, shuffle = False) # No need to shuffle test data\n",
    "\n",
    "# features, labels = next(iter(data_loader_train)) # next(iter(data_loader)) this is only for one batch\n",
    "# print(\"the features of data:\", features, \"the labels of data\", labels)"
   ]
  },
  {
   "cell_type": "code",
   "execution_count": null,
   "metadata": {
    "id": "I9bLv_slW3wd"
   },
   "outputs": [],
   "source": [
    "# sequential model definition\n",
    "import torch.nn as nn\n",
    "model = nn.Sequential(\n",
    "    nn.Linear(in_features=9, out_features=16),\n",
    "    nn.ReLU(),\n",
    "    nn.Linear(16,8),\n",
    "    nn.PReLU(),\n",
    "    nn.Linear(8,1),\n",
    "    nn.Sigmoid(),\n",
    ")\n",
    "\n",
    "# class based model define\n",
    "\n",
    "class Net(nn.Module):\n",
    "  def __init__(self):\n",
    "    super().__init__()\n",
    "    self.feature1 = nn.Linear(in_features=9, out_features=16)\n",
    "    self.feature2 = nn.Linear(in_features=16, out_features=8)\n",
    "    self.feature3 = nn.Linear(in_features=8, out_features=1)\n",
    "\n",
    "  def forward(self,x):\n",
    "    x= nn.functional.relu(self.feature1(x))\n",
    "    x= nn.functional.relu(self.feature2(x))\n",
    "    x= nn.functional.sigmoid(self.feature3(x))\n",
    "    return x\n",
    "\n",
    "net = Net()\n",
    "\n",
    "# training loop\n",
    "import torch.optim as optim\n",
    "\n",
    "criterion = nn.BCELoss()\n",
    "optimizer = optim.AdamW(net.parameters(), lr = 0.001) # net bcz we define custom model using class\n",
    "\n",
    "for epoch in range(1000):\n",
    "  for data in data_loader:\n",
    "    inputs, labels = data\n",
    "    # set the gradient to zero\n",
    "    optimizer.zero_grad()\n",
    "    # run a forward pass\n",
    "    outputs = net(inputs)\n",
    "    loss = criterion(outputs, labels.unsqueeze(1).float())\n",
    "    # backward propagation\n",
    "    loss.backward()\n",
    "    # update the weights and biases\n",
    "    optimizer.step()\n",
    "\n",
    "\n",
    "# Model evaluation\n",
    "from torchmetrics import Accuracy\n",
    "\n",
    "accuracy = Accuracy(task = \"binary\")\n",
    "net.eval()\n",
    "with torch.no_grad():\n",
    "  for inputs, labels in data_loader_test:\n",
    "    # run the forward pass\n",
    "    outputs = net(inputs)\n",
    "    # predict probabilty\n",
    "    preb = (outputs > 0.5).float()\n",
    "    # compute batch accuracy\n",
    "    accuracy.update(preb, labels.unsqueeze(1).float())\n",
    "# compute accuracy of the whole epoch\n",
    "epoch_accuracy = accuracy.compute()\n",
    "# reset the metric for next epoch\n",
    "accuracy.reset()\n",
    "\n"
   ]
  },
  {
   "cell_type": "markdown",
   "metadata": {
    "id": "-I7lFWNUusPC"
   },
   "source": [
    "# **What is Weight Initialization?**\n",
    "\n",
    "In a neural network, each layer has weights and biases.\n",
    "\n",
    "Before training starts, these weights must be initialized (given starting values).\n",
    "\n",
    "If we choose bad initial values, training can be slow, unstable, or even fail.\n",
    "#🔹 2. Why is it Important?\n",
    "\n",
    "If all weights = 0 → all neurons learn the same thing → no learning (symmetry problem).\n",
    "\n",
    "If weights are too large → gradients explode.\n",
    "\n",
    "If weights are too small → gradients vanish.\n",
    "\n",
    "Good initialization → faster convergence, stable training.\n",
    "#🔹 3. Common Initialization Methods in PyTorch\n",
    "✅ Default (PyTorch automatically)\n",
    "\n",
    "PyTorch already initializes weights when you create layers (nn.Linear, nn.Conv2d).\n",
    "\n",
    "Usually uses Kaiming/He Uniform or Xavier Uniform, depending on the layer."
   ]
  },
  {
   "cell_type": "code",
   "execution_count": 15,
   "metadata": {
    "executionInfo": {
     "elapsed": 37,
     "status": "ok",
     "timestamp": 1757929282546,
     "user": {
      "displayName": "M Aqeel Awan",
      "userId": "00217619579415678503"
     },
     "user_tz": -300
    },
    "id": "ZvCvUAV6kZEH"
   },
   "outputs": [],
   "source": [
    "import torch\n",
    "import torch.nn as nn\n",
    "import torch.nn.init as init\n",
    "\n",
    "class MyModel(nn.Module):\n",
    "    def __init__(self):\n",
    "        super(MyModel, self).__init__()\n",
    "        self.fc1 = nn.Linear(10, 20)\n",
    "        self.fc2 = nn.Linear(20, 1)\n",
    "\n",
    "        # Apply custom initialization\n",
    "        init.xavier_uniform_(self.fc1.weight)   # Xavier\n",
    "        init.zeros_(self.fc1.bias)              # Bias = 0\n",
    "        init.kaiming_normal_(self.fc2.weight)   # Kaiming\n",
    "        init.constant_(self.fc2.bias, 0.1)      # Bias = 0.1\n",
    "\n",
    "model = MyModel()\n"
   ]
  },
  {
   "cell_type": "markdown",
   "metadata": {
    "id": "YzrtrCCAy_im"
   },
   "source": [
    "\n",
    "## **Loading images to pytorch**"
   ]
  },
  {
   "cell_type": "code",
   "execution_count": null,
   "metadata": {
    "id": "iG-i5-SXzQe3"
   },
   "outputs": [],
   "source": [
    "import torch\n",
    "from torchvision.datasets import ImageFolder\n",
    "from torchvision import transforms\n",
    "from torch.utils.data import DataLoader\n",
    "import matplotlib.pyplot as plt\n",
    "\n",
    "train_transform = transforms.Compose([\n",
    "    transforms.ToTensor(),\n",
    "    transforms.Resize((128,128))\n",
    "    ])\n",
    "# displaying images\n",
    "train_dataloader = DataLoader(train_data, batch_size = 32, shuffle = True)\n",
    "\n",
    "image , label = next(iter(train_dataloader))\n",
    "print(image.shape, label.shape)\n",
    "# making shape in 128,128,3\n",
    "image = image.squeeze.permute(1,2,0)\n",
    "print(\"shape of image :\", image.shape) # = (128,128,3)\n",
    "\n",
    "# showing image\n",
    "plt.imshow(image)\n",
    "plt.show()\n",
    "\n",
    "# data augmentation (generating more data)\n",
    "train_transform = transforms.Compose([\n",
    "    transforms.RandomHorizontalFlip(p = 0.5),\n",
    "    transforms.RandomRotation(degrees = 15),\n",
    "    transforms.ToTensor(),\n",
    "    transforms.Resize((128,128)),\n",
    "])\n",
    "\n",
    "dataset_train = ImageFolder(\n",
    "    root = \"/content/train\",\n",
    "    transform = train_transform,\n",
    ")\n"
   ]
  },
  {
   "cell_type": "code",
   "execution_count": 5,
   "metadata": {
    "executionInfo": {
     "elapsed": 35,
     "status": "ok",
     "timestamp": 1757940372206,
     "user": {
      "displayName": "M Aqeel Awan",
      "userId": "00217619579415678503"
     },
     "user_tz": -300
    },
    "id": "KK0-gmoMX1-u"
   },
   "outputs": [],
   "source": [
    "# building a cnn model\n",
    "import torch.nn as nn\n",
    "\n",
    "class Net(nn.Module):\n",
    "  def __init__(self, num_classes):\n",
    "    super().__init__()\n",
    "    self.feature_extracter = nn.Sequential(\n",
    "        nn.Conv2d(in_channels=3, out_channels=16, kernel_size=3, stride=1, padding=1),\n",
    "        nn.ELU(),\n",
    "        nn.BatchNorm2d(16),\n",
    "        nn.MaxPool2d(kernel_size=2, stride=2),\n",
    "        nn.Conv2d(in_channels=16, out_channels=32, kernel_size=3, stride=1, padding=1),\n",
    "        nn.ELU(),\n",
    "        nn.BatchNorm2d(32), # normalize the layer\n",
    "        nn.MaxPool2d(kernel_size=2, stride=2),\n",
    "        nn.Dropout(p=0.25),\n",
    "        nn.Flatten(),\n",
    "        )\n",
    "    self.classfier = nn.Linear(in_features=32*64*64, out_features=num_classes)\n",
    "    # or we can made a function on in_features=32*64*64\n",
    "    self.classfier = nn.Linear(in_features = self._get_flattened_size(), out_features=num_classes)\n",
    "  def _get_flattened_size(self):\n",
    "    x = torch.zeros(1, 3, 64, 64)  # Example input: 3 channels, 64x64 image\n",
    "    x = self.conv1(x)\n",
    "    x = self.pool(x)\n",
    "    return x.numel()  # total elements in tensor\n",
    "\n",
    "# a forward pass\n",
    "  def forward(self, x):\n",
    "    x = self.feature_extracter(x)\n",
    "    x = self.classfier(x)\n",
    "    return x\n"
   ]
  },
  {
   "cell_type": "code",
   "execution_count": null,
   "metadata": {
    "colab": {
     "base_uri": "https://localhost:8080/"
    },
    "executionInfo": {
     "elapsed": 106469,
     "status": "ok",
     "timestamp": 1757843848086,
     "user": {
      "displayName": "M Aqeel Awan",
      "userId": "00217619579415678503"
     },
     "user_tz": -300
    },
    "id": "ZzNmKLQ3kpRV",
    "outputId": "f011e90b-6647-42f7-d9d0-d43dc12febf6"
   },
   "outputs": [
    {
     "name": "stderr",
     "output_type": "stream",
     "text": [
      "HTTP Error 429 thrown while requesting GET https://huggingface.co/api/datasets?sort=trendingScore&cursor=eyIkb3IiOlt7InRyZW5kaW5nU2NvcmUiOjAsIl9pZCI6eyIkZ3QiOiI2ODBkOTkwY2MzOGViZWFlNzg4ZmQ2YTkifX0seyJ0cmVuZGluZ1Njb3JlIjp7IiRsdCI6MH19LHsidHJlbmRpbmdTY29yZSI6bnVsbH1dfQ%3D%3D\n",
      "WARNING:huggingface_hub.utils._http:HTTP Error 429 thrown while requesting GET https://huggingface.co/api/datasets?sort=trendingScore&cursor=eyIkb3IiOlt7InRyZW5kaW5nU2NvcmUiOjAsIl9pZCI6eyIkZ3QiOiI2ODBkOTkwY2MzOGViZWFlNzg4ZmQ2YTkifX0seyJ0cmVuZGluZ1Njb3JlIjp7IiRsdCI6MH19LHsidHJlbmRpbmdTY29yZSI6bnVsbH1dfQ%3D%3D\n",
      "Retrying in 1s [Retry 1/20].\n",
      "WARNING:huggingface_hub.utils._http:Retrying in 1s [Retry 1/20].\n",
      "HTTP Error 429 thrown while requesting GET https://huggingface.co/api/datasets?sort=trendingScore&cursor=eyIkb3IiOlt7InRyZW5kaW5nU2NvcmUiOjAsIl9pZCI6eyIkZ3QiOiI2ODBkOTkwY2MzOGViZWFlNzg4ZmQ2YTkifX0seyJ0cmVuZGluZ1Njb3JlIjp7IiRsdCI6MH19LHsidHJlbmRpbmdTY29yZSI6bnVsbH1dfQ%3D%3D\n",
      "WARNING:huggingface_hub.utils._http:HTTP Error 429 thrown while requesting GET https://huggingface.co/api/datasets?sort=trendingScore&cursor=eyIkb3IiOlt7InRyZW5kaW5nU2NvcmUiOjAsIl9pZCI6eyIkZ3QiOiI2ODBkOTkwY2MzOGViZWFlNzg4ZmQ2YTkifX0seyJ0cmVuZGluZ1Njb3JlIjp7IiRsdCI6MH19LHsidHJlbmRpbmdTY29yZSI6bnVsbH1dfQ%3D%3D\n",
      "Retrying in 2s [Retry 2/20].\n",
      "WARNING:huggingface_hub.utils._http:Retrying in 2s [Retry 2/20].\n",
      "HTTP Error 429 thrown while requesting GET https://huggingface.co/api/datasets?sort=trendingScore&cursor=eyIkb3IiOlt7InRyZW5kaW5nU2NvcmUiOjAsIl9pZCI6eyIkZ3QiOiI2ODBkOTkwY2MzOGViZWFlNzg4ZmQ2YTkifX0seyJ0cmVuZGluZ1Njb3JlIjp7IiRsdCI6MH19LHsidHJlbmRpbmdTY29yZSI6bnVsbH1dfQ%3D%3D\n",
      "WARNING:huggingface_hub.utils._http:HTTP Error 429 thrown while requesting GET https://huggingface.co/api/datasets?sort=trendingScore&cursor=eyIkb3IiOlt7InRyZW5kaW5nU2NvcmUiOjAsIl9pZCI6eyIkZ3QiOiI2ODBkOTkwY2MzOGViZWFlNzg4ZmQ2YTkifX0seyJ0cmVuZGluZ1Njb3JlIjp7IiRsdCI6MH19LHsidHJlbmRpbmdTY29yZSI6bnVsbH1dfQ%3D%3D\n",
      "Retrying in 4s [Retry 3/20].\n",
      "WARNING:huggingface_hub.utils._http:Retrying in 4s [Retry 3/20].\n",
      "HTTP Error 429 thrown while requesting GET https://huggingface.co/api/datasets?sort=trendingScore&cursor=eyIkb3IiOlt7InRyZW5kaW5nU2NvcmUiOjAsIl9pZCI6eyIkZ3QiOiI2ODBkOTkwY2MzOGViZWFlNzg4ZmQ2YTkifX0seyJ0cmVuZGluZ1Njb3JlIjp7IiRsdCI6MH19LHsidHJlbmRpbmdTY29yZSI6bnVsbH1dfQ%3D%3D\n",
      "WARNING:huggingface_hub.utils._http:HTTP Error 429 thrown while requesting GET https://huggingface.co/api/datasets?sort=trendingScore&cursor=eyIkb3IiOlt7InRyZW5kaW5nU2NvcmUiOjAsIl9pZCI6eyIkZ3QiOiI2ODBkOTkwY2MzOGViZWFlNzg4ZmQ2YTkifX0seyJ0cmVuZGluZ1Njb3JlIjp7IiRsdCI6MH19LHsidHJlbmRpbmdTY29yZSI6bnVsbH1dfQ%3D%3D\n",
      "Retrying in 8s [Retry 4/20].\n",
      "WARNING:huggingface_hub.utils._http:Retrying in 8s [Retry 4/20].\n",
      "HTTP Error 429 thrown while requesting GET https://huggingface.co/api/datasets?sort=trendingScore&cursor=eyIkb3IiOlt7InRyZW5kaW5nU2NvcmUiOjAsIl9pZCI6eyIkZ3QiOiI2ODBkOTkwY2MzOGViZWFlNzg4ZmQ2YTkifX0seyJ0cmVuZGluZ1Njb3JlIjp7IiRsdCI6MH19LHsidHJlbmRpbmdTY29yZSI6bnVsbH1dfQ%3D%3D\n",
      "WARNING:huggingface_hub.utils._http:HTTP Error 429 thrown while requesting GET https://huggingface.co/api/datasets?sort=trendingScore&cursor=eyIkb3IiOlt7InRyZW5kaW5nU2NvcmUiOjAsIl9pZCI6eyIkZ3QiOiI2ODBkOTkwY2MzOGViZWFlNzg4ZmQ2YTkifX0seyJ0cmVuZGluZ1Njb3JlIjp7IiRsdCI6MH19LHsidHJlbmRpbmdTY29yZSI6bnVsbH1dfQ%3D%3D\n",
      "Retrying in 8s [Retry 5/20].\n",
      "WARNING:huggingface_hub.utils._http:Retrying in 8s [Retry 5/20].\n",
      "HTTP Error 429 thrown while requesting GET https://huggingface.co/api/datasets?sort=trendingScore&cursor=eyIkb3IiOlt7InRyZW5kaW5nU2NvcmUiOjAsIl9pZCI6eyIkZ3QiOiI2ODBkOTkwY2MzOGViZWFlNzg4ZmQ2YTkifX0seyJ0cmVuZGluZ1Njb3JlIjp7IiRsdCI6MH19LHsidHJlbmRpbmdTY29yZSI6bnVsbH1dfQ%3D%3D\n",
      "WARNING:huggingface_hub.utils._http:HTTP Error 429 thrown while requesting GET https://huggingface.co/api/datasets?sort=trendingScore&cursor=eyIkb3IiOlt7InRyZW5kaW5nU2NvcmUiOjAsIl9pZCI6eyIkZ3QiOiI2ODBkOTkwY2MzOGViZWFlNzg4ZmQ2YTkifX0seyJ0cmVuZGluZ1Njb3JlIjp7IiRsdCI6MH19LHsidHJlbmRpbmdTY29yZSI6bnVsbH1dfQ%3D%3D\n",
      "Retrying in 8s [Retry 6/20].\n",
      "WARNING:huggingface_hub.utils._http:Retrying in 8s [Retry 6/20].\n"
     ]
    },
    {
     "name": "stdout",
     "output_type": "stream",
     "text": [
      "['tyqiangz/multilingual-sentiments', 'Youseff1987/multilingual-sentiment-dataset', 'omilab/hebrew_sentiment', 'google-research-datasets/poem_sentiment', 'stanfordnlp/sentiment140', 'community-datasets/tamilmixsentiment', 'mkeskin/turkish_movie_sentiment', 'community-datasets/urdu_sentiment_corpus', 'pythainlp/wisesight_sentiment', 'Recognai/sentiment-banking', 'Renukswamy/Patent_sentiment_analysis', 'SetFit/tweet_sentiment_extraction', 'MonoHime/ru_sentiment_dataset', 'ebrigham/multi_sentiment', 'fhamborg/news_sentiment_newsmtsc', 'liam168/nlp_c4_sentiment', 'persiannlp/parsinlu_sentiment', 'rubrix/sentiment-banking', 'severo/autonlp-data-sentiment_detection-3c8bcd36', 'victor/autonlp-data-imdb-reviews-sentiment', 'winvoker/turkish-sentiment-analysis-dataset', 'chiarab/covid-tweet-sentiment', 'Davis/Swahili-tweet-sentiment', 'FanFan/sentiment-amazon-test', 'Marianina/sentiment-banking', 'ia-bentebib/tweet_eval_sentiment_fr', 'FanFan/sentiment-amazon-clean', 'chiarab/vaccine-sentiment-clean', 'chiarab/vaccine-sentiment-clean-2', 'victor/autonlp-data-tweet-sentiment', 'ramnika003/autotrain-data-sentiment_analysis_project', 'mox/german_politicians_twitter_sentiment', 'elmurod1202/uzbek-sentiment-analysis', 'bigscience-data/roots_indic-bn_bangla_sentiment_classification_datasets', 'mteb/tweet_sentiment_extraction', 'diegorysr/sentiment-banking', 'diegorysr/sentiment-banking-pln', 'vcv/sentiment-banking', 'dcfidalgo/liar_sentiment', 'aleon215/sentiment-banking', 'DWFlanagan/sentiment-banking', 'NLPC-UOM/sinhala-sentiment-lexicon-generation', 'PLN-Activdad-2/sentiment-banking', 'DaniDelgon/sentiment-banking', 'pqknasvquolylkvlic/sentiment-banking', 'carblacac/twitter-sentiment-analysis', 'Resteves/sentimento-red', 'Resteves/sentimento-red-validated', 'alexyanchag/sentiment-banking', 'misaelferrer/sentiment-banking', 'jobarrio/sentiment-banking', 'pysentimiento/spanish-targeted-sentiment-headlines', 'erickdp/sentiment_tweets', 'Saripudin/twitter_sentiment', 'davidberg/sentiment-reviews', 'sepidmnorozy/Persian_sentiment', 'hungnm/multilingual-amazon-review-sentiment-processed', 'Sreyan88/tweet_sentiment_extraction', 'jvanz/portuguese_sentiment_analysis', 'benmansour/sentiment_analysis', 'PhilSad/standfordsentiment', 'FinanceInc/auditor_sentiment', 'sepidmnorozy/Arabic_sentiment', 'Danitg95/feedback-kaggle-sentiment', 'sepidmnorozy/Hindi_sentiment', 'yogiyulianto/twitter-sentiment-dataset-en', 'sepidmnorozy/Welsh_sentiment', 'sepidmnorozy/Polish_sentiment', 'sepidmnorozy/Bambara_sentiment', 'sepidmnorozy/Uyghur_sentiment', 'sepidmnorozy/Basque_sentiment', 'sepidmnorozy/Bulgarian_sentiment', 'sepidmnorozy/Cantonese_sentiment', 'sepidmnorozy/Chinese_sentiment', 'sepidmnorozy/Croatian_sentiment', 'sepidmnorozy/English_sentiment', 'sepidmnorozy/Finnish_sentiment', 'sepidmnorozy/German_sentiment', 'sepidmnorozy/Greek_sentiment', 'sepidmnorozy/Hebrew_sentiment', 'sepidmnorozy/Indonesian_sentiment', 'sepidmnorozy/Japanese_sentiment', 'sepidmnorozy/Korean_sentiment', 'sepidmnorozy/Maltese_sentiment', 'sepidmnorozy/Norwegian_sentiment', 'sepidmnorozy/Russian_sentiment', 'sepidmnorozy/Slovak_sentiment', 'sepidmnorozy/Spanish_sentiment', 'sepidmnorozy/Thai_sentiment', 'sepidmnorozy/Turkish_sentiment', 'sepidmnorozy/Vietnamese_sentiment', 'sepidmnorozy/Algerian_sentiment', 'hugginglearners/amazon-reviews-sentiment-analysis', 'sepidmnorozy/Urdu_sentiment', 'autoevaluate/autoeval-eval-project-sepidmnorozy__Urdu_sentiment-559fc5f8-1302749848', 'zeroshot/twitter-financial-news-sentiment', 'ronanki/sentiment-banking', 'BAJIRAO/imdb_sentiment_3000', 'dwisaji/indonesia-telecomunication-sentiment-dataset', 'dwisaji/twitter-minggu-sentiment-dataset', 'ashwinperti/autotrain-data-ashwin_sentiment140dataset', 'ihassan1/auditor-sentiment', 'arbml/emoji_sentiment_lexicon', 'venetis/customer_support_sentiment_on_twitter', 'argilla/sentiment-banking', 'pachi107/autotrain-data-ethos-sentiments', 'api19750904/News_bcn_sentiment', 'autoevaluate/autoeval-eval-sentiment140-sentiment140-4831e4-1834463039', 'tanay/sentiment-corpus', 'LYTinn/sentiment-analysis-tweet', 'katossky/multi-domain-sentiment', 'katossky/multi-domain-sentiment-books', 'SerhiiBond/automotive_sentiment_analysis', 'osanseviero/twitter-airline-sentiment', 'IndonesiaAI/offline-school-sentiment-on-indonesian-twitter', 'cardiffnlp/tweet_sentiment_multilingual', 'argilla/banking_sentiment', 'argilla/banking_sentiment_setfit', 'argilla/banking_sentiment_zs_gpt3', 'Jean-Baptiste/financial_news_sentiment', 'Jean-Baptiste/financial_news_sentiment_mixte_with_phrasebank_75', 'ebrigham/NL_insurance_reviews_sentiment', 'dvilasuero/bankingapp_sentiment', 'W4nkel/turkish-sentiment-dataset', 'eengel7/sentiment_analysis_training', 'eengel7/sentiment_analysis_batch', 'eengel7/sentiment_analysis_batch_predictions', 'torileatherman/sentiment_analysis_batch_predictions', 'torileatherman/sentiment_analysis_training', 'torileatherman/sentiment_analysis_batch', 'eengel7/sentiment_analysis_training_test', 'autoevaluate/autoeval-eval-tweet_eval-sentiment-5ae1bf-3003786426', 'pysentimiento/es_sentiment', 'Kaludi/data-reviews-sentiment-analysis', 'sara-nabhani/ML-news-sentiment', 'ricardo-filho/tweets_pt_sentiment_analysis', 'racro/sentiment-analysis-finetune', 'mk9165/ko-conversation-sentiment', 'dirtycomputer/taptap_sentiment', 'dirtycomputer/erji_sentiment', 'shmuhammad/AfriSenti-twitter-sentiment', 'leadingbridge/sentiment-analysis', 'derek-thomas/autotrain-data-i-bert-twitter-sentiment', 'hezarai/sentiment-dksf', 'kelvinleong/stk_data_sentiment_try', 'rafaelsandroni/sentiment140', 'raghuram13/autotrain-data-sentiment_analysis', 'mushroomsolutions/imdb_sentiment_3000_Test', 'Karim-Gamal/emoji_tweet_sentiment_multilingual', 'yunosuken/sentiment-train', 'Sadiksha/sentiment_analysis_data', 'fatmaElsafoury2022/SST_sentiment_fairness_data', 'guriko/autotrain-data-cv-sentiment', 'Tianzhou/auditor_sentiment', 'chiapudding/kaggle-financial-sentiment', 'AbderrahmanSkiredj1/MSAC_darija_sentiment_analysis', 'yuncongli/chat-sentiment-analysis', 'climatebert/climate_sentiment', 'mesolitica/chatgpt-explain-sentiment', 'Taraassss/sentiment_analysis_IT_dataset', 'arthur001122/sst-sentiment-explainability', 'Sanath369/Telugu_sentiment_sentences', 'Phonecharger/sst-sentiment-explainability', 'james-burton/product_sentiment_machine_hack', 'james-burton/product_sentiment_machine_hack_ordinal', 'sustcsenlp/bn_sentiment_noisy_dataset', 'TrajanovRisto/esg-sentiment', 'james-burton/product_sentiment_machine_hack_all_text', 'Sachinkelenjaguri/sentiment_classification', 'NatLee/sentiment-classification-dataset-bundle', 'javilonso/rest23_sentiment_data', 'javilonso/rest23_sentiment_data_v2', 'javilonso/rest23_sentiment_data_v3_oversampling', 'projecte-aina/CaSSA-catalan-structured-sentiment-analysis', 'emad12/stock_tweets_sentiment', 'windaan/autotrain-data-ta-winda-ota-sentiment-analysis', 'Liuyu/sentiment-classification', 'nullzero-live/midjourney-sentiment', 'prakash48/autotrain-data-bhaav-sentiment', 'filopedraz/swedish-sentiment-instruction-fine-tuning', 'ydqe2/kaggle_financial_sentiment_resplit', 'hw2942/financial-news-sentiment', 'ParsiAI/snappfood-sentiment-analysis', 'ParsiAI/digikala-sentiment-analysis', 'amitness/sentiment-mt', 'aderantcurtkeisler/finetuning-sentiment-model-3000-samples', 'aderantcurtkeisler/finetuning-sentiment-model-3000-samples2', 'Sp1786/multiclass-sentiment-analysis-dataset', 'mattbit/tweet-sentiment-airlines', 'mtkinit/MT-sentiment-dataset', 'rubythalib33/sentiment-analysist', 'mtkinit/AI4Copernicus-demo-sentiment-small', 'dmytrobaida/autotrain-data-ukrainian-telegram-sentiment-analysis', 'intanm/indonesian-financial-sentiment-analysis', 'Elen22/Armenian-news-sentiment-dataset', 'ghbacct/twitter-financial-news-sentiment-clustering', 'ghbacct/twitter-financial-news-sentiment-classification', 'MoritzLaurer/sentiment_economy_news', 'ccerpas/sentiment-banking', 'mactband/sentiment-banking', 'ccerpas/sentiment-banking-1', 'ccerpas/sentiment-banking-2', 'Juancarlosjake/bankingapp_sentiment', 'Juancarlosjake/sentiment-banking', 'SinahiOrtega/sentiment-banking', 'Richis/sentiment-banking-2', 'MaryLux/sentiment-banking-test', 'MaryLux/sentiment-banking77', 'toomax/sentiment-banking', 'MaryLux/sentiment-banking-2', 'MaryLux/banking_sentiment', 'MaryLux/sentiment', 'ingpereida/sentiment-banking-2', 'GermanHdzC/sentiment-banking', 'hetline/sentiment-banking', 'xXLynksXx/sentiment_banking77', 'becerriljc/sentiment-banking', 'javiscriptmx/sentiment-banking', 'FCRJCR/sentiments-ar-per', 'pasuritajuan/sentiment-banking', 'hiimcesar/sentiment-banking', 'bartoszmaj/sentiment_one', 'Falah/sentiments-dataset-381-classes', 'bartoszmaj/sentiment_two', 'bartoszmaj/sentiment_three', 'bartoszmaj/sentiment_four', 'bartoszmaj/vader_sentiment_full', 'juanka0357/bitcoin-sentiment-analysis', 'oliverwang15/fingpt_chatglm2_sentiment_instruction_lora_ft_dataset', 'RedSamuraiRob/sentiment_imdb', 'VasquesXavier/Ressentiment', 'Andyrasika/alpaca-bitcoin-sentiment-dataset', 'juniorrios/b2w_sentimentanalysis_icomp', 'htxu91/my_sentiment', 'linktimecloud/autotrain-data-imdb-sentiment-analysis', 'CATIE-AQ/french_book_reviews_fr_prompt_sentiment_analysis', 'CATIE-AQ/allocine_fr_prompt_sentiment_analysis', 'CATIE-AQ/amazon_reviews_multi_fr_prompt_sentiment_analysis', 'llm-book/wrime-sentiment', 'Kenneth12/productreviewsentiment', 'Kenneth12/productreviewsentimentv2', 'worldboss/bitcoin-data-sentiment', 'worldboss/bitcoin_sentiment', 'prasadsawant7/sentiment_analysis_preprocessed_dataset', 'ttxy/sentiment', 'adkhamboy/sentiment-uz', 'Ocelot02/tweet-sentiment-ita-eng', 'KushT/imdb_sentiment_train_val_test', 'james0707/sentiment-uz', 'razhan/sentiment', 'TCRG/tweets_sentiment', 'mtkinit/mtkinit-super-sentiment', 'mariogiordano/bert-sentiment-analysis', 'Siddharthr30/multilabel_sentiment_analysis', 'ciaranmacseoin/sentiment', 'DevJaiz/test_sentiment', 'odunola/sentimenttweets', 'mtkinit/Super-sentiment', 'TFLai/turkish_movie_sentiment', 'sinarashidi/sentiment-analysis', 'jppgks/twitter-financial-news-sentiment', 'ic-fspml/stock_news_sentiment', 'AllenTAN/image_sentiment', 'Ibrahim-Alam/cornel_sentiment', 'Mitali05/llama2-finetune-sentiment-analysis', 'lotfyhussein/finance-tweets-sentiment', 'NeuNav/sentiment', 'Mitali05/sentiment-analysis-tweets-llama2-finetune', 'shivanikerai/review_sentiment_analysis_prompt', 'SEACrowd/indolem_sentiment', 'SEACrowd/karonese_sentiment', 'SEACrowd/sentiment_nathasa_review', 'mHossain/bengali_sentiment', 'mHossain/bengali_sentiment_v2', 'KayEe/flipkart_sentiment_analysis', 'davanstrien/fake-library-chats-with-sentiment', 'autoevaluate/autoeval-eval-tweet_eval-sentiment-be35d9-30474144941', 'autoevaluate/autoeval-eval-zeroshot__twitter-financial-news-sentiment-zeroshot__tw-cfc4d6-30970144964', 'autoevaluate/autoeval-eval-tweet_eval-sentiment-45124a-38605145054', 'autoevaluate/autoeval-eval-tweet_eval-sentiment-4db12b-40571145067', 'autoevaluate/autoeval-eval-sentiment140-sentiment140-f4c377-41078145068', 'autoevaluate/autoeval-eval-poem_sentiment-default-ab081a-47164145199', 'autoevaluate/autoeval-eval-poem_sentiment-default-b9341c-47165145200', 'autoevaluate/autoeval-eval-zeroshot__twitter-financial-news-sentiment-zeroshot__tw-fa5d8c-60062145388', 'autoevaluate/autoeval-eval-wisesight_sentiment-wisesight_sentiment-68f4ec-60064145389', 'autoevaluate/autoeval-eval-poem_sentiment-default-a84867-61574145436', 'autoevaluate/autoeval-eval-poem_sentiment-default-6ed962-61575145437', 'NickyNicky/finance-financialmodelingprep-stock-news-sentiments-rss-feed', 'nitinbhayana/review-phrases-sentiments-v2', 'FinGPT/fingpt-sentiment-train', 'FinGPT/fingpt-sentiment-cls', 'sehyun66/News-sentiments', 'Sanatbek/aspect-based-sentiment-analysis-uzbek', 'OdiaGenAI/sentiment_analysis_hindi', 'prosa-text/concept-sentiment', 'joey234/sentiment_analysis_affix', 'joey234/sentiment_analysis_affix_small', 'insub/imdb_prefix20_forDPO_gpt2-large-imdb-FT_siebert_sentiment-roberta-large-english', 'Sanatbek/Uzbek-restaurant-domain-sentiment-reviews', 'muzanxdem/sentiment-malay', 'pythainlp/wisesight_sentiment_prompt', 'ckandemir/bitcoin_tweets_sentiment_kaggle', 'damerajee/IMDB-sentiment-reviews', 'MaNaN-3/twitter_sentiment_analysis', 'snyamson/covid-tweet-sentiment-analyzer-roberta-latest-data', 'Abdou/dz-sentiment-yt-comments', 'snyamson/covid-tweet-sentiment-analyzer-distilbert-data', 'Roh2014/sentiment140_10k_tweets', 'imsoumyaneel/sentiment-analysis-llama2', 'Harvinder6766/sentiment_data_google', 'nlplabtdtu/sentiment-analysis-se', 'nlplabtdtu/sentiment-analysis-UIT', 'hajili/azerbaijani_review_sentiment_classification', 'Harvinder6766/sentiment_labelled_data', 'atom-team/shit-nlp-sentiment', 'Cesar7980/fingpt_chatglm2_sentiment_instruction_lora_ft_dataset', 'mtkinit/short_slovak_sentiment', 'mHossain/idiom_sentiment_classification', 'bambadij/COVID_Vaccine_Tweet_sentiment_analysis_roberta', 'bambadij/Tweet_sentiment_analysis_Distilbert', 'makedelta/event_entity_sentiment_benchmark', 'fantasticrambo/covid-tweet-sentiment-analyzer-distilbert-data', 'fantasticrambo/covid-tweet-sentiment-analyzer-roberta-latest-data', 'rodrfons/fingpt_chatglm2_sentiment_instruction_lora_ft_dataset', 'gagan3012/sentiment', '7Xan7der7/us_airline_sentiment', 'youngwoo3283/df_sentiment_chat', 'youngwoo3283/df_sentiment_1', 'mtkinit/mtkinit_small_sentiment_dataset', 'mtkinit/mtkinit_tcb_small_sentiment_dataset', 'mtkinit/mtkinit_TCB_sentiment_dataset', 'kolialeboucq/sentiment', 'ctoraman/BilTweetNews-sentiment-analysis', 'DouglasPontes/emoji-sentiment-analysis-tweets', 'ritabratamaiti/sinhalese-sentiment-alpaca', 'insub/imdb_prefix3_forDPO_gpt2-large-imdb-FT_siebert_sentiment-roberta-large-english', 'jacobopaz0/esg-news-sentiment-multitask', 'TimKoornstra/financial-tweets-sentiment', 'SergeiZu/sentiment140ForLlama', 't1annnnn/Chinese_sentimentAnalyze', 'nikesh66/sentiment-detection-dataset', 'pryshlyak/sentiment_analysis', 'khanzaid/sentiment_review', 'msaleki/sentiment', 'HowMannyMore/romanurdu-sentiment-dataset', 'Mariaaaaa/Googleplay_sentiment', 'kaenova/hotel-sentiment', 'AiresPucrs/sentiment-analysis', 'EleutherAI/quirky_sentiment', 'EleutherAI/quirky_sentiment_alice_easy', 'EleutherAI/quirky_sentiment_alice_hard', 'EleutherAI/quirky_sentiment_alice', 'EleutherAI/quirky_sentiment_bob_easy', 'EleutherAI/quirky_sentiment_bob_hard', 'EleutherAI/quirky_sentiment_bob', 'atutej/sentiment', 'odunola/multilingual-sentiments', 'Shreyam/sentiment-labeled-3-matrix', 'hoanghuyct1994/vnmese_sentiments', 'Andyrasika/amazon-sentiment-dataset', 'anotherpolarbear/vietnamese-sentiment-analysis', 'bbokyeong/sentiment_koalpaca', 'AiresPucrs/sentiment-analysis-pt', 'SoorajK1/sentiment_analysis_dataset-9846258f-16b8-422d-a291-965686769dca', 'SergeiZu/sentiment140forTraining', 'SergeiZu/sentiment140withAlpacaTemplate', 'elprofecoss/sentiment-banking', 'nisancoskun/finnish_sentiment_data', 'SoorajK1/sentiment_analysis_dataset-16c2d88a-9e71-49be-a846-443ea058041f', 'SoorajK1/sentiment_analysis_dataset-92f2ad6c-0376-4ce9-be36-3c6f26f144d7', 'SoorajK1/sentiment_analysis_dataset-f1bf9ea2-9a69-4087-9fbd-967c243e9303', 'SoorajK1/sentiment_analysis_dataset-920376de-dcd1-48e0-965d-597cb1bf5ac8', 'EliasKD/test-dataset-sentiment-repo', 'RobertoMCA97/financial_sentiment_analysis_train_compilation', 'HPalaciosMi/sentiment-banking', 'puzzz21/sci-sentiment-annotated-dataset', 'cragser/sentiment-banking-2', 'sabulaban/reviews_sentiment', 'ahmadSiddiqi/tweet_sentiment_fr', 'avsolatorio/mteb-tweet_sentiment_extraction-avs_triplets', 'ahmadSiddiqi/sentiments_fr', 'dohonba/auditor_sentiment', 'anilguven/turkish_product_reviews_sentiment', 'EliasKD/test-dataset-sentiment-repo2', 'neeeeellllll/Encoded_financial_sentiment_analysis', 'ekazuki/french_deputies_tweet_sentiment', 'TimKoornstra/synthetic-financial-tweets-sentiment', 'hannahisrael03/nlp_sentiment_analysis', 'sabulaban/sentiment', 'OLAResearch/event_entity_sentiment_impact_benchmark', 'SoorajK1/sentiment_analysis_dataset-9fb4d6b9-87e1-4d47-a0bb-b265fc66d1e1', 'RobertoMCA97/financial_sentiment_analysis_train_compilation_v2', 'EleutherAI/quirky_sentiment_raw', 'ryantinder/fin-sentiment', 'aisyahhrazak/combined-malay-sentiment', 'wuchiyongshi/sentiment', 'rewat7/tweet_sentiment', 'overflowwwww/nst-da-sentiment-unbalanced', 'minhtoan/vietnamese-comment-sentiment', 'another-symato/VMTEB-vietnamese_students_feedback_sentiment', 'another-symato/VMTEB-vietnamese_students_feedback_sentiment_word_segment', 'OLAResearch/event_entity_sentiment_benchmark_final', 'guidobenb/sentiment_data', 'mestrezero/sentiment_data', 'DivGo/sentiment_analysis', 'gxb912/large-twitter-tweets-sentiment', 'damerajee/eval_sentiment_analysis', 'Nirupama321/project_sentiment', 'caiomauro/market-sentiment-summarization', 'Rivvv/finetuning-sentiment-model-3000-samples', 'TheFinAI/fiqa-sentiment-classification', 'Saxo/ko_aspect_sentiment_sns_mall_sentiment_linkbricks_single_dataset_with_prompt_text_huggingface', 'hafsteinn/faroese_sentiment_analysis', 'Lewisliuming/toysentiment', 'ai-forever/kinopoisk-sentiment-classification', 'jos-ger/tweet-sentiment-airlines', 'ngxingyu/iwslt17_google_trans_scores_sentiments', 'Datasaur/Mongabay-sentiment-classification', 'pyupeu/social-media-peruvian-sentiment', 'caiomauro/trader-sentiment', 'GerindT/mini_amazon_sentimental', 'turne292/tldr_sentiment', 'turne292/tldr_sentiment_data_small_v2', 'JamesSpray/txsa_twitter_sentiment_analysis', 'JamesSpray/txsa_twitter_sentiment_analysis_full', 'HeavenlyJoe/sentimental_manuel_l_quezon', 'chillies/course-review-multilabel-sentiment-analysis', 'Balaji173/finance_news_sentiment', 'fewefWEGwg/sentiment_analysis_dataset', 'KMaly/ait526_sentiment', 'rahmaabusalma/tweets_sentiment_analysis', 'dipanjanS/imdb_sentiment_finetune_dataset', 'kshitij230/twitter_aspect_based_sentiment_analysis', 'AntoineBlanot/sentiment-en', 'AntoineBlanot/sentiment-es', 'Black4cosmos/My_Company_data_sentiment', 'trl-internal-testing/descriptiveness-sentiment-trl-style', 'theoracle/Italian.sentiment.analysis', 'BigTMiami/imdb_sentiment_dataset', 'data-store/facebook-sentiment-analysis', 'uchaturvedi/imdb_sentiment_finetune_dataset', 'Vxnkyyyyy/imdb_sentiment_finetune_dataset', 'aniket-jain-9/imdb_sentiment_finetune_dataset', 'evasai/evasentimentanalysis', 'Alienmaster/german_politicians_twitter_sentiment', 'isaacchung/macedonian-tweet-sentiment-classification', 'KevinNabuule/sentiment-analysis', 'orYx-models/Leadership-sentiment-analysis', 'sinhala-nlp/sinhala-sentiment-analysis', 'kshitij230/sentiment_analysis', 'sudhanshusinghaiml/airlines-sentiment-analysis', 'carant-ai/indonesian_sentiment_dataset', 'yuzhiliu8/sentimentLang', 'hmmamalrjoub/arabic-sentiments2', 'nataliaElv/banking77_topic_and_sentiment', 'Aiera/aiera-transcript-sentiment', 'carant-ai/english_sentiment_dataset', 'Akash190104/bengali_sentiment_analysis', 'seandearnaley/financial_sentiment_json', 'opensporks/stocknewseventssentiment-snes-10', 'seandearnaley/sentiment_analysis_sharegpt_json', 'mteb/multilingual-sentiment-classification', 'seyolax/sentiment-coursera', 'reevan/kan_transliterated_sentiment', 'reevan/generative_kan_sentiment', 'laurentiubp/InstruCAT-sentiment_analysis-augmented', 'laurentiubp/InstruCAT-sentiment_analysis', 'karuniaperjuangan/sentiment_analysis_nusax_benchmark', 'contemmcm/sentiment140', 'IsaacDev/sentiment-labelled-sentences', 'dipanjanS/imdb_sentiment_finetune_dataset20k', 'hehe77/sentiment_analysis', 'EleutherAI/twitter-sentiment', 'CJCJ3030/twitter-financial-news-sentiment', 'abdulhade/Kurdish-sentiment-analysis', 'Querencia/twitter-financial-news-sentiment', 'sentiment-Grp12/first128', 'mteb/tweet_sentiment_multilingual', 'sentiment-Grp12/output_check_first128_normal', 'bitsinthesky/fine_grained_media_sentiments_annotations', 'LocalDoc/sentiments_dataset_azerbaijani', 'phuctran75/buzzsentiment', 'gulnuravci/reddit_sentiment_analysis_results', 'arihant1234442/sentiment_analysis', 'interneuronai/company_sentiment_analysis_bart_dataset', 'NickyNicky/Finance_sentiment_and_topic_classification_En', 'Sorour/sentiment-train', 'Sorour/sentiment-test-fiqasa', 'aliiil02/sentiment_preprocess', 'pgurazada1/imdb-sentiment-classifier-evals', 'rahmaabusalma/sentiment_preprocess', 'Sorour/sentiment-test-fpb', 'Geffte/dataset_train_analisys_sentiment', 'Blue7Bird/Mizo_sentiment_dataset', 'CZLC/mall_sentiment_balanced', 'CZLC/fb_sentiment_balanced', 'CZLC/csfd_sentiment_balanced', 'Huggmachas/sentiment-analysis-datasets', 'adamamer20/synthetic-sentiment-segmentation', 'Rrrrrrrita/text_before_sentiment', 'mohamedsaeed823/sentiment-analysis', 'mansoorhamidzadeh/sentiment', 'aliiil02/chat-gpt-sentiment_preprocess', 'NickyNicky/Finance_sentiment_and_topic_classification_Translation_English_to_Spanish_v1', 'aliiil02/sentiment_preprocess-last', 'BloomTech/finance-tweet-sentiment-llama2-1k', 'risqaliyevds/uzbek-sentiment-analysis', 'rahmaabusalma/sentiment_preprocess-2Class', 'Sorour/sentiment-test-fpb1', 'Sorour/sentiment-test-fiqasa1', 'saijaggu/4000-Stories-with-sentiment-analysis', 'amansharma2910/nasdaq_news_sentiment', 'suchkow/twitter-sentiment-stock', 'Frenz/sentimente_test', 'scholl99/finance_sentiment_analysis_v0', 'zengyizhen/sentiment_ch', 'melissoep/Reddit_HarryPotter_sentiment', 'seandearnaley/symbolic_sentiment_v1', 'mbzuai-ugrip-statement-tuning/multilingual_sentiment', 'aryamanstha/appointment-sentiment-labeled', 'Aegmon/sentiment_analysis', 'dejanseo/sentiment', 'yamini0506/hotel_reviews_sentiment_1K', 'mxlcw/telegram-financial-sentiment-summarization', 'thonyyy/nusax_sentiment', 'theekshana/sinhala-news-sentiment-classification', 'dilkasithari-IT/sentiment_analysis_financial_news_data', 'schopra/labeled-sentiment-data', 'schopra/unlabeled-sentiment-data', 'mxlcw/new_sentiment', 'finkztah/youtube_trailer_comment_sentiment', 'kaiimran/malaysia-tweets-sentiment', 'Daniel-ML/sentiment-analysis-for-financial-news', 'Daniel-ML/sentiment-analysis-for-financial-news-v2', 'Daniel-ML/sentiment-analysis-for-financial-news-v3', 'maurocastill/finetuning-sentiment-model-5000-amazon-samples', 'XingeTong/TBSA_sentiment_round2', 'dejanseo/croatian-sentiment', 'PsyMatrix/cls_rottentomatoes_CriticnamePublicationameReviewtextVsScoresentiment__BaseBalanced', 'PsyMatrix/cls_rottentomatoes_CriticnamePublicationameReviewtextVsScoresentiment__BaseDefault', 'PsyMatrix/cls_rottentomatoes_CriticnameReviewtextVsScoresentiment__BaseBalanced', 'PsyMatrix/cls_rottentomatoes_CriticnameReviewtextVsScoresentiment__BaseDefault', 'PsyMatrix/cls_rottentomatoes_ReviewtextVsScoresentiment__BaseBalanced', 'PsyMatrix/cls_rottentomatoes_ReviewtextVsScoresentiment__BaseDefault', 'PsyMatrix/cls_sentiment140_TextVsLabel__BaseDefault', 'dipawidia/ecommerce-product-reviews-sentiment', 'vwxyzjn/sentiment-trl-style', 'trl-internal-testing/sentiment-trl-style', 'airabbitX/test-sentiment', 'johnidouglas/twitter-sentiment-pt-BR-md-2-l', 'rasyosef/amharic-sentiment', 'd-llm/sentiment_analysis_v1.0', 'd-llm/sentiment_analysis_v1.0-non-toxic', 'mk-20/custom-sentiment-analysis', 'SEACrowd/wisesight_thai_sentiment', 'SEACrowd/gklmip_sentiment', 'SEACrowd/id_sentiment_analysis', 'Azie88/Coachella_sentiment_analysis_roberta', 'souvik-pratiher/sentiment-data', 'ayeshasameer/roman-urdu-sentiment-analysis', 'kolonam/sentiment_quanan_dataset', 'rahulgaikwad007/Tensorflow-youtube-sentiment-dataset', 'rahulgaikwad007/custom-tensorflow-sentiment-dataset', 'Lots-of-LoRAs/task833_poem_sentiment_classification', 'xe1gyq/sentiment-banking', 'Lots-of-LoRAs/task195_sentiment140_classification', 'Lots-of-LoRAs/task1338_peixian_equity_evaluation_corpus_sentiment_classifier', 'Lots-of-LoRAs/task819_pec_sentiment_classification', 'ayaenna/sentiment_data', 'dargel99/sentiment-banking', 'suku9/business_news_sentiment', 'asrrat/sentiment-banking', 'Arisstek/sentiment-banking', 'fatihbicer/finance_sentiment_analysis_part1', 'nnashelly/sentiment-banking', 'chava0814/sentiment-banking', 'ManuSharma/tokenized-sentiment-analysis', 'DenisFZelaya/sentiment-banking', 'nnashelly/sentiment-banking_C2', 'Joss111x/sentiment-banking', 'sweatSmile/news-sentiment-data', 'gsar78/crowdsourced-sentiment', 'Marvin25ronal/sentiment-banking', 'jlpz2210/sentiment-banking', 'B1Unir/sentiment-banking', 'Betounir/sentiment-banking', 'joselm/sentiment-banking', 'maxjr/sentiment-banking', 'egarduno/sentiment-banking', 'kevMen/sentiment-banking', 'sweetkoneko/sentiment-banking', 'jjesusvega/sentiment-banking', 'Alani19/sentiment-banking', 'jzpinales/sentiment-banking', 'mozta/sentiment-banking', 'DiegoMtz/sentiment-banking', 'ridho2401/tapera_sentiment', 'raillyhugo/sentiment-banking', 'rohith2812/stanford-sentiment-treebank-dataset', 'SaguaroCapital/sentiment-analysis-in-commodity-market-gold', 'Yeenyi/ner_sentiment_analysis_sharegpt', 'AudioLLMs/meld_sentiment_test', 'alenjohn05/finance_news_sentiment', 'gaof23/citation_sentiment_corpus', 'TungHamHoc/sentiment-mental-health', 'ParsBench/parsinlu-sentiment-analysis-alpaca-style', 'sathya0901/twitter_sentimental_analysis', 'Sigurdur/imdb-is-sentiment', 'tekloon/tweet-sentiment-analysis-from-kaggle', 'WhiteAngelss/entity-word-sentiment-analysis', 'ParallelnoMinded/rusentiment_work_talks', 'synavate/cyber-sentiment-analysis-orion-cti-0x0', 'synavate/v1.0-orion-sentiment-analysis-cti-cyber-data-0x0', 'evalitahf/sentiment_analysis', 'synavate/v2.0-oai-orion-sentiment-analysis-cti-cyber-data-0x0', 'seandearnaley/symbolic_sentiment_v1_alpaca', 'mbzuai-ugrip-statement-tuning/sentiments_trans', 'mbzuai-ugrip-statement-tuning/sentiments', 'mbzuai-ugrip-statement-tuning/multilingual_sentiment0801', 'AdamLucek/twittersentiment-llama-3.1-405B-labels', 'Charles95/sentiment-trl-style', 'ura-hcmut/sentiment_analysis', 'hskang0906/custom_sentiment_analysis_dataset', 'hugmanskj/custom_sentiment_analysis_dataset', 'faustx/customer_sentiment', 'LoneWolfgang/japanese-twitter-sentiment', 'tmotagam/Cryptocurrencies-sentiment-from-X', 'Jasmer/sentiment_dataset', 'ZixuanKe/fingpt-sentiment-cls', 'ZixuanKe/fingpt-sentiment-train', 'mtiessler/emotion_classification_reviews_kfold_by_sentiment_10', 'davidadamczyk/tweet_sentiment_extraction-100', 'kenhktsui/chinese_sentiment_syn', 'mltrev23/financial-sentiment-analysis', 'Adelante/sentiment_analysis_v1', 'iaiuet/banking_sentiment_vietnamese', 'Neuronovo/neuronovo-utc-tweeteval-sentiment', 'behbudiy/uzbek-sentiment-analysis', 'zacharyxxxxcr/SST-2-sentiment-analysis', 'zacharyxxxxcr/SST-2-sentiment-analysis-original', 'deerfieldgreen/fx-sentiment-audusd-combined-30min', 'deerfieldgreen/fx-sentiment-eurusd-combined-30min', 'deerfieldgreen/fx-sentiment-gbpusd-combined-30min', 'deerfieldgreen/fx-sentiment-usdjpy-combined-30min', 'Mahadih534/Bengali-E-commerce-sentiments', 'Advaith1612/Indicsentiment', 'shukdevdatta123/twitter_sentiment_preprocessed', 'VTSNLP/sentiment_classifier', 'Prazzwal07/sentiment_analysis_nepglue', 'qgallouedec/lm-human-preferences-sentiment', 'trl-lib/lm-human-preferences-sentiment', 'niteshraj707/sentiment_analysis', 'Toastmachine/custom_sentiment_analysis_dataset', 'hskhyl/custom_sentiment_analysis_dataset', 'prodata/playstore-reviews-azerbaijani-sentiment', 'MelmaGrigia/italian-text-sentiment-analysis', 'prakod/sentiment_fire_enma', 'prakod/sentiment_fire_enta', 'PamelaBorelli/analise_sentimento_ptbr_rewiews_ecommerce', 'uvamba/custom_sentiment_analysis_dataset', 'ssungni/custom_sentiment_analysis_dataset', 'sjpark960520/custom_sentiment_analysis_dataset', 't7439/custom_sentiment_analysis_dataset', 'SeoTae/custom_sentiment_analysis_dataset', 'eidmum/chatgpt_preprocessed_sentiment', 'mbzuai-ugrip-statement-tuning/sentiments_eng', 'dd3434/sentimental_dataset', 'SURESHBEEKHANI/finance_sentiment', 'ocisd4/tweet_sentiment_extraction_triplet', 'AhmedSSoliman/sentiment-analysis-for-mental-health-Combined-Data', 'c-tawayip/sample-thai-sentiment', 'agentlans/twitter-sentiment-meta-analysis', 'vumichien/financial-sentiment', 'wangrongsheng/tweet_sentiment_extraction', 'wangrongsheng/twittersentiment-llama-3.1-405B-labels', 'Alauddin-Ali/emotion_sentiment_dataset', 'keertanavc/imdb_sentiment_grammar_dpo_multipreference', 'kvseet17/imdb_sentiment_grammar_dpo', 'AiresPucrs/adversarial-sentiment-analysis', 'modestus/bitcoin_sentiment_analysis', 'btwitssayan/sentiment-analysis-for-mental-health', 'AlexHung29629/tweet_sentiment_extraction_hn2', 'scfengv/TVL-sentiment-layer-dataset', 'javalove93/sentiment-analysis-dataset', 'bharatiyabytes/sentimentWithSarcasm', 'kisejin/finance_sentiment_dataset', 'ArpitGarg/sentiment_analysis_text', 'lelapa/Zindi_sentiment_without_test_target', 'arrmlet/political-social-reddit-us-sentiment-v1', 'arrmlet/political-social-x-us-sentiment-v1', 'dvilasuero/sentiment-csv', 'ZixuanKe/posttrain_tokenized_fingpt_sentiment_cls_sup_llama3', 'ZixuanKe/posttrain_tokenized_fingpt_sentiment_train_sup_llama3', 'patrikgerard/filtered_tweet_sentiment_extraction', 'hcasademunt/politics-sentiment', 'kh4dien/education-sentiment', 'aaryankansari/nlp-dataset-for-sentiment-analysis', 'hazzzz/portuguese_sentimentanalysis', 'jingjietan/imdb-sentiment', 'jingjietan/polarity-sentiment', 'absonS/twitter_sentiment_small', 'ZixuanKe/fingpt_sentiment_cls_sup_dpo_binarized', 'ZixuanKe/fingpt_sentiment_train_sup_dpo_binarized', 'keertanavc/imdb_sentiment_grammar_dpo_multipreference_repeatsampling', 'ArpitGarg/sentiment_analysis_text_llama_3_1_8b', 'sovai/news_sentiment', 'jbeno/sentiment_merged', 'frfede/twitter-sentiment', 'ada-datadruids/bookfilm_summaries_with_similarity_and_sentiment', 'Prasanna18/human-visual-sentiments', 'llk010502/fingpt-sentiment-llama3-instruct', 'khaihernlow/stock-tweets-for-sentiment-analysis-and-prediction', 'procrastipredator/qwen2-1.5-sentiment-kaz-rus-eng', '2realzoo/ko-sentiment', 'withmartian/hh_rlhf_with_explicit_sentiment_backdoors_llama3b', 'cestwc/SG-subzone-poi-sentiment-estate', 'bmben23/nuclearsentiment', 'marcov/poem_sentiment_promptsource', 'naytin/turkish-sentiment-analysis-dataset_ENG', 'llk010502/fingpt-sentiment', 'AnnantJain/multilingual-sentiment', 'dianak99/synthetic-sentiment-dataset', 'BoringAnt1793/paired_sentiment_datasets', 'BoringAnt1793/paired_sentiment_datasets_with_spans', 'ScoutieAutoML/recipes_for_dishes_and_food_with_vectors_sentiment_ners', 'ScoutieAutoML/weather_russian_regions_with_vectors_sentiment_ner', 'hasanat/reviews_with_sentiments', 'kornwtp/news-sentiment-zsm-classification', 'kornwtp/ms-bahasa-twitter-sentiment', 'kornwtp/wisesight-sentiment-tha-classification', 'floriandebaene/EmDComF_sentiment', 'nikichyy/softwaresentimentanalysis', 'heroiclunatic/financial-text-sentiment-classification', 'Keromamang/setswana_sentiment_analysis', 'kornwtp/vlsp2016sentiment-vie-classification', 'wlkla/Tamil_first_ready_for_sentiment', 'wlkla/Malayalam_first_ready_for_sentiment', 'foreverlove/Tamil_first_ready_for_sentiment', 'victormustar/autonlp-data-imdb-reviews-sentiment', 'iecjsu/airline-sentiment-ORPO-train', 'atrujill/sentiment-banking', 'henrynguyen13/sentiment-3', 'nldemo/sentiment-demo', 'benstaf/sentiment_nasdaq_news.csv', 'GabrielAvila/argilla-sentiment-banking-2024', 'bacourosp/sentiment-banking', 'Tongjilibo/sentiment', 'MCINext/synthetic-persian-chatbot-conversational-sentiment-analysis-anger', 'MCINext/synthetic-persian-chatbot-conversational-sentiment-analysis-satisfaction', 'MCINext/synthetic-persian-chatbot-conversational-sentiment-analysis-friendship', 'MCINext/synthetic-persian-chatbot-conversational-sentiment-analysis-fear', 'MCINext/synthetic-persian-chatbot-conversational-sentiment-analysis-jealousy', 'MCINext/synthetic-persian-chatbot-conversational-sentiment-analysis-surprise', 'MCINext/synthetic-persian-chatbot-conversational-sentiment-analysis-love', 'MCINext/synthetic-persian-chatbot-conversational-sentiment-analysis-sadness', 'MCINext/synthetic-persian-chatbot-conversational-sentiment-analysis-happiness', 'MCINext/synthetic-persian-chatbot-conversational-sentiment-analysis-tone-chatbot-classification', 'MCINext/chatbot-conversational-sentiment-analysis-tone-user-classification', 'ehab215/egyptian_sentiment_analysis_dataset', 'vivekdugale/final_eng_sentiment_dataset_alpaca_format_6794', 'vannyhz/sentiment-banking', 'Lots-of-LoRAs/task196_sentiment140_answer_generation', 'ZixuanKe/posttrain_tokenized_fingpt_sentiment_cls_sup_qwen2.5_32b_instr', 'ZixuanKe/posttrain_tokenized_fingpt_sentiment_train_sup_qwen2.5_32b_instr', 'TungHamHoc/sexist-sentiment-analysis', 'PIotr2025/sentiment-banking', 'Lots-of-LoRAs/task1496_bengali_reviews_sentiment_classification', 'Lots-of-LoRAs/task1575_amazon_reviews_multi_sentiment_classification', 'kornwtp/multilingual-sentiment-tha-classification', 'kornwtp/multilingual-sentiment-ind-classification', 'kornwtp/multilingual-sentiment-vie-classification', 'Lots-of-LoRAs/task823_peixian-rtgender_sentiment_analysis', 'antitheft159/_1342_political_sentiment_analysis', 'Lots-of-LoRAs/task1497_bengali_book_reviews_sentiment_classification', 'katsuchi/twitter_sentiment_analysis', 'keertanavc/imdb_sentiment-grammar_indexed_nocluster', 'AIM-Harvard/cardiffnlp_tweet_sentiment_multilingual_translated', 'greeny598/vk_social_network_sentiment', 'willywonka19/sentiment-analysis', 'kh4dien/sentiment', 'kh4dien/mc-sentiment', 'thedarktechie/sentiment_analysis_weapon', 'psiscmjj/sentiment-banking', 'benstaf/train_data_qwen_sentiment.csv', 'LEO141/climate_sentiment_split', 'JasielSlash7/sentiment-banking', 'dhruv0808/indic_sentiment_analyzer', 'iecjsu/airline-sentiment-eval.jsonl', 'benstaf/train_data_qwen_sentiment', 'maguid28/combined_financial_phrasebank_twitter_news_sentiment', 'mbzuai-ugrip-statement-tuning/sentiments_instruction', 'danielbyiringiro/sentiment', 'danielbyiringiro/sentiment_swahili', 'danielbyiringiro/sentiment_hausa', 'kornwtp/gklmip-sentiment-mya-classification', 'Paul-HF/Twitter-mulitlingual-synthetic-data-sentiment-analysis', 'Sol1986/sentiment-classifier-dataset', 'louiecerv/sentiment_analysis', 'yaystevek/financial-sentiment-synthetic-10k', 'adampoulsen/sentimentAnalysisData', 'benstaf/nasdaq_news_sentiment', 'JuanchoPrego/sentiment-banking_test', 'KULDIP1662/sentimentdataset', 'yiyic/sentiment140_1k', 'igor-freik/tweet_sentiment_extraction_300', 'kornwtp/sentiment-emo-mobileapps-ind-classification', 'kornwtp/lem-sentiment-ind-classification', 'kornwtp/sentiment-analysis-ind-classification', 'yahska/blog-sentiment-dataset', 'yahska/spam_notspam_blog-sentiment-dataset', 'yahska/blog-sentiment-dataset1', 'chenqizhao787/sentiment_corr', 'contemmcm/cls_sentiment140', 'pogpog/data-sentiments-01', 'LCMendes/sentimento-teste', 'k1tub/sentiment_dataset', 'ulinnuha/sentiment_analysis_ladin_italian_manual', 'ulinnuha/sentiment_analysis_ladin_italian', 'Megnis/ru_sentiment_dataset-9000', 'Megnis/ru_sentiment_dataset-150000', 'Megnis/ru_sentiment_dataset-100000', 'Megnis/ru_sentiment_dataset-50000', 'Megnis/ru_sentiment_dataset-20000', 'Megnis/ru_sentiment_dataset-30000-half-neg', 'kevin8833/poem_sentiment_uploaded', 'kalixlouiis/burmese-sentiment-analysis', 'letijo03/shopee-sentiment', 'letijo03/sentiment-analysis-taglish-shopee-comment', 'letijo03/sentiment-analysis-dataset', 'letijo03/sentiment-dataset', 'DmitrySharonov/ru_sentiment_neg_pos_neutral', 'aaurelions/cryptocurrency-tweets-sentiment', 'sy-volkov/russian-sentiment-analysis-dataset', 'langformers/sentiment140-mimic-embedding', 'Rudra2002019/meld-sentiment-classification', 'jtatman/movie_sentiment_reviews', 'fahrialfiansyah/mytelu-timeline-sentiment', 'ScoutieService/russian_news_vectorized_sentiment', 'ayyuce/amazon-product-review-sentiment-dataset', 'supergoose/flan_source_amazon_polarity_convey_negative_or_positive_sentiment_7', 'supergoose/flan_source_task196_sentiment140_answer_generation_237', 'supergoose/flan_source_task195_sentiment140_classification_323', 'llm-wizard/imdb-sentiment', 'supergoose/flan_combined_task1575_amazon_reviews_multi_sentiment_classification', 'supergoose/flan_combined_task819_pec_sentiment_classification', 'supergoose/flan_combined_task974_prachathai67k_sentiment_classification', 'supergoose/flan_combined_sentiment140_1_0_0', 'ML-GOD/Hausa_sentiment_analysis', 'supergoose/flan_combined_task423_persent_document_sentiment_verification', 'supergoose/flan_combined_task421_persent_sentence_sentiment_classification', 'supergoose/flan_combined_task196_sentiment140_answer_generation', 'supergoose/flan_combined_task1497_bengali_book_reviews_sentiment_classification', 'supergoose/flan_combined_task1338_peixian_equity_evaluation_corpus_sentiment_classifier', 'supergoose/flan_combined_task833_poem_sentiment_classification', 'sjyuxyz/financial-sentiment-analysis', 'supergoose/flan_combined_task823_peixian-rtgender_sentiment_analysis', 'callmesan/process_sentiment', 'GreenNode/tweet-sentiment-extraction-vn', 'supergoose/flan_combined_task420_persent_document_sentiment_classification', 'KaushiGihan/sentiment_analys_3_combine_ds', 'hanshan1988/customers-reviews-on-banks-sampled-pt25-aspect-sentiments', 'spacesedan/sentiment-data', 'sidmanale643/company_sentiment', 'LingoIITGN/reddit-sentiment-model-hubs', 'AmaanP314/youtube-comment-sentiment', 'spacesedan/goemotions-5point-sentiment', 'spacesedan/goemotions-5point-sentiment-refined', 'spacesedan/reddit-5point-sentiment', 'procit006/sentiment', 'Procit004/sentiment', 'procit006/dbrd_sentiment', 'polsci/sentiment-polarity-dataset-v2.0', 'richardftw/discord-subnet-sentiment-dataset', 'procit007/sentimentDataset_STCAI261', 'procit006/sentimentDataset_STCAI261_v0.2', 'Maxsastark/sentiment-analysis-dataset', 'hobbes99/fake_movie_reviews_ner_sentiment', '0xDesert/0xDesert-sentiment-dataset', 'SauRabM/sentiment', 'french-datasets/ekazuki-french_deputies_tweet_sentiment', 'ryaneubanks/sentiment', 'krusty99/sentiment-analysis-dataset', 'ziaxsys/sentiment_analysis_ladin_italian', 'ziaxsys/sentiment_analysis_ladin_italian_manual', 'Ajhesh7/nepali_sentiment_dataset', 'MuhammadTamseelAsifAwan/JIRA_TASK_based_on_sentiment', 'flwrlabs/fingpt-sentiment-train', 'nojedag/synthetic_financial_sentiment', 'sandiumenge/bitcoin-tweets-spam-emotion-sentiment', 'nzhabchikov/hw-sentiment-analysis', 'KidzRizal/twitter-sentiment-analysis', 'elatysheva/data_sentiment', 'ArthurChen189/financial_news_sentiment_analysis_sft', 'ArthurChen189/financial_news_sentiment_analysis_dpo', 'a1eksei/deep-hw03-sentiment', 'aiculedssul/dl-deploy-sentiment-analysis', 'wbigger/sentiment-analysis-test', 'Loacky/sentiment-analysis-test', 'Felipeit/sentiment-analysis-test', 'Riccardoschillaci7/sentiment-analysis-test', 'Cocciadipollo/sentiment-analysis-test', 'Smatteux/sentiment-analysis-test', 'Merlinooooo/sentiment-analysis-test', 'Jaki005/sentiment-analysis-test', 'qwertychri/sentiment-analysis-test', 'Virhinia/sentiment-analysis-test', 'Liux69/sentiment-analysis-test', 'happycircus1/sentiment-analysis-test', 'MarcPal08/sentiment-analysis-test', 'Giova-tech/sentiment-analysis-test', 'danielbyiringiro/sentiment_hausa_test', 'StarNeit/imdb-sentiment-binary', 'Rababco/my-sentiment-dataset', 'phong02468/Vietnamese_newspaper_titles_sentimental_labeled', 'lwrf42/financial-sentiment-dataset', 'chuuhtetnaing/myanmar-social-media-sentiment-analysis-dataset', 'Jopoblan089/crm_dataset_sentimental', 'GHAZICHM79/imdb_sentiment_analysis_dataset', 'Aida-Khaleghi/sst2-sentiment-subset', 'skibastepan/sentiment-analys-dataset', 'skibastepan/sentiment-analysis-dataset', 'binhuang1/3_100stock_news_sentiment', 'speedxd/nbd-sentiment-dataset', 'linyi265/sentiment-analysis-test', 'DonyaEs/yelp-review-sentiment-subset', 'sarehef/persian-sentiment-imdb-dataset', 'mspoulaei/DL-hf-workshop-Persian_sentiment-dataset', 'Aysa-MN/small-Persian_sentiment', 'Amaresh-ds/feedback_sentiment_analysis', 'Shmits/iust-workshop-sentiment-analysis-on-imdb', 'DonyaEs/movie-reviews-sentiment-dataset', 'STGI/imdb-sentiment-subset', 'Shreyas-1999/my-sentiment-aifn-dataset', 'waseemrazakhan/amazon-sentiment-dataset', 'ayayse/mteb-tweet-sentiment-cleaned', 'waseemrazakhan/amazon-sentiment-gold', 'waseemrazakhan/amazon-sentiment-3way', 'waseemrazakhan/sentiment-mc-v1', 'waseemrazakhan/sentiment-bin-v1', 'waseemrazakhan/sentiment-over-v1', 'waseemrazakhan/sentiment-under-v1', 'waseemrazakhan/sentiment-balanced-v1', 'fahrialfiansyah/mytelu-timeline-sentiment-fullprep', 'Natty6418/dow30_monthly_news_sentiment', 'clolee/alpaca-btc-tweets-sentiment', 'f1rdavs/sentiment_analysis_dataset_tj', 'vatolinalex/online_store_review_sentiment', 'vatolinalex/hotel_review_sentiment', 'vatolinalex/restaurant_review_sentiment', 'mteb/online_store_review_sentiment', 'mteb/hotel_review_sentiment', 'mteb/restaurant_review_sentiment', 'mteb/bengali_sentiment_analysis', 'chcaa/fiction4sentiment', 'wangd12/finlora_sentiment_train', 'claudio-capobianco/sentiment-analysis-test', 'kowndinya23/flan2021-sentiment', 'mteb/csfdcz_movie_review_sentiment', 'mteb/czech_so_me_sentiment', 'mteb/czech_product_review_sentiment', 'kowndinya23/flan2021-sentiment-held-out', 'Suman2004/lang-trans-sentiment', 'lewoniewski/wikipedia-sentiment', 'adamqab/sentiment-dataset', 'nojedag/financial-tweets-sentiment-multilingual', 'abc5555/sentimentdata', 'salma-remyx/localllama-sentiment-Why-new-models-feel-dumber', 'KidzRizal/twitter-sentiment-indonesian-president', 'prd101-wd/sentiment_airline', 'left0ver/sentiment-classification', 'kurkoc/turkish-sentiment-analysis-mini', 'chung140204/comment-sentiment', 'eduhuemar001/dataset-sentiment-8bit-train', 'eduhuemar001/dataset-sentiment-8bit-test', 'Suzana/synthetic_data_sentiment', 'Kamyar-zeinalipour/farsi_dialogue_sentiment', 'RobertoNeglia/pepe_dataset_sentiment', 'hanerdem/turkish-sentiment-dataset', 'Suzana/synthetic_product_reviews_sentiment', 'french-datasets/ahmadSiddiqi_sentiments_fr', 'french-datasets/ahmadSiddiqi_tweet_sentiment_fr', 'strejo99/sentiment-banking', 'li-long/financial_media_sentiment', 'Azie88/COVID_Vaccine_Tweet_sentiment_analysis_roberta', 'agentlans/bluesky-sentiment', 'aictsharif/persian-sentiment-comments', 'adyarahul/Punjabi_news_sentiment_labelled_dataset', 'Goktug06/restoran-sentiment-dataset', 'pgurazada1/instagram-comments-sentiment', 'shaikh25/synthetic-bengali-sentiment', 'Gporrt/sentiment-understanding-corpus', 'patrickfleith/outdoor_activities_sentiments_card', 'NGOC1712/sentiment-classification', 'alwanrahmana/Aspect-based-sentiment-analysis', 'FramNaVer/sentiment-thai', 'tabularisai/swahili_sentiment_dataset', 'andyP/ro_sentiment', 'zhihangliu/alphavantage_financial_sentiment_news', 'chaosbringerc/sentiment-focused-journaling-dataset', 'reto55/Coachella_sentiment_analysis_roberta', 'AlvaroBenjamin/sentiment-banking', 'TellesBenjamin/Coachella_sentiment_analysis_roberta', 'isunrise10/inflation-sentiment-dataset', 'lushan0621/chinese-sentiment-dataset', 'Dmytrir510/ukr-tweets-sentiment-toxicity-sarcasm', 'tdneuman/sentiment-sst2', '0xfedev/corporate-sentiment-logs', 'samuelebolotta/corporate-sentiment-logs', 'agentlans/bluesky-sentiment-sampled-classification', 'fapunx/sentiment-banking', 'jorgprod/sentiment-banking', 'michsethowusu/twi-sentiments-corpus-v1', 'mmaguero/gn-jopara-sentiment-analysis', 'michsethowusu/afrikaans-sentiments-corpus', 'michsethowusu/kamba-sentiments-corpus', 'michsethowusu/nuer-sentiments-corpus', 'michsethowusu/akan-sentiments-corpus', 'michsethowusu/kabyle-sentiments-corpus', 'michsethowusu/tamasheq-sentiments-corpus', 'michsethowusu/bambara-sentiments-corpus', 'michsethowusu/bemba-sentiments-corpus', 'michsethowusu/amharic-sentiments-corpus', 'michsethowusu/ganda-sentiments-corpus', 'michsethowusu/fon-sentiments-corpus', 'michsethowusu/fulah-sentiments-corpus', 'michsethowusu/dyula-sentiments-corpus', 'michsethowusu/ewe-sentiments-corpus', 'michsethowusu/dinka-sentiments-corpus', 'michsethowusu/chichewa-sentiments-corpus', 'michsethowusu/kabuverdianu-sentiments-corpus', 'michsethowusu/kimbundu-sentiments-corpus', 'michsethowusu/kongo-sentiments-corpus', 'michsethowusu/kabiye-sentiments-corpus', 'michsethowusu/igbo-sentiments-corpus', 'michsethowusu/hausa-sentiments-corpus', 'michsethowusu/sango-sentiments-corpus', 'michsethowusu/rundi-sentiments-corpus', 'michsethowusu/pedi-sentiments-corpus', 'michsethowusu/oromo-sentiments-corpus', 'michsethowusu/mossi-sentiments-corpus', 'michsethowusu/malagasy-sentiments-corpus', 'michsethowusu/lushai-sentiments-corpus', 'michsethowusu/lingala-sentiments-corpus', 'michsethowusu/tsonga-sentiments-corpus', 'michsethowusu/swati-sentiments-corpus', 'michsethowusu/swahili-sentiments-corpus', 'michsethowusu/somali-sentiments-corpus', 'michsethowusu/xhosa-sentiments-corpus', 'michsethowusu/wolof-sentiments-corpus', 'michsethowusu/umbundu-sentiments-corpus', 'michsethowusu/twi-sentiments-corpus', 'michsethowusu/tumbuka-sentiments-corpus', 'michsethowusu/tswana-sentiments-corpus', 'michsethowusu/zulu-sentiments-corpus', 'michsethowusu/yoruba-sentiments-corpus', 'mrvaldes/sentiment-banking', 'sea-rod/konkani-marathi-sentiment-dataset', 'vatolinalex/poem_sentiment', 'vatolinalex/tweet_sentiment_extraction', 'vatolinalex/csfdcz_movie_review_sentiment', 'vatolinalex/czech_product_review_sentiment', 'vatolinalex/czech_so_me_sentiment', 'mteb/german_politicians_twitter_sentiment', 'mteb/sentiment_dksf', 'mteb/persian_food_sentiment', 'mteb/movie_review_sentiment', 'mteb/hebrew_sentiment_analysis', 'mteb/sentiment_analysis_hindi', 'mteb/kurdish_sentiment', 'mteb/macedonian_tweet_sentiment', 'mteb/dutch_book_review_sentiment', 'mteb/romanian_reviews_sentiment', 'mteb/romanian_sentiment', 'mteb/csfdsk_movie_review_sentiment', 'mteb/spanish_sentiment', 'mteb/slovak_movie_review_sentiment', 'mteb/swedish_sentiment', 'mteb/wisesight_sentiment', 'mteb/turkish_movie_sentiment', 'mteb/turkish_product_sentiment', 'mteb/urdu_roman_sentiment', 'mteb/multilingual_sentiment', 'mteb/voxceleb-sentiment', 'waseemoo1/combined-sentiment-dataset', 'waseemoo1/combined-sentiment-dataset-streamed', 'waseemoo1/combined-sentiment-dataset-streamed2', 'mteb/poem_sentiment', 'Luismiii/sentiment-banking', 'french-datasets/supergoose_flan_combined_task1575_amazon_reviews_multi_sentiment_classification', 'french-datasets/Lots-of-LoRAs_task1575_amazon_reviews_multi_sentiment_classification', 'tdneuman/sentiment-sst2-small', 'Muskan2023/sentiment-model', 'elvanalabs/product-review-sentiment-40', 'patrickfleith/outdoor_activities_sentiments', 'elidle/company-reputation-sentiment-headlines', 'elidle/company-reputation-sentiment-sentences', 'siusonedu/simple-sentiment-dataset', 'minhleduc/sentiment-classification-vietnamese-v1', 'mteb/indic_sentiment', 'mtkachenko/sentiment_val', 'Micklew/microblog-sentiments', 'Nech-C/reddit-sentiment', 'dragonslayer631/allsides_media-splits_sentiments', 'sent2547/sentiment01-neg-neu-pos', 'fredmo/finance-sentiment', 'davanstrien/imdb-sentiment', 'HALDATA/bert-jp-sentiment-20250731-1035', 'Zeyustun/turkish-sentiment-dataset', 'krishnAbadikelA/products-sentiment-urdu-clean', 'krishnAbadikelA/products-sentiment-urdu-modif', 'ZombitX64/financial-sentiment-tweets', 'krishnAbadikelA/products-sentiment-urdu-ipa', 'Danie1Arias/sentiment-analysis-catalan-reviews', 'ZombitX64/seaworldsentimentv1', 'jfariasf8/kaggle_sentiment-analysis-for-mental-health', 'tasyapndya/free_nutritious_meals_sentiment_x_id_2025', 'pogpog/data-sentiments-02', 'mteb/mteb-human-tweet-sentiment-classification', 'mteb/mteb-human-multilingual-sentiment-classification', 'talhafewfefefew/Roman-Urdu-sentiment', 'talhafewfefefew/Roman-Urdu-sentiment-1', 'pogpog/dataset-sentiments-single-label-synth', 'pogpog/dataset-sentiments-multi-label-synth', 'pogpog/dataset-sentiments-single-label-synth-merged', 'polyglots/punjabi-sentiment-tagger-stratified', 'prakod/sentiment_all', 'prakod/sentiment_all_enhi', 'nasserCha/twitter_sentiment_analysis', 'AbderrahmanSkiredj1/Tulu-3-english-only-sentiment-subset', 'tetsuro731/wrime-sentiment', 'Lo-Renz-O/vaovao_malagasy_sentiment_corpus', 'terens/twitter-sentiment', 'JosefGoldstein/aimlessinnovations_customer_sentiment', 'mym10/financial-sentiment-instruction-myth', 'andrewmonostate/test_sentiment_dataset', 'stephaniestv/electronic_amazon_review_sentiment', 'jurijvega/novice_sentiment', 'ik/twi-sentiments-corpus-v1-cleaned', 'emncnozge/merged-turkish-sentiment', 'xingqiang/chinese-herbal-medicine-sentiment', 'Nech-C/reddit-sentiment-annotated', 'Nech-C/reddit-sentiment-complete', 'ituperceptron/turkish-financial-sentiment-256k', 'Muhammad7777/sentiment_analysis_homonyms', 'kingslin/sentimentalanalysisdataset', 'zahratalitha/sentimenteks', 'im-tsr/comments-sentiments', 'joyson117/manipuri-sentiment-analysis-dataset', 'sreejith8100/Sp1786_multiclass-sentiment-analysis-dataset', 'sreejith8100/indic_sentiment_analyzer_cleaned', 'Swarnadeep-28/bn_code_mix_sentiment_dataset', 'metgbi-2025/data_sentiment', 'metgbi-2025/sentiment_data', 'Najmuddin/sentimentnajm', 'Najmuddin/sentimentnajme', 'Najmuddin/mysentiment_analysis', 'aksujana/emoji_sentiment', 'eduhuemar001/dataset-sentiment-4bit-train-tuning', 'eduhuemar001/dataset-sentiment-4bit-test-tuning', 'polyglots/punjabi-sentiment-tagger-stratified-Translated', 'Shekswess/ai-healthcare-biomedical-sentiment', 'King-8/creative-energy-sentiment', 'polyglots/punjabi-sentiment-tagger-stratified-codeswitched', 'polyglots/punjabi-sentiment-tagger-stratified-transliterated']\n"
     ]
    }
   ],
   "source": [
    "import huggingface_hub as hfh\n",
    "\n",
    "# Example: search for datasets containing \"sentiment\"\n",
    "datasets_with_sentiment = [d.id for d in hfh.list_datasets() if \"sentiment\" in d.id]\n",
    "print(datasets_with_sentiment)"
   ]
  },
  {
   "cell_type": "code",
   "execution_count": null,
   "metadata": {
    "colab": {
     "base_uri": "https://localhost:8080/"
    },
    "executionInfo": {
     "elapsed": 109200,
     "status": "ok",
     "timestamp": 1757843741605,
     "user": {
      "displayName": "M Aqeel Awan",
      "userId": "00217619579415678503"
     },
     "user_tz": -300
    },
    "id": "jWnIccs-obny",
    "outputId": "b02257ac-c5ea-46e1-f48a-2732c1d62cfa"
   },
   "outputs": [
    {
     "name": "stderr",
     "output_type": "stream",
     "text": [
      "HTTP Error 429 thrown while requesting GET https://huggingface.co/api/datasets?sort=trendingScore&cursor=eyIkb3IiOlt7InRyZW5kaW5nU2NvcmUiOjAsIl9pZCI6eyIkZ3QiOiI2ODc2NDhlNzY0MTNmNmVjODdhMjAwNzIifX0seyJ0cmVuZGluZ1Njb3JlIjp7IiRsdCI6MH19LHsidHJlbmRpbmdTY29yZSI6bnVsbH1dfQ%3D%3D\n",
      "WARNING:huggingface_hub.utils._http:HTTP Error 429 thrown while requesting GET https://huggingface.co/api/datasets?sort=trendingScore&cursor=eyIkb3IiOlt7InRyZW5kaW5nU2NvcmUiOjAsIl9pZCI6eyIkZ3QiOiI2ODc2NDhlNzY0MTNmNmVjODdhMjAwNzIifX0seyJ0cmVuZGluZ1Njb3JlIjp7IiRsdCI6MH19LHsidHJlbmRpbmdTY29yZSI6bnVsbH1dfQ%3D%3D\n",
      "Retrying in 1s [Retry 1/20].\n",
      "WARNING:huggingface_hub.utils._http:Retrying in 1s [Retry 1/20].\n",
      "HTTP Error 429 thrown while requesting GET https://huggingface.co/api/datasets?sort=trendingScore&cursor=eyIkb3IiOlt7InRyZW5kaW5nU2NvcmUiOjAsIl9pZCI6eyIkZ3QiOiI2ODc2NDhlNzY0MTNmNmVjODdhMjAwNzIifX0seyJ0cmVuZGluZ1Njb3JlIjp7IiRsdCI6MH19LHsidHJlbmRpbmdTY29yZSI6bnVsbH1dfQ%3D%3D\n",
      "WARNING:huggingface_hub.utils._http:HTTP Error 429 thrown while requesting GET https://huggingface.co/api/datasets?sort=trendingScore&cursor=eyIkb3IiOlt7InRyZW5kaW5nU2NvcmUiOjAsIl9pZCI6eyIkZ3QiOiI2ODc2NDhlNzY0MTNmNmVjODdhMjAwNzIifX0seyJ0cmVuZGluZ1Njb3JlIjp7IiRsdCI6MH19LHsidHJlbmRpbmdTY29yZSI6bnVsbH1dfQ%3D%3D\n",
      "Retrying in 2s [Retry 2/20].\n",
      "WARNING:huggingface_hub.utils._http:Retrying in 2s [Retry 2/20].\n",
      "HTTP Error 429 thrown while requesting GET https://huggingface.co/api/datasets?sort=trendingScore&cursor=eyIkb3IiOlt7InRyZW5kaW5nU2NvcmUiOjAsIl9pZCI6eyIkZ3QiOiI2ODc2NDhlNzY0MTNmNmVjODdhMjAwNzIifX0seyJ0cmVuZGluZ1Njb3JlIjp7IiRsdCI6MH19LHsidHJlbmRpbmdTY29yZSI6bnVsbH1dfQ%3D%3D\n",
      "WARNING:huggingface_hub.utils._http:HTTP Error 429 thrown while requesting GET https://huggingface.co/api/datasets?sort=trendingScore&cursor=eyIkb3IiOlt7InRyZW5kaW5nU2NvcmUiOjAsIl9pZCI6eyIkZ3QiOiI2ODc2NDhlNzY0MTNmNmVjODdhMjAwNzIifX0seyJ0cmVuZGluZ1Njb3JlIjp7IiRsdCI6MH19LHsidHJlbmRpbmdTY29yZSI6bnVsbH1dfQ%3D%3D\n",
      "Retrying in 4s [Retry 3/20].\n",
      "WARNING:huggingface_hub.utils._http:Retrying in 4s [Retry 3/20].\n",
      "HTTP Error 429 thrown while requesting GET https://huggingface.co/api/datasets?sort=trendingScore&cursor=eyIkb3IiOlt7InRyZW5kaW5nU2NvcmUiOjAsIl9pZCI6eyIkZ3QiOiI2ODc2NDhlNzY0MTNmNmVjODdhMjAwNzIifX0seyJ0cmVuZGluZ1Njb3JlIjp7IiRsdCI6MH19LHsidHJlbmRpbmdTY29yZSI6bnVsbH1dfQ%3D%3D\n",
      "WARNING:huggingface_hub.utils._http:HTTP Error 429 thrown while requesting GET https://huggingface.co/api/datasets?sort=trendingScore&cursor=eyIkb3IiOlt7InRyZW5kaW5nU2NvcmUiOjAsIl9pZCI6eyIkZ3QiOiI2ODc2NDhlNzY0MTNmNmVjODdhMjAwNzIifX0seyJ0cmVuZGluZ1Njb3JlIjp7IiRsdCI6MH19LHsidHJlbmRpbmdTY29yZSI6bnVsbH1dfQ%3D%3D\n",
      "Retrying in 8s [Retry 4/20].\n",
      "WARNING:huggingface_hub.utils._http:Retrying in 8s [Retry 4/20].\n",
      "HTTP Error 429 thrown while requesting GET https://huggingface.co/api/datasets?sort=trendingScore&cursor=eyIkb3IiOlt7InRyZW5kaW5nU2NvcmUiOjAsIl9pZCI6eyIkZ3QiOiI2ODc2NDhlNzY0MTNmNmVjODdhMjAwNzIifX0seyJ0cmVuZGluZ1Njb3JlIjp7IiRsdCI6MH19LHsidHJlbmRpbmdTY29yZSI6bnVsbH1dfQ%3D%3D\n",
      "WARNING:huggingface_hub.utils._http:HTTP Error 429 thrown while requesting GET https://huggingface.co/api/datasets?sort=trendingScore&cursor=eyIkb3IiOlt7InRyZW5kaW5nU2NvcmUiOjAsIl9pZCI6eyIkZ3QiOiI2ODc2NDhlNzY0MTNmNmVjODdhMjAwNzIifX0seyJ0cmVuZGluZ1Njb3JlIjp7IiRsdCI6MH19LHsidHJlbmRpbmdTY29yZSI6bnVsbH1dfQ%3D%3D\n",
      "Retrying in 8s [Retry 5/20].\n",
      "WARNING:huggingface_hub.utils._http:Retrying in 8s [Retry 5/20].\n",
      "HTTP Error 429 thrown while requesting GET https://huggingface.co/api/datasets?sort=trendingScore&cursor=eyIkb3IiOlt7InRyZW5kaW5nU2NvcmUiOjAsIl9pZCI6eyIkZ3QiOiI2ODc2NDhlNzY0MTNmNmVjODdhMjAwNzIifX0seyJ0cmVuZGluZ1Njb3JlIjp7IiRsdCI6MH19LHsidHJlbmRpbmdTY29yZSI6bnVsbH1dfQ%3D%3D\n",
      "WARNING:huggingface_hub.utils._http:HTTP Error 429 thrown while requesting GET https://huggingface.co/api/datasets?sort=trendingScore&cursor=eyIkb3IiOlt7InRyZW5kaW5nU2NvcmUiOjAsIl9pZCI6eyIkZ3QiOiI2ODc2NDhlNzY0MTNmNmVjODdhMjAwNzIifX0seyJ0cmVuZGluZ1Njb3JlIjp7IiRsdCI6MH19LHsidHJlbmRpbmdTY29yZSI6bnVsbH1dfQ%3D%3D\n",
      "Retrying in 8s [Retry 6/20].\n",
      "WARNING:huggingface_hub.utils._http:Retrying in 8s [Retry 6/20].\n"
     ]
    },
    {
     "name": "stdout",
     "output_type": "stream",
     "text": [
      "Total datasets: 498242\n"
     ]
    },
    {
     "data": {
      "text/plain": [
       "[DatasetInfo(id='HuggingFaceFW/finepdfs', author='HuggingFaceFW', sha='909850e0d03f191dced336f4e07d85f0fd1b9528', created_at=datetime.datetime(2025, 9, 5, 20, 8, 33, tzinfo=datetime.timezone.utc), last_modified=datetime.datetime(2025, 9, 8, 13, 36, 38, tzinfo=datetime.timezone.utc), private=False, gated=False, disabled=False, downloads=51455, downloads_all_time=None, likes=418, paperswithcode_id=None, tags=['task_categories:text-generation', 'language:aai', 'language:aak', 'language:aau', 'language:aaz', 'language:aba', 'language:abi', 'language:abk', 'language:abn', 'language:abq', 'language:abs', 'language:abt', 'language:abx', 'language:aby', 'language:abz', 'language:aca', 'language:acd', 'language:ace', 'language:acf', 'language:ach', 'language:acm', 'language:acn', 'language:acr', 'language:acu', 'language:ada', 'language:ade', 'language:adh', 'language:adi', 'language:adj', 'language:adl', 'language:ady', 'language:adz', 'language:aeb', 'language:aer', 'language:aeu', 'language:aey', 'language:afr', 'language:agd', 'language:agg', 'language:agm', 'language:agn', 'language:agr', 'language:agt', 'language:agu', 'language:agw', 'language:agx', 'language:aha', 'language:ahk', 'language:aia', 'language:aii', 'language:aim', 'language:ain', 'language:ajg', 'language:aji', 'language:ajz', 'language:akb', 'language:ake', 'language:akh', 'language:akp', 'language:alj', 'language:aln', 'language:alp', 'language:alq', 'language:als', 'language:alt', 'language:aly', 'language:alz', 'language:ame', 'language:amf', 'language:amh', 'language:ami', 'language:amk', 'language:amm', 'language:amn', 'language:amp', 'language:amr', 'language:amu', 'language:amx', 'language:ang', 'language:anm', 'language:ann', 'language:anp', 'language:anv', 'language:any', 'language:aoi', 'language:aoj', 'language:aom', 'language:aoz', 'language:apb', 'language:apc', 'language:ape', 'language:apn', 'language:apr', 'language:apt', 'language:apu', 'language:apw', 'language:apy', 'language:apz', 'language:arb', 'language:are', 'language:arg', 'language:arl', 'language:arn', 'language:arp', 'language:arq', 'language:ars', 'language:ary', 'language:arz', 'language:asg', 'language:asm', 'language:aso', 'language:ast', 'language:ata', 'language:atb', 'language:atd', 'language:atg', 'language:ati', 'language:atj', 'language:atq', 'language:att', 'language:auc', 'language:aui', 'language:auy', 'language:ava', 'language:avk', 'language:avn', 'language:avt', 'language:avu', 'language:awa', 'language:awb', 'language:awx', 'language:ayo', 'language:ayp', 'language:ayr', 'language:azb', 'language:azg', 'language:azj', 'language:azz', 'language:bak', 'language:bam', 'language:ban', 'language:bao', 'language:bar', 'language:bas', 'language:bav', 'language:bba', 'language:bbb', 'language:bbc', 'language:bbj', 'language:bbk', 'language:bbo', 'language:bbr', 'language:bch', 'language:bci', 'language:bcl', 'language:bco', 'language:bcw', 'language:bdd', 'language:bdh', 'language:bdq', 'language:bea', 'language:bef', 'language:bel', 'language:bem', 'language:ben', 'language:beq', 'language:bew', 'language:bex', 'language:bfd', 'language:bfo', 'language:bgr', 'language:bgs', 'language:bgt', 'language:bgz', 'language:bhg', 'language:bhl', 'language:bho', 'language:bhp', 'language:bhw', 'language:bhz', 'language:bib', 'language:big', 'language:bim', 'language:bin', 'language:bis', 'language:biu', 'language:biv', 'language:bjn', 'language:bjp', 'language:bjr', 'language:bjv', 'language:bkd', 'language:bkl', 'language:bkq', 'language:bku', 'language:bkv', 'language:bla', 'language:blh', 'language:blk', 'language:blw', 'language:blz', 'language:bmh', 'language:bmk', 'language:bmq', 'language:bmr', 'language:bmu', 'language:bmv', 'language:bno', 'language:bnp', 'language:boa', 'language:bod', 'language:boj', 'language:bom', 'language:bon', 'language:bos', 'language:bov', 'language:box', 'language:bpr', 'language:bps', 'language:bpy', 'language:bqc', 'language:bqj', 'language:bqp', 'language:bre', 'language:brh', 'language:bru', 'language:brx', 'language:bsc', 'language:bsn', 'language:bsp', 'language:bsq', 'language:bss', 'language:btd', 'language:bth', 'language:bts', 'language:btt', 'language:btx', 'language:bud', 'language:bug', 'language:buk', 'language:bul', 'language:bum', 'language:bus', 'language:bvc', 'language:bvd', 'language:bvr', 'language:bvz', 'language:bwd', 'language:bwi', 'language:bwq', 'language:bwu', 'language:bxh', 'language:bxr', 'language:byr', 'language:byv', 'language:byx', 'language:bzd', 'language:bzh', 'language:bzi', 'language:bzj', 'language:caa', 'language:cab', 'language:cac', 'language:caf', 'language:cag', 'language:cak', 'language:cao', 'language:cap', 'language:caq', 'language:car', 'language:cas', 'language:cat', 'language:cav', 'language:cax', 'language:cbc', 'language:cbi', 'language:cbk', 'language:cbr', 'language:cbs', 'language:cbt', 'language:cbu', 'language:cbv', 'language:cce', 'language:cco', 'language:ccp', 'language:ceb', 'language:ceg', 'language:cek', 'language:ces', 'language:cfm', 'language:cgc', 'language:cgg', 'language:cha', 'language:chd', 'language:che', 'language:chf', 'language:chj', 'language:chk', 'language:cho', 'language:chq', 'language:chr', 'language:chu', 'language:chv', 'language:chw', 'language:chz', 'language:cjk', 'language:cjo', 'language:cjp', 'language:cjs', 'language:cjv', 'language:ckb', 'language:cko', 'language:ckt', 'language:cle', 'language:clu', 'language:cly', 'language:cme', 'language:cmn', 'language:cmo', 'language:cmr', 'language:cnh', 'language:cni', 'language:cnk', 'language:cnl', 'language:cnt', 'language:cnw', 'language:coe', 'language:cof', 'language:cok', 'language:con', 'language:cop', 'language:cor', 'language:cos', 'language:cot', 'language:cou', 'language:cpa', 'language:cpb', 'language:cpc', 'language:cpu', 'language:cpy', 'language:crh', 'language:crj', 'language:crk', 'language:crl', 'language:crm', 'language:crn', 'language:crs', 'language:crt', 'language:crx', 'language:csb', 'language:csk', 'language:cso', 'language:csw', 'language:csy', 'language:cta', 'language:ctd', 'language:cto', 'language:ctp', 'language:ctu', 'language:cub', 'language:cuc', 'language:cui', 'language:cuk', 'language:cul', 'language:cut', 'language:cux', 'language:cwe', 'language:cwt', 'language:cya', 'language:cym', 'language:czt', 'language:daa', 'language:dad', 'language:daf', 'language:dag', 'language:dah', 'language:dak', 'language:dan', 'language:dar', 'language:ddg', 'language:ddn', 'language:ded', 'language:des', 'language:deu', 'language:dga', 'language:dgc', 'language:dgi', 'language:dgr', 'language:dgz', 'language:dhg', 'language:dhm', 'language:dhv', 'language:did', 'language:dig', 'language:dik', 'language:diq', 'language:dis', 'language:diu', 'language:div', 'language:dje', 'language:djk', 'language:djr', 'language:dks', 'language:dln', 'language:dng', 'language:dnj', 'language:dnw', 'language:dob', 'language:doi', 'language:dop', 'language:dos', 'language:dow', 'language:drg', 'language:dru', 'language:dsb', 'language:dtb', 'language:dtp', 'language:dts', 'language:dty', 'language:dua', 'language:due', 'language:dug', 'language:duo', 'language:dur', 'language:dwr', 'language:dww', 'language:dyi', 'language:dyo', 'language:dyu', 'language:dzo', 'language:ebk', 'language:efi', 'language:eka', 'language:ekk', 'language:eko', 'language:ell', 'language:emi', 'language:eml', 'language:emp', 'language:enb', 'language:enl', 'language:enm', 'language:enq', 'language:enx', 'language:epo', 'language:eri', 'language:ese', 'language:esi', 'language:esk', 'language:ess', 'language:esu', 'language:eto', 'language:etr', 'language:etu', 'language:eus', 'language:eve', 'language:ewe', 'language:ewo', 'language:ext', 'language:eza', 'language:faa', 'language:fad', 'language:fai', 'language:fal', 'language:fan', 'language:fao', 'language:far', 'language:fas', 'language:fat', 'language:ffm', 'language:fij', 'language:fil', 'language:fin', 'language:fit', 'language:fkv', 'language:fmu', 'language:fon', 'language:for', 'language:fra', 'language:frd', 'language:fro', 'language:frp', 'language:frr', 'language:fry', 'language:fub', 'language:fud', 'language:fue', 'language:fuf', 'language:fuh', 'language:fuq', 'language:fur', 'language:fuv', 'language:gaa', 'language:gag', 'language:gah', 'language:gai', 'language:gam', 'language:gaw', 'language:gaz', 'language:gbi', 'language:gbo', 'language:gbr', 'language:gcf', 'language:gcr', 'language:gde', 'language:gdg', 'language:gdn', 'language:gdr', 'language:geb', 'language:gej', 'language:gfk', 'language:ghs', 'language:gid', 'language:gil', 'language:giz', 'language:gjn', 'language:gkn', 'language:gla', 'language:gle', 'language:glg', 'language:glk', 'language:glv', 'language:gmh', 'language:gmv', 'language:gna', 'language:gnb', 'language:gnd', 'language:gng', 'language:gnn', 'language:gnw', 'language:goa', 'language:gof', 'language:gog', 'language:goh', 'language:gom', 'language:gor', 'language:gos', 'language:got', 'language:gqr', 'language:grc', 'language:grt', 'language:gso', 'language:gsw', 'language:gub', 'language:guc', 'language:gud', 'language:gug', 'language:guh', 'language:gui', 'language:guj', 'language:guk', 'language:gul', 'language:gum', 'language:gun', 'language:guo', 'language:guq', 'language:gur', 'language:guu', 'language:guw', 'language:gux', 'language:guz', 'language:gvc', 'language:gvf', 'language:gvl', 'language:gvn', 'language:gwi', 'language:gwr', 'language:gya', 'language:gym', 'language:gyr', 'language:hac', 'language:hae', 'language:hag', 'language:hak', 'language:hat', 'language:hav', 'language:haw', 'language:hay', 'language:hbo', 'language:hch', 'language:heb', 'language:heg', 'language:heh', 'language:her', 'language:hif', 'language:hig', 'language:hil', 'language:hin', 'language:hix', 'language:hla', 'language:hmo', 'language:hmr', 'language:hne', 'language:hnj', 'language:hnn', 'language:hns', 'language:hop', 'language:hot', 'language:hra', 'language:hrv', 'language:hrx', 'language:hsb', 'language:hto', 'language:hub', 'language:hui', 'language:hun', 'language:hus', 'language:huu', 'language:huv', 'language:hvn', 'language:hwc', 'language:hye', 'language:hyw', 'language:ian', 'language:iba', 'language:ibg', 'language:ibo', 'language:icr', 'language:ido', 'language:idu', 'language:ifa', 'language:ifb', 'language:ife', 'language:ifk', 'language:ifu', 'language:ify', 'language:ige', 'language:ign', 'language:ike', 'language:ikk', 'language:ikt', 'language:ikw', 'language:ilb', 'language:ile', 'language:ilo', 'language:imo', 'language:ina', 'language:inb', 'language:ind', 'language:inh', 'language:ino', 'language:iou', 'language:ipi', 'language:iqw', 'language:iri', 'language:irk', 'language:iry', 'language:isd', 'language:ish', 'language:isl', 'language:iso', 'language:ita', 'language:itv', 'language:ium', 'language:ivb', 'language:ivv', 'language:iws', 'language:ixl', 'language:izr', 'language:izz', 'language:jaa', 'language:jac', 'language:jae', 'language:jam', 'language:jav', 'language:jbo', 'language:jbu', 'language:jic', 'language:jiv', 'language:jmc', 'language:jpn', 'language:jra', 'language:jun', 'language:jvn', 'language:kaa', 'language:kab', 'language:kac', 'language:kak', 'language:kal', 'language:kam', 'language:kan', 'language:kao', 'language:kaq', 'language:kas', 'language:kat', 'language:kaz', 'language:kbc', 'language:kbd', 'language:kbh', 'language:kbm', 'language:kbo', 'language:kbp', 'language:kbq', 'language:kbr', 'language:kby', 'language:kca', 'language:kcg', 'language:kck', 'language:kdc', 'language:kde', 'language:kdh', 'language:kdi', 'language:kdj', 'language:kdl', 'language:kdr', 'language:kea', 'language:kei', 'language:kek', 'language:ken', 'language:keo', 'language:ker', 'language:kew', 'language:kez', 'language:kff', 'language:kgf', 'language:kgk', 'language:kgp', 'language:kgr', 'language:kha', 'language:khk', 'language:khm', 'language:khs', 'language:khz', 'language:kia', 'language:kij', 'language:kik', 'language:kin', 'language:kir', 'language:kiu', 'language:kix', 'language:kjb', 'language:kje', 'language:kjh', 'language:kjs', 'language:kkc', 'language:kki', 'language:kkj', 'language:kkl', 'language:kle', 'language:klt', 'language:klv', 'language:kmb', 'language:kmg', 'language:kmh', 'language:kmk', 'language:kmm', 'language:kmo', 'language:kmr', 'language:kms', 'language:kmu', 'language:kmy', 'language:knc', 'language:kne', 'language:knf', 'language:kng', 'language:knj', 'language:knk', 'language:kno', 'language:knv', 'language:knx', 'language:kny', 'language:kog', 'language:koi', 'language:koo', 'language:kor', 'language:kos', 'language:kpe', 'language:kpf', 'language:kpg', 'language:kpj', 'language:kpq', 'language:kpr', 'language:kpv', 'language:kpw', 'language:kpx', 'language:kpz', 'language:kqc', 'language:kqe', 'language:kqf', 'language:kql', 'language:kqn', 'language:kqo', 'language:kqp', 'language:kqs', 'language:kqw', 'language:kqy', 'language:krc', 'language:kri', 'language:krj', 'language:krl', 'language:kru', 'language:krx', 'language:ksb', 'language:ksc', 'language:ksd', 'language:ksf', 'language:ksh', 'language:ksj', 'language:ksp', 'language:ksr', 'language:kss', 'language:ksw', 'language:ktb', 'language:ktj', 'language:ktm', 'language:kto', 'language:ktu', 'language:ktz', 'language:kua', 'language:kub', 'language:kud', 'language:kue', 'language:kuj', 'language:kum', 'language:kup', 'language:kus', 'language:kvg', 'language:kvj', 'language:kvn', 'language:kwd', 'language:kwf', 'language:kwi', 'language:kwj', 'language:kwn', 'language:kwy', 'language:kxc', 'language:kxm', 'language:kxw', 'language:kyc', 'language:kyf', 'language:kyg', 'language:kyq', 'language:kyu', 'language:kyz', 'language:kze', 'language:kzf', 'language:kzj', 'language:lac', 'language:lad', 'language:lai', 'language:laj', 'language:lam', 'language:lao', 'language:lap', 'language:lat', 'language:lbb', 'language:lbe', 'language:lbj', 'language:lbk', 'language:lcm', 'language:lcp', 'language:ldi', 'language:ldn', 'language:lee', 'language:lef', 'language:leh', 'language:lem', 'language:leu', 'language:lew', 'language:lex', 'language:lez', 'language:lfn', 'language:lgg', 'language:lgl', 'language:lgm', 'language:lhi', 'language:lhu', 'language:lia', 'language:lid', 'language:lif', 'language:lij', 'language:lim', 'language:lin', 'language:lip', 'language:lis', 'language:lit', 'language:liv', 'language:ljp', 'language:lki', 'language:llb', 'language:lld', 'language:llg', 'language:lln', 'language:lmk', 'language:lmo', 'language:lmp', 'language:lnd', 'language:lob', 'language:loe', 'language:log', 'language:lok', 'language:lol', 'language:lom', 'language:loq', 'language:loz', 'language:lrc', 'language:lsi', 'language:lsm', 'language:ltg', 'language:ltz', 'language:lua', 'language:lub', 'language:luc', 'language:lud', 'language:lue', 'language:lug', 'language:lun', 'language:luo', 'language:lus', 'language:lvs', 'language:lwg', 'language:lwo', 'language:lww', 'language:lzh', 'language:maa', 'language:mad', 'language:maf', 'language:mag', 'language:mah', 'language:mai', 'language:maj', 'language:mak', 'language:mal', 'language:mam', 'language:maq', 'language:mar', 'language:mas', 'language:mau', 'language:mav', 'language:maw', 'language:maz', 'language:mbb', 'language:mbc', 'language:mbd', 'language:mbf', 'language:mbh', 'language:mbi', 'language:mbj', 'language:mbl', 'language:mbs', 'language:mbt', 'language:mca', 'language:mcb', 'language:mcd', 'language:mcf', 'language:mck', 'language:mcn', 'language:mco', 'language:mcp', 'language:mcq', 'language:mcu', 'language:mda', 'language:mdf', 'language:mdy', 'language:med', 'language:mee', 'language:mej', 'language:mek', 'language:men', 'language:meq', 'language:mer', 'language:met', 'language:meu', 'language:mev', 'language:mfe', 'language:mfg', 'language:mfh', 'language:mfi', 'language:mfk', 'language:mfq', 'language:mfy', 'language:mfz', 'language:mgc', 'language:mgh', 'language:mgo', 'language:mgr', 'language:mhi', 'language:mhl', 'language:mhr', 'language:mhw', 'language:mhx', 'language:mhy', 'language:mib', 'language:mic', 'language:mie', 'language:mif', 'language:mig', 'language:mih', 'language:mil', 'language:mim', 'language:min', 'language:mio', 'language:mip', 'language:miq', 'language:mir', 'language:mit', 'language:miy', 'language:miz', 'language:mjc', 'language:mjw', 'language:mkd', 'language:mkl', 'language:mkn', 'language:mks', 'language:mkz', 'language:mlh', 'language:mlp', 'language:mlt', 'language:mlu', 'language:mmn', 'language:mmo', 'language:mmx', 'language:mna', 'language:mnb', 'language:mnf', 'language:mni', 'language:mnk', 'language:mns', 'language:mnw', 'language:mnx', 'language:mny', 'language:moa', 'language:moc', 'language:mog', 'language:moh', 'language:mop', 'language:mor', 'language:mos', 'language:mox', 'language:mpg', 'language:mph', 'language:mpm', 'language:mpp', 'language:mps', 'language:mpt', 'language:mpx', 'language:mqb', 'language:mqj', 'language:mqy', 'language:mrg', 'language:mri', 'language:mrj', 'language:mrq', 'language:mrv', 'language:mrw', 'language:msb', 'language:msc', 'language:mse', 'language:msk', 'language:msy', 'language:mta', 'language:mtg', 'language:mti', 'language:mto', 'language:mtp', 'language:mua', 'language:mug', 'language:muh', 'language:mui', 'language:mup', 'language:mur', 'language:mus', 'language:mux', 'language:muy', 'language:mva', 'language:mvn', 'language:mvp', 'language:mwc', 'language:mwf', 'language:mwl', 'language:mwm', 'language:mwn', 'language:mwp', 'language:mwq', 'language:mwv', 'language:mww', 'language:mxb', 'language:mxp', 'language:mxq', 'language:mxt', 'language:mxv', 'language:mya', 'language:myb', 'language:myk', 'language:myu', 'language:myv', 'language:myw', 'language:myx', 'language:myy', 'language:mza', 'language:mzh', 'language:mzk', 'language:mzl', 'language:mzm', 'language:mzn', 'language:mzw', 'language:mzz', 'language:nab', 'language:naf', 'language:nah', 'language:nak', 'language:nap', 'language:naq', 'language:nas', 'language:nav', 'language:naw', 'language:nba', 'language:nbc', 'language:nbe', 'language:nbl', 'language:nbq', 'language:nbu', 'language:nca', 'language:nch', 'language:ncj', 'language:ncl', 'language:ncq', 'language:nct', 'language:ncu', 'language:ncx', 'language:ndc', 'language:nde', 'language:ndh', 'language:ndi', 'language:ndj', 'language:ndo', 'language:nds', 'language:ndz', 'language:neb', 'language:new', 'language:nfa', 'language:nfr', 'language:ngb', 'language:ngc', 'language:ngl', 'language:ngp', 'language:ngu', 'language:nhd', 'language:nhe', 'language:nhg', 'language:nhi', 'language:nhk', 'language:nho', 'language:nhr', 'language:nhu', 'language:nhw', 'language:nhx', 'language:nhy', 'language:nia', 'language:nif', 'language:nii', 'language:nij', 'language:nim', 'language:nin', 'language:nio', 'language:niu', 'language:niy', 'language:njb', 'language:njm', 'language:njn', 'language:njo', 'language:njz', 'language:nkf', 'language:nko', 'language:nld', 'language:nlg', 'language:nma', 'language:nmf', 'language:nmh', 'language:nmo', 'language:nmw', 'language:nmz', 'language:nnb', 'language:nng', 'language:nnh', 'language:nnl', 'language:nno', 'language:nnp', 'language:nnq', 'language:nnw', 'language:noa', 'language:nob', 'language:nod', 'language:nog', 'language:non', 'language:nop', 'language:not', 'language:nou', 'language:nov', 'language:nph', 'language:npi', 'language:npl', 'language:npo', 'language:npy', 'language:nqo', 'language:nre', 'language:nrf', 'language:nri', 'language:nrm', 'language:nsa', 'language:nse', 'language:nsm', 'language:nsn', 'language:nso', 'language:nss', 'language:nst', 'language:nsu', 'language:ntp', 'language:ntr', 'language:ntu', 'language:nuj', 'language:nus', 'language:nuy', 'language:nvm', 'language:nwb', 'language:nwi', 'language:nwx', 'language:nxd', 'language:nya', 'language:nyf', 'language:nyk', 'language:nyn', 'language:nyo', 'language:nyu', 'language:nyy', 'language:nza', 'language:nzi', 'language:nzm', 'language:obo', 'language:oci', 'language:ogo', 'language:ojb', 'language:oke', 'language:oku', 'language:okv', 'language:old', 'language:olo', 'language:omb', 'language:omw', 'language:ong', 'language:ons', 'language:ood', 'language:opm', 'language:orv', 'language:ory', 'language:oss', 'language:ota', 'language:otd', 'language:ote', 'language:otm', 'language:otn', 'language:oto', 'language:otq', 'language:ots', 'language:otw', 'language:oym', 'language:ozm', 'language:pab', 'language:pad', 'language:pag', 'language:pah', 'language:pam', 'language:pan', 'language:pao', 'language:pap', 'language:pau', 'language:pbb', 'language:pbc', 'language:pbi', 'language:pbt', 'language:pcd', 'language:pck', 'language:pcm', 'language:pdc', 'language:pdt', 'language:pem', 'language:pfe', 'language:pfl', 'language:phm', 'language:pib', 'language:pio', 'language:pir', 'language:pis', 'language:pjt', 'language:pkb', 'language:plg', 'language:pls', 'language:plt', 'language:plu', 'language:plw', 'language:pma', 'language:pmf', 'language:pmq', 'language:pms', 'language:pmx', 'language:pnb', 'language:pne', 'language:pnt', 'language:pny', 'language:poe', 'language:poh', 'language:poi', 'language:pol', 'language:pon', 'language:por', 'language:pos', 'language:pot', 'language:pov', 'language:poy', 'language:ppk', 'language:ppo', 'language:pps', 'language:prf', 'language:prg', 'language:pri', 'language:prq', 'language:pse', 'language:pss', 'language:ptp', 'language:ptu', 'language:pui', 'language:pwg', 'language:pwn', 'language:pww', 'language:pxm', 'language:qub', 'language:quc', 'language:quf', 'language:qug', 'language:quh', 'language:qul', 'language:qup', 'language:qus', 'language:quw', 'language:quy', 'language:quz', 'language:qva', 'language:qvc', 'language:qve', 'language:qvh', 'language:qvi', 'language:qvm', 'language:qvn', 'language:qvo', 'language:qvs', 'language:qvw', 'language:qvz', 'language:qwh', 'language:qxh', 'language:qxl', 'language:qxn', 'language:qxo', 'language:qxr', 'language:rad', 'language:rai', 'language:rap', 'language:rar', 'language:rav', 'language:raw', 'language:rcf', 'language:rej', 'language:rel', 'language:rgu', 'language:rhg', 'language:ria', 'language:rim', 'language:rjs', 'language:rkb', 'language:rmc', 'language:rme', 'language:rml', 'language:rmn', 'language:rmo', 'language:rmq', 'language:rmy', 'language:rnd', 'language:rng', 'language:rnl', 'language:roh', 'language:ron', 'language:roo', 'language:rop', 'language:row', 'language:rro', 'language:rtm', 'language:rub', 'language:rue', 'language:ruf', 'language:rug', 'language:run', 'language:rup', 'language:rus', 'language:rwo', 'language:sab', 'language:sag', 'language:sah', 'language:san', 'language:sas', 'language:sat', 'language:sba', 'language:sbd', 'language:sbe', 'language:sbl', 'language:sbs', 'language:sby', 'language:sck', 'language:scn', 'language:sco', 'language:sda', 'language:sdc', 'language:sdh', 'language:sdo', 'language:sdq', 'language:seh', 'language:ses', 'language:sey', 'language:sfw', 'language:sgb', 'language:sgc', 'language:sgh', 'language:sgs', 'language:sgw', 'language:sgz', 'language:shi', 'language:shk', 'language:shn', 'language:shp', 'language:shu', 'language:sid', 'language:sig', 'language:sil', 'language:sim', 'language:sin', 'language:sja', 'language:sjo', 'language:sju', 'language:skg', 'language:skr', 'language:sld', 'language:slk', 'language:sll', 'language:slv', 'language:sma', 'language:sme', 'language:smj', 'language:smk', 'language:sml', 'language:smn', 'language:smo', 'language:sms', 'language:smt', 'language:sna', 'language:snc', 'language:snd', 'language:snf', 'language:snn', 'language:snp', 'language:snw', 'language:sny', 'language:soe', 'language:som', 'language:sop', 'language:soq', 'language:sot', 'language:soy', 'language:spa', 'language:spl', 'language:spm', 'language:spp', 'language:sps', 'language:spy', 'language:srd', 'language:sri', 'language:srm', 'language:srn', 'language:srp', 'language:srq', 'language:srr', 'language:ssd', 'language:ssg', 'language:ssw', 'language:ssx', 'language:stn', 'language:stp', 'language:stq', 'language:sua', 'language:suc', 'language:sue', 'language:suk', 'language:sun', 'language:sur', 'language:sus', 'language:suz', 'language:swb', 'language:swc', 'language:swe', 'language:swg', 'language:swh', 'language:swk', 'language:swp', 'language:sxb', 'language:sxn', 'language:syb', 'language:syc', 'language:syl', 'language:szl', 'language:szy', 'language:tab', 'language:tac', 'language:tah', 'language:taj', 'language:tam', 'language:tap', 'language:taq', 'language:tar', 'language:tat', 'language:tav', 'language:taw', 'language:tay', 'language:tbc', 'language:tbg', 'language:tbk', 'language:tbl', 'language:tbo', 'language:tbw', 'language:tby', 'language:tbz', 'language:tca', 'language:tcc', 'language:tcf', 'language:tcs', 'language:tcy', 'language:tcz', 'language:ted', 'language:tee', 'language:tel', 'language:tem', 'language:teo', 'language:ter', 'language:tet', 'language:tew', 'language:tfr', 'language:tgk', 'language:tgo', 'language:tgp', 'language:tha', 'language:thk', 'language:thl', 'language:tif', 'language:tig', 'language:tih', 'language:tik', 'language:tim', 'language:tir', 'language:tiv', 'language:tiy', 'language:tke', 'language:tkl', 'language:tkr', 'language:tku', 'language:tlb', 'language:tlf', 'language:tlh', 'language:tlj', 'language:tll', 'language:tly', 'language:tmc', 'language:tmd', 'language:tna', 'language:tnc', 'language:tnk', 'language:tnn', 'language:tnp', 'language:tnr', 'language:tob', 'language:toc', 'language:tod', 'language:tog', 'language:toh', 'language:toi', 'language:toj', 'language:tok', 'language:ton', 'language:too', 'language:top', 'language:tos', 'language:tpa', 'language:tpi', 'language:tpm', 'language:tpp', 'language:tpt', 'language:tpw', 'language:tpz', 'language:tqo', 'language:trc', 'language:trn', 'language:tro', 'language:trp', 'language:trq', 'language:trs', 'language:trv', 'language:tsc', 'language:tsg', 'language:tsn', 'language:tso', 'language:tsw', 'language:tsz', 'language:ttc', 'language:tte', 'language:ttj', 'language:ttq', 'language:tuc', 'language:tue', 'language:tuf', 'language:tui', 'language:tuk', 'language:tul', 'language:tum', 'language:tuo', 'language:tur', 'language:tuv', 'language:tvk', 'language:tvl', 'language:twi', 'language:twu', 'language:twx', 'language:txq', 'language:txu', 'language:tyv', 'language:tzh', 'language:tzj', 'language:tzl', 'language:tzm', 'language:tzo', 'language:ubr', 'language:ubu', 'language:udm', 'language:udu', 'language:uig', 'language:ukr', 'language:umb', 'language:upv', 'language:ura', 'language:urb', 'language:urd', 'language:urh', 'language:uri', 'language:urk', 'language:urt', 'language:urw', 'language:ury', 'language:usa', 'language:usp', 'language:uth', 'language:uvh', 'language:uvl', 'language:uzn', 'language:uzs', 'language:vag', 'language:vap', 'language:var', 'language:vec', 'language:ven', 'language:vep', 'language:vid', 'language:vie', 'language:viv', 'language:vls', 'language:vmk', 'language:vmw', 'language:vmy', 'language:vol', 'language:vot', 'language:vro', 'language:vun', 'language:vut', 'language:waj', 'language:wal', 'language:wap', 'language:war', 'language:wat', 'language:way', 'language:wba', 'language:wbm', 'language:wbp', 'language:wed', 'language:wer', 'language:wes', 'language:wew', 'language:whg', 'language:whk', 'language:wib', 'language:wim', 'language:wiu', 'language:wln', 'language:wls', 'language:wlv', 'language:wlx', 'language:wmt', 'language:wmw', 'language:wnc', 'language:wnu', 'language:wob', 'language:wol', 'language:wos', 'language:wrk', 'language:wrs', 'language:wsg', 'language:wsk', 'language:wuu', 'language:wuv', 'language:wwa', 'language:xal', 'language:xav', 'language:xbi', 'language:xbr', 'language:xed', 'language:xho', 'language:xla', 'language:xmf', 'language:xmm', 'language:xmv', 'language:xnn', 'language:xog', 'language:xon', 'language:xrb', 'language:xsb', 'language:xsi', 'language:xsm', 'language:xsr', 'language:xsu', 'language:xtd', 'language:xtm', 'language:xtn', 'language:xuo', 'language:yaa', 'language:yad', 'language:yal', 'language:yam', 'language:yan', 'language:yao', 'language:yap', 'language:yaq', 'language:yat', 'language:yaz', 'language:ybb', 'language:yby', 'language:ycn', 'language:ydd', 'language:yim', 'language:yka', 'language:yle', 'language:yli', 'language:yml', 'language:yom', 'language:yon', 'language:yor', 'language:yrb', 'language:yre', 'language:yrk', 'language:yrl', 'language:yss', 'language:yua', 'language:yue', 'language:yuj', 'language:yup', 'language:yut', 'language:yuw', 'language:yuz', 'language:yva', 'language:zaa', 'language:zab', 'language:zac', 'language:zad', 'language:zae', 'language:zai', 'language:zam', 'language:zao', 'language:zar', 'language:zas', 'language:zat', 'language:zav', 'language:zaw', 'language:zca', 'language:zdj', 'language:zea', 'language:zgh', 'language:zia', 'language:ziw', 'language:zne', 'language:zom', 'language:zos', 'language:zpa', 'language:zpc', 'language:zpg', 'language:zpi', 'language:zpj', 'language:zpl', 'language:zpm', 'language:zpo', 'language:zpq', 'language:zpt', 'language:zpu', 'language:zpv', 'language:zpz', 'language:zsm', 'language:zsr', 'language:ztq', 'language:zty', 'language:zul', 'language:zyb', 'language:zyp', 'license:odc-by', 'size_categories:100M<n<1B', 'format:parquet', 'modality:tabular', 'modality:text', 'library:datasets', 'library:dask', 'library:mlcroissant', 'library:polars', 'arxiv:2506.18421', 'arxiv:2109.07445', 'region:us'], trending_score=411, card_data=None, siblings=None, xet_enabled=None),\n",
       " DatasetInfo(id='HuggingFaceM4/FineVision', author='HuggingFaceM4', sha='a890e0476b650030271ac4a083145610c08a7ee9', created_at=datetime.datetime(2025, 7, 28, 16, 12, 38, tzinfo=datetime.timezone.utc), last_modified=datetime.datetime(2025, 9, 4, 19, 54, 22, tzinfo=datetime.timezone.utc), private=False, gated=False, disabled=False, downloads=134726, downloads_all_time=None, likes=305, paperswithcode_id=None, tags=['size_categories:10M<n<100M', 'format:parquet', 'modality:image', 'modality:text', 'library:datasets', 'library:dask', 'library:mlcroissant', 'library:polars', 'region:us'], trending_score=118, card_data=None, siblings=None, xet_enabled=None),\n",
       " DatasetInfo(id='fka/awesome-chatgpt-prompts', author='fka', sha='68ba7694e23014788dcc8ab5afe613824f45a05c', created_at=datetime.datetime(2022, 12, 13, 23, 47, 45, tzinfo=datetime.timezone.utc), last_modified=datetime.datetime(2025, 1, 6, 0, 2, 53, tzinfo=datetime.timezone.utc), private=False, gated=False, disabled=False, downloads=44269, downloads_all_time=None, likes=9031, paperswithcode_id=None, tags=['task_categories:question-answering', 'license:cc0-1.0', 'size_categories:n<1K', 'format:csv', 'modality:text', 'library:datasets', 'library:pandas', 'library:mlcroissant', 'library:polars', 'region:us', 'ChatGPT'], trending_score=45, card_data=None, siblings=None, xet_enabled=None),\n",
       " DatasetInfo(id='JDhruv14/Bhagavad-Gita_Dataset', author='JDhruv14', sha='612a129641b0dbe701d4f4f3917bda3217142124', created_at=datetime.datetime(2025, 9, 3, 12, 45, 6, tzinfo=datetime.timezone.utc), last_modified=datetime.datetime(2025, 9, 13, 15, 13, 14, tzinfo=datetime.timezone.utc), private=False, gated=False, disabled=False, downloads=1953, downloads_all_time=None, likes=36, paperswithcode_id=None, tags=['task_categories:translation', 'task_categories:text-generation', 'task_categories:feature-extraction', 'language:hi', 'language:sa', 'language:en', 'size_categories:n<1K', 'format:csv', 'modality:tabular', 'modality:text', 'library:datasets', 'library:pandas', 'library:mlcroissant', 'library:polars', 'region:us', 'Spirituality', 'Mythology', 'Hinduism', 'India'], trending_score=35, card_data=None, siblings=None, xet_enabled=None),\n",
       " DatasetInfo(id='LucasFang/FLUX-Reason-6M', author='LucasFang', sha='f8182120f9385b4c6ccb82e1919d4d84e4032b1b', created_at=datetime.datetime(2025, 7, 3, 7, 23, 35, tzinfo=datetime.timezone.utc), last_modified=datetime.datetime(2025, 9, 12, 2, 31, 11, tzinfo=datetime.timezone.utc), private=False, gated=False, disabled=False, downloads=7301, downloads_all_time=None, likes=32, paperswithcode_id=None, tags=['license:apache-2.0', 'size_categories:1M<n<10M', 'format:parquet', 'modality:image', 'modality:text', 'library:datasets', 'library:dask', 'library:mlcroissant', 'library:polars', 'arxiv:2509.09680', 'region:us'], trending_score=32, card_data=None, siblings=None, xet_enabled=None),\n",
       " DatasetInfo(id='jupyter-agent/jupyter-agent-dataset', author='jupyter-agent', sha='10a8dd461bb6c580fa25b83cd3b2f6810f1d6385', created_at=datetime.datetime(2025, 9, 2, 13, 50, 36, tzinfo=datetime.timezone.utc), last_modified=datetime.datetime(2025, 9, 10, 14, 42, 38, tzinfo=datetime.timezone.utc), private=False, gated=False, disabled=False, downloads=3786, downloads_all_time=None, likes=129, paperswithcode_id=None, tags=['task_categories:question-answering', 'task_categories:text-generation', 'annotations_creators:machine-generated', 'multilinguality:monolingual', 'language:code', 'license:apache-2.0', 'size_categories:10K<n<100K', 'format:parquet', 'modality:text', 'library:datasets', 'library:dask', 'library:mlcroissant', 'library:polars', 'region:us', 'jupyter', 'kaggle', 'agents', 'code', 'synthetic'], trending_score=30, card_data=None, siblings=None, xet_enabled=None),\n",
       " DatasetInfo(id='Pageshift-Entertainment/LongPage', author='Pageshift-Entertainment', sha='cdff8ffda945b62e3283d8b5fa4beaa715321cc0', created_at=datetime.datetime(2025, 9, 4, 22, 17, 33, tzinfo=datetime.timezone.utc), last_modified=datetime.datetime(2025, 9, 4, 22, 54, 1, tzinfo=datetime.timezone.utc), private=False, gated=False, disabled=False, downloads=9460, downloads_all_time=None, likes=46, paperswithcode_id=None, tags=['task_categories:text-generation', 'task_ids:language-modeling', 'task_ids:text2text-generation', 'annotations_creators:machine-generated', 'language_creators:found', 'multilinguality:monolingual', 'source_datasets:original', 'language:en', 'license:cc-by-4.0', 'license:other', 'size_categories:n<1K', 'format:parquet', 'modality:text', 'library:datasets', 'library:pandas', 'library:mlcroissant', 'library:polars', 'region:us', 'long-context', 'cot', 'reasoning', 'creative-writing', 'Cold start reasoning data'], trending_score=19, card_data=None, siblings=None, xet_enabled=None),\n",
       " DatasetInfo(id='Josephgflowers/Finance-Instruct-500k', author='Josephgflowers', sha='379407b4708ededdf48cd33d1e1cffda45cc56f4', created_at=datetime.datetime(2025, 1, 10, 0, 40, 7, tzinfo=datetime.timezone.utc), last_modified=datetime.datetime(2025, 3, 1, 19, 24, 42, tzinfo=datetime.timezone.utc), private=False, gated=False, disabled=False, downloads=2637, downloads_all_time=None, likes=171, paperswithcode_id=None, tags=['license:apache-2.0', 'size_categories:100K<n<1M', 'format:json', 'modality:text', 'library:datasets', 'library:pandas', 'library:mlcroissant', 'library:polars', 'region:us', 'finance', 'fine-tuning', 'conversational-ai', 'named-entity-recognition', 'sentiment-analysis', 'topic-classification', 'rag', 'multilingual', 'lightweight-llm'], trending_score=15, card_data=None, siblings=None, xet_enabled=None),\n",
       " DatasetInfo(id='SandboxAQ/aqcat25', author='SandboxAQ', sha='98bf507374bdf70ca36e3d91797f9e805c61d90a', created_at=datetime.datetime(2025, 8, 29, 18, 40, 1, tzinfo=datetime.timezone.utc), last_modified=datetime.datetime(2025, 9, 11, 6, 10, 49, tzinfo=datetime.timezone.utc), private=False, gated='auto', disabled=False, downloads=146, downloads_all_time=None, likes=14, paperswithcode_id=None, tags=['license:cc-by-nc-sa-4.0', 'size_categories:10M<n<100M', 'format:parquet', 'modality:tabular', 'modality:text', 'library:datasets', 'library:pandas', 'library:mlcroissant', 'library:polars', 'region:us', 'chemistry', 'materials-science', 'machine-learning', 'catalysis', 'computational-chemistry', 'dft'], trending_score=14, card_data=None, siblings=None, xet_enabled=None),\n",
       " DatasetInfo(id='NandemoGHS/Japanese-Eroge-Voice', author='NandemoGHS', sha='b8a1ea1e2568e222f8c9ec633a565f94605c0ec8', created_at=datetime.datetime(2025, 8, 31, 11, 55, 19, tzinfo=datetime.timezone.utc), last_modified=datetime.datetime(2025, 8, 31, 15, 17, 43, tzinfo=datetime.timezone.utc), private=False, gated=False, disabled=False, downloads=1187, downloads_all_time=None, likes=18, paperswithcode_id=None, tags=['task_categories:text-to-speech', 'task_categories:automatic-speech-recognition', 'language:ja', 'license:mit', 'size_categories:100K<n<1M', 'format:webdataset', 'modality:audio', 'modality:text', 'library:datasets', 'library:webdataset', 'library:mlcroissant', 'region:us', 'speech', 'audio', 'japanese', 'asmr', 'anime', 'voice'], trending_score=13, card_data=None, siblings=None, xet_enabled=None),\n",
       " DatasetInfo(id='HuggingFaceFW/fineweb-2', author='HuggingFaceFW', sha='a8a99b128121a41b17d95901715603386f6b1daf', created_at=datetime.datetime(2024, 12, 5, 16, 23, 59, tzinfo=datetime.timezone.utc), last_modified=datetime.datetime(2025, 6, 27, 0, 43, 27, tzinfo=datetime.timezone.utc), private=False, gated=False, disabled=False, downloads=45967, downloads_all_time=None, likes=639, paperswithcode_id=None, tags=['task_categories:text-generation', 'language:aai', 'language:aak', 'language:aau', 'language:aaz', 'language:aba', 'language:abi', 'language:abk', 'language:abn', 'language:abq', 'language:abs', 'language:abt', 'language:abx', 'language:aby', 'language:abz', 'language:aca', 'language:acd', 'language:ace', 'language:acf', 'language:ach', 'language:acm', 'language:acn', 'language:acr', 'language:acu', 'language:ada', 'language:ade', 'language:adh', 'language:adi', 'language:adj', 'language:adl', 'language:ady', 'language:adz', 'language:aeb', 'language:aer', 'language:aeu', 'language:aey', 'language:afr', 'language:agd', 'language:agg', 'language:agm', 'language:agn', 'language:agr', 'language:agt', 'language:agu', 'language:agw', 'language:agx', 'language:aha', 'language:ahk', 'language:aia', 'language:aii', 'language:aim', 'language:ain', 'language:ajg', 'language:aji', 'language:ajz', 'language:akb', 'language:ake', 'language:akh', 'language:akp', 'language:alj', 'language:aln', 'language:alp', 'language:alq', 'language:als', 'language:alt', 'language:aly', 'language:alz', 'language:ame', 'language:amf', 'language:amh', 'language:ami', 'language:amk', 'language:amm', 'language:amn', 'language:amp', 'language:amr', 'language:amu', 'language:amx', 'language:ang', 'language:anm', 'language:ann', 'language:anp', 'language:anv', 'language:any', 'language:aoi', 'language:aoj', 'language:aom', 'language:aoz', 'language:apb', 'language:apc', 'language:ape', 'language:apn', 'language:apr', 'language:apt', 'language:apu', 'language:apw', 'language:apy', 'language:apz', 'language:arb', 'language:are', 'language:arg', 'language:arl', 'language:arn', 'language:arp', 'language:arq', 'language:ars', 'language:ary', 'language:arz', 'language:asg', 'language:asm', 'language:aso', 'language:ast', 'language:ata', 'language:atb', 'language:atd', 'language:atg', 'language:ati', 'language:atj', 'language:atq', 'language:att', 'language:auc', 'language:aui', 'language:auy', 'language:ava', 'language:avk', 'language:avn', 'language:avt', 'language:avu', 'language:awa', 'language:awb', 'language:awx', 'language:ayo', 'language:ayp', 'language:ayr', 'language:azb', 'language:azg', 'language:azj', 'language:azz', 'language:bak', 'language:bam', 'language:ban', 'language:bao', 'language:bar', 'language:bas', 'language:bav', 'language:bba', 'language:bbb', 'language:bbc', 'language:bbj', 'language:bbk', 'language:bbo', 'language:bbr', 'language:bch', 'language:bci', 'language:bcl', 'language:bco', 'language:bcw', 'language:bdd', 'language:bdh', 'language:bdq', 'language:bea', 'language:bef', 'language:bel', 'language:bem', 'language:ben', 'language:beq', 'language:bew', 'language:bex', 'language:bfd', 'language:bfo', 'language:bgr', 'language:bgs', 'language:bgt', 'language:bgz', 'language:bhg', 'language:bhl', 'language:bho', 'language:bhp', 'language:bhw', 'language:bhz', 'language:bib', 'language:big', 'language:bim', 'language:bin', 'language:bis', 'language:biu', 'language:biv', 'language:bjn', 'language:bjp', 'language:bjr', 'language:bjv', 'language:bkd', 'language:bkl', 'language:bkq', 'language:bku', 'language:bkv', 'language:bla', 'language:blh', 'language:blk', 'language:blw', 'language:blz', 'language:bmh', 'language:bmk', 'language:bmq', 'language:bmr', 'language:bmu', 'language:bmv', 'language:bno', 'language:bnp', 'language:boa', 'language:bod', 'language:boj', 'language:bom', 'language:bon', 'language:bos', 'language:bov', 'language:box', 'language:bpr', 'language:bps', 'language:bpy', 'language:bqc', 'language:bqj', 'language:bqp', 'language:bre', 'language:brh', 'language:bru', 'language:brx', 'language:bsc', 'language:bsn', 'language:bsp', 'language:bsq', 'language:bss', 'language:btd', 'language:bth', 'language:bts', 'language:btt', 'language:btx', 'language:bud', 'language:bug', 'language:buk', 'language:bul', 'language:bum', 'language:bus', 'language:bvc', 'language:bvd', 'language:bvr', 'language:bvz', 'language:bwd', 'language:bwi', 'language:bwq', 'language:bwu', 'language:bxh', 'language:bxr', 'language:byr', 'language:byv', 'language:byx', 'language:bzd', 'language:bzh', 'language:bzi', 'language:bzj', 'language:caa', 'language:cab', 'language:cac', 'language:caf', 'language:cag', 'language:cak', 'language:cao', 'language:cap', 'language:caq', 'language:car', 'language:cas', 'language:cat', 'language:cav', 'language:cax', 'language:cbc', 'language:cbi', 'language:cbk', 'language:cbr', 'language:cbs', 'language:cbt', 'language:cbu', 'language:cbv', 'language:cce', 'language:cco', 'language:ccp', 'language:ceb', 'language:ceg', 'language:cek', 'language:ces', 'language:cfm', 'language:cgc', 'language:cgg', 'language:cha', 'language:chd', 'language:che', 'language:chf', 'language:chj', 'language:chk', 'language:cho', 'language:chq', 'language:chr', 'language:chu', 'language:chv', 'language:chw', 'language:chz', 'language:cjk', 'language:cjo', 'language:cjp', 'language:cjs', 'language:cjv', 'language:ckb', 'language:cko', 'language:ckt', 'language:cle', 'language:clu', 'language:cly', 'language:cme', 'language:cmn', 'language:cmo', 'language:cmr', 'language:cnh', 'language:cni', 'language:cnk', 'language:cnl', 'language:cnt', 'language:cnw', 'language:coe', 'language:cof', 'language:cok', 'language:con', 'language:cop', 'language:cor', 'language:cos', 'language:cot', 'language:cou', 'language:cpa', 'language:cpb', 'language:cpc', 'language:cpu', 'language:cpy', 'language:crh', 'language:crj', 'language:crk', 'language:crl', 'language:crm', 'language:crn', 'language:crs', 'language:crt', 'language:crx', 'language:csb', 'language:csk', 'language:cso', 'language:csw', 'language:csy', 'language:cta', 'language:ctd', 'language:cto', 'language:ctp', 'language:ctu', 'language:cub', 'language:cuc', 'language:cui', 'language:cuk', 'language:cul', 'language:cut', 'language:cux', 'language:cwe', 'language:cwt', 'language:cya', 'language:cym', 'language:czt', 'language:daa', 'language:dad', 'language:daf', 'language:dag', 'language:dah', 'language:dak', 'language:dan', 'language:dar', 'language:ddg', 'language:ddn', 'language:ded', 'language:des', 'language:deu', 'language:dga', 'language:dgc', 'language:dgi', 'language:dgr', 'language:dgz', 'language:dhg', 'language:dhm', 'language:dhv', 'language:did', 'language:dig', 'language:dik', 'language:diq', 'language:dis', 'language:diu', 'language:div', 'language:dje', 'language:djk', 'language:djr', 'language:dks', 'language:dln', 'language:dng', 'language:dnj', 'language:dnw', 'language:dob', 'language:doi', 'language:dop', 'language:dos', 'language:dow', 'language:drg', 'language:dru', 'language:dsb', 'language:dtb', 'language:dtp', 'language:dts', 'language:dty', 'language:dua', 'language:due', 'language:dug', 'language:duo', 'language:dur', 'language:dwr', 'language:dww', 'language:dyi', 'language:dyo', 'language:dyu', 'language:dzo', 'language:ebk', 'language:efi', 'language:eka', 'language:ekk', 'language:eko', 'language:ell', 'language:emi', 'language:eml', 'language:emp', 'language:enb', 'language:enl', 'language:enm', 'language:enq', 'language:enx', 'language:epo', 'language:eri', 'language:ese', 'language:esi', 'language:esk', 'language:ess', 'language:esu', 'language:eto', 'language:etr', 'language:etu', 'language:eus', 'language:eve', 'language:ewe', 'language:ewo', 'language:ext', 'language:eza', 'language:faa', 'language:fad', 'language:fai', 'language:fal', 'language:fan', 'language:fao', 'language:far', 'language:fas', 'language:fat', 'language:ffm', 'language:fij', 'language:fil', 'language:fin', 'language:fit', 'language:fkv', 'language:fmu', 'language:fon', 'language:for', 'language:fra', 'language:frd', 'language:fro', 'language:frp', 'language:frr', 'language:fry', 'language:fub', 'language:fud', 'language:fue', 'language:fuf', 'language:fuh', 'language:fuq', 'language:fur', 'language:fuv', 'language:gaa', 'language:gag', 'language:gah', 'language:gai', 'language:gam', 'language:gaw', 'language:gaz', 'language:gbi', 'language:gbo', 'language:gbr', 'language:gcf', 'language:gcr', 'language:gde', 'language:gdg', 'language:gdn', 'language:gdr', 'language:geb', 'language:gej', 'language:gfk', 'language:ghs', 'language:gid', 'language:gil', 'language:giz', 'language:gjn', 'language:gkn', 'language:gla', 'language:gle', 'language:glg', 'language:glk', 'language:glv', 'language:gmh', 'language:gmv', 'language:gna', 'language:gnb', 'language:gnd', 'language:gng', 'language:gnn', 'language:gnw', 'language:goa', 'language:gof', 'language:gog', 'language:goh', 'language:gom', 'language:gor', 'language:gos', 'language:got', 'language:gqr', 'language:grc', 'language:grt', 'language:gso', 'language:gsw', 'language:gub', 'language:guc', 'language:gud', 'language:gug', 'language:guh', 'language:gui', 'language:guj', 'language:guk', 'language:gul', 'language:gum', 'language:gun', 'language:guo', 'language:guq', 'language:gur', 'language:guu', 'language:guw', 'language:gux', 'language:guz', 'language:gvc', 'language:gvf', 'language:gvl', 'language:gvn', 'language:gwi', 'language:gwr', 'language:gya', 'language:gym', 'language:gyr', 'language:hac', 'language:hae', 'language:hag', 'language:hak', 'language:hat', 'language:hav', 'language:haw', 'language:hay', 'language:hbo', 'language:hch', 'language:heb', 'language:heg', 'language:heh', 'language:her', 'language:hif', 'language:hig', 'language:hil', 'language:hin', 'language:hix', 'language:hla', 'language:hmo', 'language:hmr', 'language:hne', 'language:hnj', 'language:hnn', 'language:hns', 'language:hop', 'language:hot', 'language:hra', 'language:hrv', 'language:hrx', 'language:hsb', 'language:hto', 'language:hub', 'language:hui', 'language:hun', 'language:hus', 'language:huu', 'language:huv', 'language:hvn', 'language:hwc', 'language:hye', 'language:hyw', 'language:ian', 'language:iba', 'language:ibg', 'language:ibo', 'language:icr', 'language:ido', 'language:idu', 'language:ifa', 'language:ifb', 'language:ife', 'language:ifk', 'language:ifu', 'language:ify', 'language:ige', 'language:ign', 'language:ike', 'language:ikk', 'language:ikt', 'language:ikw', 'language:ilb', 'language:ile', 'language:ilo', 'language:imo', 'language:ina', 'language:inb', 'language:ind', 'language:inh', 'language:ino', 'language:iou', 'language:ipi', 'language:iqw', 'language:iri', 'language:irk', 'language:iry', 'language:isd', 'language:ish', 'language:isl', 'language:iso', 'language:ita', 'language:itv', 'language:ium', 'language:ivb', 'language:ivv', 'language:iws', 'language:ixl', 'language:izr', 'language:izz', 'language:jaa', 'language:jac', 'language:jae', 'language:jam', 'language:jav', 'language:jbo', 'language:jbu', 'language:jic', 'language:jiv', 'language:jmc', 'language:jpn', 'language:jra', 'language:jun', 'language:jvn', 'language:kaa', 'language:kab', 'language:kac', 'language:kak', 'language:kal', 'language:kam', 'language:kan', 'language:kao', 'language:kaq', 'language:kas', 'language:kat', 'language:kaz', 'language:kbc', 'language:kbd', 'language:kbh', 'language:kbm', 'language:kbo', 'language:kbp', 'language:kbq', 'language:kbr', 'language:kby', 'language:kca', 'language:kcg', 'language:kck', 'language:kdc', 'language:kde', 'language:kdh', 'language:kdi', 'language:kdj', 'language:kdl', 'language:kdr', 'language:kea', 'language:kei', 'language:kek', 'language:ken', 'language:keo', 'language:ker', 'language:kew', 'language:kez', 'language:kff', 'language:kgf', 'language:kgk', 'language:kgp', 'language:kgr', 'language:kha', 'language:khk', 'language:khm', 'language:khs', 'language:khz', 'language:kia', 'language:kij', 'language:kik', 'language:kin', 'language:kir', 'language:kiu', 'language:kix', 'language:kjb', 'language:kje', 'language:kjh', 'language:kjs', 'language:kkc', 'language:kki', 'language:kkj', 'language:kkl', 'language:kle', 'language:klt', 'language:klv', 'language:kmb', 'language:kmg', 'language:kmh', 'language:kmk', 'language:kmm', 'language:kmo', 'language:kmr', 'language:kms', 'language:kmu', 'language:kmy', 'language:knc', 'language:kne', 'language:knf', 'language:kng', 'language:knj', 'language:knk', 'language:kno', 'language:knv', 'language:knx', 'language:kny', 'language:kog', 'language:koi', 'language:koo', 'language:kor', 'language:kos', 'language:kpe', 'language:kpf', 'language:kpg', 'language:kpj', 'language:kpq', 'language:kpr', 'language:kpv', 'language:kpw', 'language:kpx', 'language:kpz', 'language:kqc', 'language:kqe', 'language:kqf', 'language:kql', 'language:kqn', 'language:kqo', 'language:kqp', 'language:kqs', 'language:kqw', 'language:kqy', 'language:krc', 'language:kri', 'language:krj', 'language:krl', 'language:kru', 'language:krx', 'language:ksb', 'language:ksc', 'language:ksd', 'language:ksf', 'language:ksh', 'language:ksj', 'language:ksp', 'language:ksr', 'language:kss', 'language:ksw', 'language:ktb', 'language:ktj', 'language:ktm', 'language:kto', 'language:ktu', 'language:ktz', 'language:kua', 'language:kub', 'language:kud', 'language:kue', 'language:kuj', 'language:kum', 'language:kup', 'language:kus', 'language:kvg', 'language:kvj', 'language:kvn', 'language:kwd', 'language:kwf', 'language:kwi', 'language:kwj', 'language:kwn', 'language:kwy', 'language:kxc', 'language:kxm', 'language:kxw', 'language:kyc', 'language:kyf', 'language:kyg', 'language:kyq', 'language:kyu', 'language:kyz', 'language:kze', 'language:kzf', 'language:kzj', 'language:lac', 'language:lad', 'language:lai', 'language:laj', 'language:lam', 'language:lao', 'language:lap', 'language:lat', 'language:lbb', 'language:lbe', 'language:lbj', 'language:lbk', 'language:lcm', 'language:lcp', 'language:ldi', 'language:ldn', 'language:lee', 'language:lef', 'language:leh', 'language:lem', 'language:leu', 'language:lew', 'language:lex', 'language:lez', 'language:lfn', 'language:lgg', 'language:lgl', 'language:lgm', 'language:lhi', 'language:lhu', 'language:lia', 'language:lid', 'language:lif', 'language:lij', 'language:lim', 'language:lin', 'language:lip', 'language:lis', 'language:lit', 'language:liv', 'language:ljp', 'language:lki', 'language:llb', 'language:lld', 'language:llg', 'language:lln', 'language:lmk', 'language:lmo', 'language:lmp', 'language:lnd', 'language:lob', 'language:loe', 'language:log', 'language:lok', 'language:lol', 'language:lom', 'language:loq', 'language:loz', 'language:lrc', 'language:lsi', 'language:lsm', 'language:ltg', 'language:ltz', 'language:lua', 'language:lub', 'language:luc', 'language:lud', 'language:lue', 'language:lug', 'language:lun', 'language:luo', 'language:lus', 'language:lvs', 'language:lwg', 'language:lwo', 'language:lww', 'language:lzh', 'language:maa', 'language:mad', 'language:maf', 'language:mag', 'language:mah', 'language:mai', 'language:maj', 'language:mak', 'language:mal', 'language:mam', 'language:maq', 'language:mar', 'language:mas', 'language:mau', 'language:mav', 'language:maw', 'language:maz', 'language:mbb', 'language:mbc', 'language:mbd', 'language:mbf', 'language:mbh', 'language:mbi', 'language:mbj', 'language:mbl', 'language:mbs', 'language:mbt', 'language:mca', 'language:mcb', 'language:mcd', 'language:mcf', 'language:mck', 'language:mcn', 'language:mco', 'language:mcp', 'language:mcq', 'language:mcu', 'language:mda', 'language:mdf', 'language:mdy', 'language:med', 'language:mee', 'language:mej', 'language:mek', 'language:men', 'language:meq', 'language:mer', 'language:met', 'language:meu', 'language:mev', 'language:mfe', 'language:mfg', 'language:mfh', 'language:mfi', 'language:mfk', 'language:mfq', 'language:mfy', 'language:mfz', 'language:mgc', 'language:mgh', 'language:mgo', 'language:mgr', 'language:mhi', 'language:mhl', 'language:mhr', 'language:mhw', 'language:mhx', 'language:mhy', 'language:mib', 'language:mic', 'language:mie', 'language:mif', 'language:mig', 'language:mih', 'language:mil', 'language:mim', 'language:min', 'language:mio', 'language:mip', 'language:miq', 'language:mir', 'language:mit', 'language:miy', 'language:miz', 'language:mjc', 'language:mjw', 'language:mkd', 'language:mkl', 'language:mkn', 'language:mks', 'language:mkz', 'language:mlh', 'language:mlp', 'language:mlt', 'language:mlu', 'language:mmn', 'language:mmo', 'language:mmx', 'language:mna', 'language:mnb', 'language:mnf', 'language:mni', 'language:mnk', 'language:mns', 'language:mnw', 'language:mnx', 'language:mny', 'language:moa', 'language:moc', 'language:mog', 'language:moh', 'language:mop', 'language:mor', 'language:mos', 'language:mox', 'language:mpg', 'language:mph', 'language:mpm', 'language:mpp', 'language:mps', 'language:mpt', 'language:mpx', 'language:mqb', 'language:mqj', 'language:mqy', 'language:mrg', 'language:mri', 'language:mrj', 'language:mrq', 'language:mrv', 'language:mrw', 'language:msb', 'language:msc', 'language:mse', 'language:msk', 'language:msy', 'language:mta', 'language:mtg', 'language:mti', 'language:mto', 'language:mtp', 'language:mua', 'language:mug', 'language:muh', 'language:mui', 'language:mup', 'language:mur', 'language:mus', 'language:mux', 'language:muy', 'language:mva', 'language:mvn', 'language:mvp', 'language:mwc', 'language:mwf', 'language:mwl', 'language:mwm', 'language:mwn', 'language:mwp', 'language:mwq', 'language:mwv', 'language:mww', 'language:mxb', 'language:mxp', 'language:mxq', 'language:mxt', 'language:mxv', 'language:mya', 'language:myb', 'language:myk', 'language:myu', 'language:myv', 'language:myw', 'language:myx', 'language:myy', 'language:mza', 'language:mzh', 'language:mzk', 'language:mzl', 'language:mzm', 'language:mzn', 'language:mzw', 'language:mzz', 'language:nab', 'language:naf', 'language:nah', 'language:nak', 'language:nap', 'language:naq', 'language:nas', 'language:nav', 'language:naw', 'language:nba', 'language:nbc', 'language:nbe', 'language:nbl', 'language:nbq', 'language:nbu', 'language:nca', 'language:nch', 'language:ncj', 'language:ncl', 'language:ncq', 'language:nct', 'language:ncu', 'language:ncx', 'language:ndc', 'language:nde', 'language:ndh', 'language:ndi', 'language:ndj', 'language:ndo', 'language:nds', 'language:ndz', 'language:neb', 'language:new', 'language:nfa', 'language:nfr', 'language:ngb', 'language:ngc', 'language:ngl', 'language:ngp', 'language:ngu', 'language:nhd', 'language:nhe', 'language:nhg', 'language:nhi', 'language:nhk', 'language:nho', 'language:nhr', 'language:nhu', 'language:nhw', 'language:nhx', 'language:nhy', 'language:nia', 'language:nif', 'language:nii', 'language:nij', 'language:nim', 'language:nin', 'language:nio', 'language:niu', 'language:niy', 'language:njb', 'language:njm', 'language:njn', 'language:njo', 'language:njz', 'language:nkf', 'language:nko', 'language:nld', 'language:nlg', 'language:nma', 'language:nmf', 'language:nmh', 'language:nmo', 'language:nmw', 'language:nmz', 'language:nnb', 'language:nng', 'language:nnh', 'language:nnl', 'language:nno', 'language:nnp', 'language:nnq', 'language:nnw', 'language:noa', 'language:nob', 'language:nod', 'language:nog', 'language:non', 'language:nop', 'language:not', 'language:nou', 'language:nov', 'language:nph', 'language:npi', 'language:npl', 'language:npo', 'language:npy', 'language:nqo', 'language:nre', 'language:nrf', 'language:nri', 'language:nrm', 'language:nsa', 'language:nse', 'language:nsm', 'language:nsn', 'language:nso', 'language:nss', 'language:nst', 'language:nsu', 'language:ntp', 'language:ntr', 'language:ntu', 'language:nuj', 'language:nus', 'language:nuy', 'language:nvm', 'language:nwb', 'language:nwi', 'language:nwx', 'language:nxd', 'language:nya', 'language:nyf', 'language:nyk', 'language:nyn', 'language:nyo', 'language:nyu', 'language:nyy', 'language:nza', 'language:nzi', 'language:nzm', 'language:obo', 'language:oci', 'language:ogo', 'language:ojb', 'language:oke', 'language:oku', 'language:okv', 'language:old', 'language:olo', 'language:omb', 'language:omw', 'language:ong', 'language:ons', 'language:ood', 'language:opm', 'language:orv', 'language:ory', 'language:oss', 'language:ota', 'language:otd', 'language:ote', 'language:otm', 'language:otn', 'language:oto', 'language:otq', 'language:ots', 'language:otw', 'language:oym', 'language:ozm', 'language:pab', 'language:pad', 'language:pag', 'language:pah', 'language:pam', 'language:pan', 'language:pao', 'language:pap', 'language:pau', 'language:pbb', 'language:pbc', 'language:pbi', 'language:pbt', 'language:pcd', 'language:pck', 'language:pcm', 'language:pdc', 'language:pdt', 'language:pem', 'language:pfe', 'language:pfl', 'language:phm', 'language:pib', 'language:pio', 'language:pir', 'language:pis', 'language:pjt', 'language:pkb', 'language:plg', 'language:pls', 'language:plt', 'language:plu', 'language:plw', 'language:pma', 'language:pmf', 'language:pmq', 'language:pms', 'language:pmx', 'language:pnb', 'language:pne', 'language:pnt', 'language:pny', 'language:poe', 'language:poh', 'language:poi', 'language:pol', 'language:pon', 'language:por', 'language:pos', 'language:pot', 'language:pov', 'language:poy', 'language:ppk', 'language:ppo', 'language:pps', 'language:prf', 'language:prg', 'language:pri', 'language:prq', 'language:pse', 'language:pss', 'language:ptp', 'language:ptu', 'language:pui', 'language:pwg', 'language:pwn', 'language:pww', 'language:pxm', 'language:qub', 'language:quc', 'language:quf', 'language:qug', 'language:quh', 'language:qul', 'language:qup', 'language:qus', 'language:quw', 'language:quy', 'language:quz', 'language:qva', 'language:qvc', 'language:qve', 'language:qvh', 'language:qvi', 'language:qvm', 'language:qvn', 'language:qvo', 'language:qvs', 'language:qvw', 'language:qvz', 'language:qwh', 'language:qxh', 'language:qxl', 'language:qxn', 'language:qxo', 'language:qxr', 'language:rad', 'language:rai', 'language:rap', 'language:rar', 'language:rav', 'language:raw', 'language:rcf', 'language:rej', 'language:rel', 'language:rgu', 'language:rhg', 'language:ria', 'language:rim', 'language:rjs', 'language:rkb', 'language:rmc', 'language:rme', 'language:rml', 'language:rmn', 'language:rmo', 'language:rmq', 'language:rmy', 'language:rnd', 'language:rng', 'language:rnl', 'language:roh', 'language:ron', 'language:roo', 'language:rop', 'language:row', 'language:rro', 'language:rtm', 'language:rub', 'language:rue', 'language:ruf', 'language:rug', 'language:run', 'language:rup', 'language:rus', 'language:rwo', 'language:sab', 'language:sag', 'language:sah', 'language:san', 'language:sas', 'language:sat', 'language:sba', 'language:sbd', 'language:sbe', 'language:sbl', 'language:sbs', 'language:sby', 'language:sck', 'language:scn', 'language:sco', 'language:sda', 'language:sdc', 'language:sdh', 'language:sdo', 'language:sdq', 'language:seh', 'language:ses', 'language:sey', 'language:sfw', 'language:sgb', 'language:sgc', 'language:sgh', 'language:sgs', 'language:sgw', 'language:sgz', 'language:shi', 'language:shk', 'language:shn', 'language:shp', 'language:shu', 'language:sid', 'language:sig', 'language:sil', 'language:sim', 'language:sin', 'language:sja', 'language:sjo', 'language:sju', 'language:skg', 'language:skr', 'language:sld', 'language:slk', 'language:sll', 'language:slv', 'language:sma', 'language:sme', 'language:smj', 'language:smk', 'language:sml', 'language:smn', 'language:smo', 'language:sms', 'language:smt', 'language:sna', 'language:snc', 'language:snd', 'language:snf', 'language:snn', 'language:snp', 'language:snw', 'language:sny', 'language:soe', 'language:som', 'language:sop', 'language:soq', 'language:sot', 'language:soy', 'language:spa', 'language:spl', 'language:spm', 'language:spp', 'language:sps', 'language:spy', 'language:srd', 'language:sri', 'language:srm', 'language:srn', 'language:srp', 'language:srq', 'language:srr', 'language:ssd', 'language:ssg', 'language:ssw', 'language:ssx', 'language:stn', 'language:stp', 'language:stq', 'language:sua', 'language:suc', 'language:sue', 'language:suk', 'language:sun', 'language:sur', 'language:sus', 'language:suz', 'language:swb', 'language:swc', 'language:swe', 'language:swg', 'language:swh', 'language:swk', 'language:swp', 'language:sxb', 'language:sxn', 'language:syb', 'language:syc', 'language:syl', 'language:szl', 'language:szy', 'language:tab', 'language:tac', 'language:tah', 'language:taj', 'language:tam', 'language:tap', 'language:taq', 'language:tar', 'language:tat', 'language:tav', 'language:taw', 'language:tay', 'language:tbc', 'language:tbg', 'language:tbk', 'language:tbl', 'language:tbo', 'language:tbw', 'language:tby', 'language:tbz', 'language:tca', 'language:tcc', 'language:tcf', 'language:tcs', 'language:tcy', 'language:tcz', 'language:ted', 'language:tee', 'language:tel', 'language:tem', 'language:teo', 'language:ter', 'language:tet', 'language:tew', 'language:tfr', 'language:tgk', 'language:tgo', 'language:tgp', 'language:tha', 'language:thk', 'language:thl', 'language:tif', 'language:tig', 'language:tih', 'language:tik', 'language:tim', 'language:tir', 'language:tiv', 'language:tiy', 'language:tke', 'language:tkl', 'language:tkr', 'language:tku', 'language:tlb', 'language:tlf', 'language:tlh', 'language:tlj', 'language:tll', 'language:tly', 'language:tmc', 'language:tmd', 'language:tna', 'language:tnc', 'language:tnk', 'language:tnn', 'language:tnp', 'language:tnr', 'language:tob', 'language:toc', 'language:tod', 'language:tog', 'language:toh', 'language:toi', 'language:toj', 'language:tok', 'language:ton', 'language:too', 'language:top', 'language:tos', 'language:tpa', 'language:tpi', 'language:tpm', 'language:tpp', 'language:tpt', 'language:tpw', 'language:tpz', 'language:tqo', 'language:trc', 'language:trn', 'language:tro', 'language:trp', 'language:trq', 'language:trs', 'language:trv', 'language:tsc', 'language:tsg', 'language:tsn', 'language:tso', 'language:tsw', 'language:tsz', 'language:ttc', 'language:tte', 'language:ttj', 'language:ttq', 'language:tuc', 'language:tue', 'language:tuf', 'language:tui', 'language:tuk', 'language:tul', 'language:tum', 'language:tuo', 'language:tur', 'language:tuv', 'language:tvk', 'language:tvl', 'language:twi', 'language:twu', 'language:twx', 'language:txq', 'language:txu', 'language:tyv', 'language:tzh', 'language:tzj', 'language:tzl', 'language:tzm', 'language:tzo', 'language:ubr', 'language:ubu', 'language:udm', 'language:udu', 'language:uig', 'language:ukr', 'language:umb', 'language:upv', 'language:ura', 'language:urb', 'language:urd', 'language:urh', 'language:uri', 'language:urk', 'language:urt', 'language:urw', 'language:ury', 'language:usa', 'language:usp', 'language:uth', 'language:uvh', 'language:uvl', 'language:uzn', 'language:uzs', 'language:vag', 'language:vap', 'language:var', 'language:vec', 'language:ven', 'language:vep', 'language:vid', 'language:vie', 'language:viv', 'language:vls', 'language:vmk', 'language:vmw', 'language:vmy', 'language:vol', 'language:vot', 'language:vro', 'language:vun', 'language:vut', 'language:waj', 'language:wal', 'language:wap', 'language:war', 'language:wat', 'language:way', 'language:wba', 'language:wbm', 'language:wbp', 'language:wed', 'language:wer', 'language:wes', 'language:wew', 'language:whg', 'language:whk', 'language:wib', 'language:wim', 'language:wiu', 'language:wln', 'language:wls', 'language:wlv', 'language:wlx', 'language:wmt', 'language:wmw', 'language:wnc', 'language:wnu', 'language:wob', 'language:wol', 'language:wos', 'language:wrk', 'language:wrs', 'language:wsg', 'language:wsk', 'language:wuu', 'language:wuv', 'language:wwa', 'language:xal', 'language:xav', 'language:xbi', 'language:xbr', 'language:xed', 'language:xho', 'language:xla', 'language:xmf', 'language:xmm', 'language:xmv', 'language:xnn', 'language:xog', 'language:xon', 'language:xrb', 'language:xsb', 'language:xsi', 'language:xsm', 'language:xsr', 'language:xsu', 'language:xtd', 'language:xtm', 'language:xtn', 'language:xuo', 'language:yaa', 'language:yad', 'language:yal', 'language:yam', 'language:yan', 'language:yao', 'language:yap', 'language:yaq', 'language:yat', 'language:yaz', 'language:ybb', 'language:yby', 'language:ycn', 'language:ydd', 'language:yim', 'language:yka', 'language:yle', 'language:yli', 'language:yml', 'language:yom', 'language:yon', 'language:yor', 'language:yrb', 'language:yre', 'language:yrk', 'language:yrl', 'language:yss', 'language:yua', 'language:yue', 'language:yuj', 'language:yup', 'language:yut', 'language:yuw', 'language:yuz', 'language:yva', 'language:zaa', 'language:zab', 'language:zac', 'language:zad', 'language:zae', 'language:zai', 'language:zam', 'language:zao', 'language:zar', 'language:zas', 'language:zat', 'language:zav', 'language:zaw', 'language:zca', 'language:zdj', 'language:zea', 'language:zgh', 'language:zia', 'language:ziw', 'language:zne', 'language:zom', 'language:zos', 'language:zpa', 'language:zpc', 'language:zpg', 'language:zpi', 'language:zpj', 'language:zpl', 'language:zpm', 'language:zpo', 'language:zpq', 'language:zpt', 'language:zpu', 'language:zpv', 'language:zpz', 'language:zsm', 'language:zsr', 'language:ztq', 'language:zty', 'language:zul', 'language:zyb', 'language:zyp', 'license:odc-by', 'size_categories:1B<n<10B', 'modality:tabular', 'modality:text', 'arxiv:2506.20920', 'arxiv:2109.07445', 'arxiv:2406.17557', 'doi:10.57967/hf/3744', 'region:us'], trending_score=12, card_data=None, siblings=None, xet_enabled=None),\n",
       " DatasetInfo(id='ASLP-lab/WenetSpeech-Yue', author='ASLP-lab', sha='62d0a2407c9bba6962b0b51d0f731a405b612b60', created_at=datetime.datetime(2025, 8, 22, 15, 5, 18, tzinfo=datetime.timezone.utc), last_modified=datetime.datetime(2025, 9, 8, 2, 16, 37, tzinfo=datetime.timezone.utc), private=False, gated=False, disabled=False, downloads=919, downloads_all_time=None, likes=24, paperswithcode_id=None, tags=['license:cc-by-nc-4.0', 'arxiv:2509.03959', 'region:us'], trending_score=12, card_data=None, siblings=None, xet_enabled=None),\n",
       " DatasetInfo(id='GeoGPT-Research-Project/GeoGPT-QA', author='GeoGPT-Research-Project', sha='bf1735747becf979ec701906dd86f2cd6841f7fa', created_at=datetime.datetime(2025, 9, 5, 1, 55, 58, tzinfo=datetime.timezone.utc), last_modified=datetime.datetime(2025, 9, 5, 2, 0, 21, tzinfo=datetime.timezone.utc), private=False, gated=False, disabled=False, downloads=298, downloads_all_time=None, likes=13, paperswithcode_id=None, tags=['language:en', 'license:cc-by-4.0', 'size_categories:10K<n<100K', 'format:csv', 'modality:tabular', 'modality:text', 'library:datasets', 'library:pandas', 'library:mlcroissant', 'library:polars', 'region:us', 'geoscience'], trending_score=11, card_data=None, siblings=None, xet_enabled=None),\n",
       " DatasetInfo(id='continuedev/instinct-data', author='continuedev', sha='e557e3ed1ea2c28b9c6b7cc46d670aa3cd451c29', created_at=datetime.datetime(2025, 9, 4, 14, 10, 24, tzinfo=datetime.timezone.utc), last_modified=datetime.datetime(2025, 9, 4, 18, 25, 6, tzinfo=datetime.timezone.utc), private=False, gated=False, disabled=False, downloads=733, downloads_all_time=None, likes=24, paperswithcode_id=None, tags=['license:apache-2.0', 'size_categories:1K<n<10K', 'format:parquet', 'modality:text', 'library:datasets', 'library:pandas', 'library:mlcroissant', 'library:polars', 'region:us'], trending_score=10, card_data=None, siblings=None, xet_enabled=None),\n",
       " DatasetInfo(id='SpatialVID/SpatialVID', author='SpatialVID', sha='4e6a5585f53cd1eefef2a047029e3da751345540', created_at=datetime.datetime(2025, 9, 8, 3, 27, 11, tzinfo=datetime.timezone.utc), last_modified=datetime.datetime(2025, 9, 14, 3, 25, 17, tzinfo=datetime.timezone.utc), private=False, gated=False, disabled=False, downloads=8620, downloads_all_time=None, likes=10, paperswithcode_id=None, tags=['task_categories:text-to-video', 'task_categories:text-to-3d', 'task_categories:image-to-3d', 'task_categories:image-to-video', 'task_categories:other', 'language:en', 'license:cc-by-nc-sa-4.0', 'size_categories:1M<n<10M', 'format:csv', 'modality:tabular', 'modality:text', 'library:datasets', 'library:pandas', 'library:mlcroissant', 'library:polars', 'arxiv:2509.09676', 'region:us'], trending_score=10, card_data=None, siblings=None, xet_enabled=None),\n",
       " DatasetInfo(id='HuggingFaceFW/fineweb', author='HuggingFaceFW', sha='9bb295ddab0e05d785b879661af7260fed5140fc', created_at=datetime.datetime(2024, 4, 18, 14, 33, 13, tzinfo=datetime.timezone.utc), last_modified=datetime.datetime(2025, 7, 11, 20, 16, 53, tzinfo=datetime.timezone.utc), private=False, gated=False, disabled=False, downloads=328006, downloads_all_time=None, likes=2360, paperswithcode_id=None, tags=['task_categories:text-generation', 'language:en', 'license:odc-by', 'size_categories:10B<n<100B', 'modality:tabular', 'modality:text', 'arxiv:2306.01116', 'arxiv:2109.07445', 'arxiv:2406.17557', 'doi:10.57967/hf/2493', 'region:us'], trending_score=9, card_data=None, siblings=None, xet_enabled=None),\n",
       " DatasetInfo(id='alexandrainst/multi-wiki-qa', author='alexandrainst', sha='ba39d058e198b8515fc3959c3e05902fc8f7d3e4', created_at=datetime.datetime(2025, 5, 22, 7, 38, 44, tzinfo=datetime.timezone.utc), last_modified=datetime.datetime(2025, 9, 6, 15, 53, 30, tzinfo=datetime.timezone.utc), private=False, gated=False, disabled=False, downloads=2194, downloads_all_time=None, likes=12, paperswithcode_id=None, tags=['task_categories:question-answering', 'language:ab', 'language:ace', 'language:ady', 'language:af', 'language:als', 'language:alt', 'language:am', 'language:ami', 'language:an', 'language:ang', 'language:anp', 'language:ar', 'language:arc', 'language:ary', 'language:arz', 'language:as', 'language:ast', 'language:atj', 'language:av', 'language:avk', 'language:awa', 'language:ay', 'language:az', 'language:azb', 'language:ba', 'language:ban', 'language:bar', 'language:bcl', 'language:be', 'language:bg', 'language:bi', 'language:bjn', 'language:blk', 'language:bm', 'language:bn', 'language:bo', 'language:bpy', 'language:br', 'language:bs', 'language:bug', 'language:bxr', 'language:ca', 'language:cdo', 'language:ce', 'language:ceb', 'language:ch', 'language:chr', 'language:chy', 'language:ckb', 'language:co', 'language:cr', 'language:crh', 'language:cs', 'language:csb', 'language:cu', 'language:cv', 'language:cy', 'language:da', 'language:dag', 'language:de', 'language:din', 'language:diq', 'language:dsb', 'language:dty', 'language:dv', 'language:dz', 'language:ee', 'language:el', 'language:en', 'language:eo', 'language:es', 'language:et', 'language:eu', 'language:ext', 'language:fa', 'language:fat', 'language:ff', 'language:fi', 'language:fj', 'language:fo', 'language:fon', 'language:fr', 'language:frp', 'language:frr', 'language:fur', 'language:fy', 'language:ga', 'language:gag', 'language:gan', 'language:gcr', 'language:gd', 'language:gl', 'language:glk', 'language:gn', 'language:gom', 'language:gor', 'language:got', 'language:gpe', 'language:gu', 'language:guc', 'language:gur', 'language:guw', 'language:gv', 'language:ha', 'language:hak', 'language:haw', 'language:he', 'language:hi', 'language:hif', 'language:hr', 'language:hsb', 'language:ht', 'language:hu', 'language:hy', 'language:hyw', 'language:ia', 'language:id', 'language:ie', 'language:ig', 'language:ik', 'language:ilo', 'language:inh', 'language:io', 'language:is', 'language:it', 'language:iu', 'language:ja', 'language:jam', 'language:jbo', 'language:ka', 'language:kaa', 'language:kab', 'language:kbd', 'language:kbp', 'language:kcg', 'language:kg', 'language:ki', 'language:kk', 'language:kl', 'language:km', 'language:kn', 'language:ko', 'language:koi', 'language:krc', 'language:ks', 'language:ku', 'language:kv', 'language:kw', 'language:ky', 'language:la', 'language:lad', 'language:lb', 'language:lbe', 'language:lez', 'language:lfn', 'language:lg', 'language:li', 'language:lij', 'language:lld', 'language:lmo', 'language:ln', 'language:lo', 'language:lt', 'language:ltg', 'language:lv', 'language:mad', 'language:mai', 'language:mdf', 'language:mg', 'language:mhr', 'language:mi', 'language:min', 'language:mk', 'language:ml', 'language:mn', 'language:mni', 'language:mnw', 'language:mr', 'language:mrj', 'language:ms', 'language:mt', 'language:mwl', 'language:my', 'language:myv', 'language:mzn', 'language:nap', 'language:nds', 'language:ne', 'language:new', 'language:nia', 'language:nl', 'language:nn', 'language:no', 'language:nov', 'language:nqo', 'language:nso', 'language:nv', 'language:ny', 'language:oc', 'language:olo', 'language:om', 'language:or', 'language:os', 'language:pa', 'language:pag', 'language:pam', 'language:pap', 'language:pcd', 'language:pcm', 'language:pdc', 'language:pfl', 'language:pi', 'language:pl', 'language:pms', 'language:pnb', 'language:pnt', 'language:ps', 'language:pt', 'language:pwn', 'language:qu', 'language:rm', 'language:rmy', 'language:rn', 'language:ro', 'language:ru', 'language:rue', 'language:rw', 'language:sa', 'language:sah', 'language:sat', 'language:sc', 'language:scn', 'language:sco', 'language:sd', 'language:se', 'language:sg', 'language:shi', 'language:shn', 'language:si', 'language:sk', 'language:skr', 'language:sl', 'language:sm', 'language:smn', 'language:sn', 'language:so', 'language:sq', 'language:sr', 'language:srn', 'language:ss', 'language:st', 'language:stq', 'language:su', 'language:sv', 'language:sw', 'language:szl', 'language:szy', 'language:ta', 'language:tay', 'language:tcy', 'language:te', 'language:tet', 'language:tg', 'language:th', 'language:ti', 'language:tk', 'language:tl', 'language:tly', 'language:tn', 'language:to', 'language:tpi', 'language:tr', 'language:trv', 'language:ts', 'language:tt', 'language:tum', 'language:tw', 'language:ty', 'language:tyv', 'language:udm', 'language:ug', 'language:uk', 'language:ur', 'language:uz', 'language:ve', 'language:vec', 'language:vep', 'language:vi', 'language:vls', 'language:vo', 'language:wa', 'language:war', 'language:wo', 'language:wuu', 'language:xal', 'language:xh', 'language:xmf', 'language:yi', 'language:yo', 'language:yue', 'language:za', 'language:zea', 'language:zh', 'language:zu', 'license:cc-by-nc-sa-4.0', 'size_categories:1M<n<10M', 'modality:text', 'arxiv:2509.04111', 'region:us'], trending_score=9, card_data=None, siblings=None, xet_enabled=None),\n",
       " DatasetInfo(id='facebook/recycling_the_web', author='facebook', sha='c4a34bc4b6b72f8b32ede1584f3f7018a2392e9e', created_at=datetime.datetime(2025, 7, 21, 21, 53, 45, tzinfo=datetime.timezone.utc), last_modified=datetime.datetime(2025, 8, 28, 0, 16, 3, tzinfo=datetime.timezone.utc), private=False, gated=False, disabled=False, downloads=8423, downloads_all_time=None, likes=66, paperswithcode_id=None, tags=['language:en', 'license:cc-by-nc-4.0', 'size_categories:10M<n<100M', 'format:json', 'modality:text', 'library:datasets', 'library:dask', 'library:mlcroissant', 'arxiv:2506.04689', 'region:us', 'synthetic_data', 'LLM_pretraining', 'guided_rewriting'], trending_score=9, card_data=None, siblings=None, xet_enabled=None),\n",
       " DatasetInfo(id='SpatialVID/SpatialVID-HQ', author='SpatialVID', sha='22a35e54f851b5b7d3b85191966dfd262248a5da', created_at=datetime.datetime(2025, 9, 6, 5, 45, 44, tzinfo=datetime.timezone.utc), last_modified=datetime.datetime(2025, 9, 14, 3, 26, 55, tzinfo=datetime.timezone.utc), private=False, gated=False, disabled=False, downloads=4343, downloads_all_time=None, likes=11, paperswithcode_id=None, tags=['task_categories:text-to-video', 'task_categories:text-to-3d', 'task_categories:image-to-3d', 'task_categories:image-to-video', 'task_categories:other', 'language:en', 'license:cc-by-nc-sa-4.0', 'size_categories:100K<n<1M', 'format:csv', 'modality:tabular', 'modality:text', 'library:datasets', 'library:pandas', 'library:mlcroissant', 'library:polars', 'arxiv:2509.09676', 'region:us'], trending_score=9, card_data=None, siblings=None, xet_enabled=None),\n",
       " DatasetInfo(id='toloka/VOX-DUB', author='toloka', sha='978573a31d3d2404bf9b956efa240fd71ed9f7d8', created_at=datetime.datetime(2025, 9, 8, 9, 31, 4, tzinfo=datetime.timezone.utc), last_modified=datetime.datetime(2025, 9, 10, 13, 15, 2, tzinfo=datetime.timezone.utc), private=False, gated=False, disabled=False, downloads=374, downloads_all_time=None, likes=9, paperswithcode_id=None, tags=['task_categories:text-to-speech', 'language:en', 'language:es', 'size_categories:1K<n<10K', 'format:parquet', 'modality:audio', 'modality:text', 'library:datasets', 'library:pandas', 'library:mlcroissant', 'library:polars', 'region:us', 'dubbing', 'tts'], trending_score=9, card_data=None, siblings=None, xet_enabled=None)]"
      ]
     },
     "execution_count": 58,
     "metadata": {},
     "output_type": "execute_result"
    }
   ],
   "source": [
    "from huggingface_hub import list_datasets\n",
    "from datasets import load_dataset\n",
    "\n",
    "# List available datasets\n",
    "datasets_list = list(list_datasets())\n",
    "print(f\"Total datasets: {len(datasets_list)}\")\n",
    "datasets_list[:20]  # show first 20\n",
    "\n",
    "\n"
   ]
  }
 ],
 "metadata": {
  "colab": {
   "authorship_tag": "ABX9TyOyy7+Ectvg2hD/n2aCYqZq",
   "provenance": []
  },
  "kernelspec": {
   "display_name": "Python 3",
   "name": "python3"
  },
  "language_info": {
   "name": "python"
  }
 },
 "nbformat": 4,
 "nbformat_minor": 0
}
